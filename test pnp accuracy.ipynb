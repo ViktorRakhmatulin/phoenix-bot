{
 "cells": [
  {
   "cell_type": "code",
   "execution_count": 1,
   "id": "e5ea1636",
   "metadata": {},
   "outputs": [],
   "source": [
    "from scipy.spatial.transform import Rotation as R\n",
    "import numpy as np\n",
    "import random\n",
    "import cv2 "
   ]
  },
  {
   "cell_type": "code",
   "execution_count": null,
   "id": "e5ffc28f",
   "metadata": {},
   "outputs": [],
   "source": [
    "np.log(0.01)/(np.log(1- (0.7)**4))"
   ]
  },
  {
   "cell_type": "code",
   "execution_count": 799,
   "id": "2079e90f",
   "metadata": {},
   "outputs": [
    {
     "name": "stdout",
     "output_type": "stream",
     "text": [
      "1.923627562251257\n"
     ]
    }
   ],
   "source": [
    "rot = R.from_euler('xyz',[1.25,1.29,0.73],degrees = True)\n",
    "\n",
    "print(np.linalg.norm(rot.as_rotvec())*57)"
   ]
  },
  {
   "cell_type": "code",
   "execution_count": 627,
   "id": "0123f407",
   "metadata": {},
   "outputs": [],
   "source": [
    "R.from_euler?"
   ]
  },
  {
   "cell_type": "code",
   "execution_count": 2,
   "id": "6fdaa8c7",
   "metadata": {},
   "outputs": [],
   "source": [
    "def get_points_from_CAD():\n",
    "    # we consider that marker has 40 mm length\n",
    "# keypoints are defined from the CAD data\n",
    "    \"\"\"\n",
    "    defines keypoints and holes' centers in marker CS\n",
    "    \"\"\"\n",
    "    keypoints = np.zeros((14,2))\n",
    "    i = 0\n",
    "    keypoints[2*i] = [6.143, 37.51]\n",
    "    keypoints[2*i+1] = [-keypoints[2*i][0], keypoints[2*i][1]]\n",
    "    i+=1\n",
    "    keypoints[2*i] = [27.213, 28.666]\n",
    "    keypoints[2*i+1] = [-keypoints[2*i][0], keypoints[2*i][1]]\n",
    "    i+=1\n",
    "    keypoints[2*i] = [13.161, 26.86]\n",
    "    keypoints[2*i+1] = [-keypoints[2*i][0], keypoints[2*i][1]]\n",
    "    i+=1\n",
    "    keypoints[2*i] = [27.707, 19.26]\n",
    "    keypoints[2*i+1] = [-keypoints[2*i][0], keypoints[2*i][1]]\n",
    "    i+=1\n",
    "    keypoints[2*i] = [38.253, 5.53]\n",
    "    keypoints[2*i+1] = [-keypoints[2*i][0], keypoints[2*i][1]]\n",
    "    i+=1\n",
    "    keypoints[2*i] = [19.9, -27.273]\n",
    "    keypoints[2*i+1] = [-keypoints[2*i][0], keypoints[2*i][1]]\n",
    "    i+=1\n",
    "    keypoints[2*i] = [20.4, -29.39]\n",
    "    keypoints[2*i+1] = [-keypoints[2*i][0], keypoints[2*i][1]]\n",
    "    i+=1\n",
    "\n",
    "    anchors = np.zeros((7,3))\n",
    "\n",
    "    anchors[0] = [0.0, 0.0, 2.25]\n",
    "    anchors[1] = [8.0, 11.2, 2.25]\n",
    "    anchors[2] = anchors[1].copy()\n",
    "    anchors[2][0] *= -1\n",
    "    anchors[3] = [16.0, 0, 2.25]\n",
    "    anchors[4] = anchors[3].copy()\n",
    "    anchors[4][0] *= -1\n",
    "    anchors[5] = [8.0, -13.86, 2.25]\n",
    "    anchors[6] = anchors[5].copy()\n",
    "    anchors[6][0] *= -1\n",
    "    \n",
    "    return keypoints, anchors[:,:2]"
   ]
  },
  {
   "cell_type": "code",
   "execution_count": 3,
   "id": "79dc9c5b",
   "metadata": {},
   "outputs": [],
   "source": [
    "def to_rvec_tvec(tf):\n",
    "    rvec = R.from_matrix(tf[:3,:3]).as_rotvec()\n",
    "    tvec = tf[:3,3]\n",
    "    return rvec,tvec    \n",
    "    \n",
    "def get_default_realsense_intrinsic():\n",
    "    intr = np.eye(3, dtype=float)\n",
    "    intr[0, 0] = 633.22\n",
    "    intr[1, 1] = 632.515\n",
    "    intr[0, 2] = 629.326\n",
    "    intr[1, 2] = 360.888\n",
    "    dist = np.array([[-0.0576521, 0.0680838, -0.000793749, 0.000349604, -0.021285]], dtype=float)\n",
    "\n",
    "    return intr, dist\n",
    "\n",
    "mtx, dist = get_default_realsense_intrinsic()\n",
    "    \n",
    "def get_camera_poses(dlin = 50, drot=0):\n",
    "    rvec_ini = np.array([np.deg2rad(-1),np.deg2rad(1), np.pi + np.deg2rad(2)],dtype = np.float)\n",
    "    tvec_ini = np.array([-2,1,160],dtype = np.float)\n",
    "    \n",
    "#     rvec_ini = np.array([0,0, np.pi],dtype = np.float)\n",
    "#     tvec_ini = np.array([0,0,200],dtype = np.float)\n",
    "    tf_ini = hom_tf(rvec_ini,tvec_ini)\n",
    "    cam_rvecs_tvecs = [[rvec_ini,tvec_ini]]\n",
    "    tfs = [np.eye(4)]\n",
    "    tf_left = hom_tf(R.from_rotvec(np.array([0,np.deg2rad(-drot),0])).as_rotvec(),np.array([dlin,0.0,0.0]))\n",
    "    tfs.append(tf_left)\n",
    "#     print(tf_ini@tf_left)\n",
    "    cam_rvecs_tvecs.append(to_rvec_tvec(tf_left@tf_ini))\n",
    "    \n",
    "    tf_right = hom_tf(R.from_rotvec(np.array([0,np.deg2rad(drot),0])).as_rotvec(),np.array([-dlin,0.0,0.0]))                 \n",
    "    tfs.append(tf_right)\n",
    "    cam_rvecs_tvecs.append(to_rvec_tvec(tf_right@tf_ini))\n",
    "    \n",
    "    tf_up = hom_tf(R.from_rotvec(np.array([np.deg2rad(drot),0,0])).as_rotvec(),np.array([0,dlin,0.0]))\n",
    "    tfs.append(tf_up)\n",
    "    cam_rvecs_tvecs.append(to_rvec_tvec(tf_up@tf_ini))\n",
    "    \n",
    "    tf_down = hom_tf(R.from_rotvec(np.array([np.deg2rad(-drot),0,0])).as_rotvec(),np.array([0,-dlin,0.0]))\n",
    "    tfs.append(tf_down)\n",
    "    cam_rvecs_tvecs.append(to_rvec_tvec(tf_down@tf_ini))\n",
    "        \n",
    "    return cam_rvecs_tvecs,tfs"
   ]
  },
  {
   "cell_type": "code",
   "execution_count": 4,
   "id": "ce09d55f",
   "metadata": {},
   "outputs": [
    {
     "name": "stdout",
     "output_type": "stream",
     "text": [
      "(array([ 3.99452481e-06, -6.19324222e-06,  1.23706137e-06]), array([-7.91545891e-07, -3.24107863e-07, -2.82957697e-06]))\n",
      "(array([ 1.05280913e-05, -5.38992034e-08,  1.71710869e-06]), array([1.10898504e-06, 1.35725591e-06, 2.09784491e-06]))\n",
      "(array([-7.96851599e-06,  5.36679743e-06,  1.25440935e-06]), array([ 1.38306925e-06, -8.78279142e-07,  5.09972054e-06]))\n",
      "(array([-2.04865916e-05, -2.92270894e-06,  1.16447499e-06]), array([ 2.31929242e-06,  4.04589060e-06, -1.48548243e-05]))\n",
      "(array([-1.23962603e-05,  1.17510582e-06, -2.02139229e-07]), array([1.02137030e-06, 4.91476345e-07, 7.01500596e-06]))\n"
     ]
    },
    {
     "name": "stderr",
     "output_type": "stream",
     "text": [
      "C:\\Users\\vikt-\\AppData\\Local\\Temp/ipykernel_52804/2108698356.py:19: DeprecationWarning: `np.float` is a deprecated alias for the builtin `float`. To silence this warning, use `float` by itself. Doing this will not modify any behavior and is safe. If you specifically wanted the numpy scalar type, use `np.float64` here.\n",
      "Deprecated in NumPy 1.20; for more details and guidance: https://numpy.org/devdocs/release/1.20.0-notes.html#deprecations\n",
      "  rvec_ini = np.array([np.deg2rad(-1),np.deg2rad(1), np.pi + np.deg2rad(2)],dtype = np.float)\n",
      "C:\\Users\\vikt-\\AppData\\Local\\Temp/ipykernel_52804/2108698356.py:20: DeprecationWarning: `np.float` is a deprecated alias for the builtin `float`. To silence this warning, use `float` by itself. Doing this will not modify any behavior and is safe. If you specifically wanted the numpy scalar type, use `np.float64` here.\n",
      "Deprecated in NumPy 1.20; for more details and guidance: https://numpy.org/devdocs/release/1.20.0-notes.html#deprecations\n",
      "  tvec_ini = np.array([-2,1,160],dtype = np.float)\n",
      "C:\\Users\\vikt-\\AppData\\Local\\Temp/ipykernel_52804/2104487552.py:2: DeprecationWarning: `np.float` is a deprecated alias for the builtin `float`. To silence this warning, use `float` by itself. Doing this will not modify any behavior and is safe. If you specifically wanted the numpy scalar type, use `np.float64` here.\n",
      "Deprecated in NumPy 1.20; for more details and guidance: https://numpy.org/devdocs/release/1.20.0-notes.html#deprecations\n",
      "  res = np.eye(4, dtype = np.float)\n"
     ]
    }
   ],
   "source": [
    "def hom_tf(rvec,tvec):\n",
    "    res = np.eye(4, dtype = np.float)\n",
    "    res[:3,:3] = R.from_rotvec(rvec.flatten()).as_matrix()\n",
    "    res[:3,3] = tvec.flatten()\n",
    "    return res\n",
    "\n",
    "def calc_error(reference_tf,rvecs,tvecs):\n",
    "    res_tf = hom_tf(rvecs,tvecs)\n",
    "\n",
    "    err = np.linalg.inv(reference_tf) @ res_tf\n",
    "    theta = R.from_matrix(err[:3,:3]).as_rotvec()\n",
    "    dt = err[:3,3]\n",
    "    return np.rad2deg(theta), dt\n",
    "        \n",
    "points_3d,anchors = get_points_from_CAD()\n",
    "points_3d = np.hstack((points_3d, np.zeros((points_3d.shape[0],1))))\n",
    "\n",
    "cam_rvecs_tvecs,tfs = get_camera_poses()\n",
    "for rvec,tvec in cam_rvecs_tvecs:\n",
    "#     rvec,tvec = cam_rvecs_tvecs[0]\n",
    "    cam_tf = hom_tf(rvec,tvec)\n",
    "    projected_points, _ = cv2.projectPoints(points_3d, rvec, tvec, mtx, dist)\n",
    "    _,rvecs, tvecs, _ = cv2.solvePnPRansac(points_3d, projected_points, mtx, dist)\n",
    "    print(calc_error(cam_tf,rvecs,tvecs))"
   ]
  },
  {
   "cell_type": "code",
   "execution_count": 5,
   "id": "18d9169a",
   "metadata": {},
   "outputs": [],
   "source": [
    "# generate poses\n",
    "mu, sigma = 0, 0.8 # mean and standard deviation\n",
    "s = np.random.normal(mu, sigma, 1)\n",
    "\n",
    "all_poses = {}\n",
    "\n",
    "np.random.seed(0)\n",
    "\n",
    "i = 0\n",
    "N_poses = 1500\n",
    "for rvec,tvec in cam_rvecs_tvecs:\n",
    "#     cam_tf = hom_tf(rvec,tvec)\n",
    "    projected_points, _ = cv2.projectPoints(points_3d, rvec, tvec, mtx, dist)\n",
    "#     _,rvecs, tvecs, _ = cv2.solvePnPRansac(points_3d, projected_points, mtx, dist)\n",
    "    av_vals = []\n",
    "    for iters in range(N_poses): \n",
    "        projected_points_copy = projected_points.copy()\n",
    "        for pt in projected_points_copy:\n",
    "            pt[0][0] += np.random.normal(mu, sigma, 1)\n",
    "            pt[0][1] += np.random.normal(mu, sigma, 1)    \n",
    "        ret,rvecs, tvecs, inliers = cv2.solvePnPRansac(points_3d, projected_points_copy, mtx, dist,iterationsCount = 50,\n",
    "                                                       reprojectionError = sigma * 0.8 , flags = cv2.SOLVEPNP_SQPNP)\n",
    "\n",
    "        if ret:\n",
    "            av_vals.append([rvecs, tvecs])\n",
    "    \n",
    "    all_poses[i] = av_vals\n",
    "    i+=1                     "
   ]
  },
  {
   "cell_type": "code",
   "execution_count": 620,
   "id": "f2d91dc8",
   "metadata": {},
   "outputs": [
    {
     "data": {
      "text/plain": [
       "16.772394883606545"
      ]
     },
     "execution_count": 620,
     "metadata": {},
     "output_type": "execute_result"
    }
   ],
   "source": []
  },
  {
   "cell_type": "code",
   "execution_count": 6,
   "id": "cfcc5ed2",
   "metadata": {},
   "outputs": [
    {
     "name": "stderr",
     "output_type": "stream",
     "text": [
      "C:\\Users\\vikt-\\AppData\\Local\\Temp/ipykernel_52804/2104487552.py:2: DeprecationWarning: `np.float` is a deprecated alias for the builtin `float`. To silence this warning, use `float` by itself. Doing this will not modify any behavior and is safe. If you specifically wanted the numpy scalar type, use `np.float64` here.\n",
      "Deprecated in NumPy 1.20; for more details and guidance: https://numpy.org/devdocs/release/1.20.0-notes.html#deprecations\n",
      "  res = np.eye(4, dtype = np.float)\n"
     ]
    }
   ],
   "source": [
    "def get_cam_i_in_robot():\n",
    "    rvec = np.zeros(3)\n",
    "    tvec = np.array([30,-200,300])\n",
    "    \n",
    "    return hom_tf(rvec,tvec)\n",
    "\n",
    "tf_cam_i_in_robot = get_cam_i_in_robot()\n",
    "rvec,tvec = cam_rvecs_tvecs[0]\n",
    "cam_tf_ref = hom_tf(rvec,tvec)\n",
    "\n",
    "sock_in_robot_tf_ref = tf_cam_i_in_robot @ cam_tf_ref"
   ]
  },
  {
   "cell_type": "code",
   "execution_count": 7,
   "id": "5f70f272",
   "metadata": {},
   "outputs": [],
   "source": [
    "def get_random_pose_error(dt = 0,dr = 0):\n",
    "    mu, sigma = 0, 0.33 # mean and standard deviation\n",
    "    rot_axis = np.random.normal(mu, sigma, (3,1))\n",
    "    rot_axis /= np.linalg.norm(rot_axis)\n",
    "    \n",
    "    sigma = dr/3\n",
    "    rot_ange = np.deg2rad(np.random.normal(mu, sigma, 1))\n",
    "    rvec = rot_ange * rot_axis\n",
    "    \n",
    "    sigma = (0.57 * dt)/3\n",
    "    tvec = np.random.normal(mu, sigma, (3))\n",
    "    rot_mtx =  hom_tf(rvec,tvec)\n",
    "    return rot_mtx\n",
    "\n",
    "\n",
    "def pick_random_poses(all_poses, n = 5):\n",
    "    picked_poses = []\n",
    "    for i in range(n):\n",
    "        sample = random.sample(all_poses[i], 1)\n",
    "        # моделируется ошибка прихода в позу камеры random_pose_error \n",
    "        from_cj_to_ci = np.linalg.inv(tfs[i])\n",
    "        tf_socket_in_cam_j = hom_tf(sample[0][0],sample[0][1])\n",
    "        \n",
    "        robot_error = get_random_pose_error(1.0,1)\n",
    "        tf_cam_i_in_robot = get_cam_i_in_robot()\n",
    "        \n",
    "        cam_j_in_robot = tf_cam_i_in_robot @ from_cj_to_ci\n",
    "        cam_j_in_robot_with_error = cam_j_in_robot @ robot_error\n",
    "        \n",
    "        socket_in_robot = cam_j_in_robot_with_error @ tf_socket_in_cam_j\n",
    "        \n",
    "        rvec = R.from_matrix(socket_in_robot[:3,:3]).as_rotvec()\n",
    "        picked_poses.append([rvec,socket_in_robot[:3,3]])\n",
    "    \n",
    "    picked_poses = np.array(picked_poses).reshape(-1,2,3)\n",
    "    \n",
    "    return picked_poses\n",
    "\n",
    "def get_thresholds(k1 = 0.8,k2 = 0.8,k3=0.9):\n",
    "    \n",
    "    dy = k1 * 2.5\n",
    "    dx = k2 *4\n",
    "    dtheta_1 = k3* (3 + 2-2)\n",
    "    dtheta_2 = k3* (4 + 1-1)\n",
    "    dtheta_3 = k3* (1 )\n",
    "    \n",
    "    return dx,dy,dtheta_1,dtheta_2,dtheta_3\n",
    "\n",
    "dx,dy,dtheta_1,dtheta_2,dtheta_3 = get_thresholds()"
   ]
  },
  {
   "cell_type": "code",
   "execution_count": 12,
   "id": "07800cfe",
   "metadata": {
    "scrolled": true
   },
   "outputs": [
    {
     "name": "stderr",
     "output_type": "stream",
     "text": [
      "C:\\Users\\vikt-\\AppData\\Local\\Temp/ipykernel_52804/2104487552.py:2: DeprecationWarning: `np.float` is a deprecated alias for the builtin `float`. To silence this warning, use `float` by itself. Doing this will not modify any behavior and is safe. If you specifically wanted the numpy scalar type, use `np.float64` here.\n",
      "Deprecated in NumPy 1.20; for more details and guidance: https://numpy.org/devdocs/release/1.20.0-notes.html#deprecations\n",
      "  res = np.eye(4, dtype = np.float)\n"
     ]
    },
    {
     "name": "stdout",
     "output_type": "stream",
     "text": [
      "fail_lin 0 fail_rot 8\n",
      "success rate 0.984\n"
     ]
    }
   ],
   "source": [
    "lin_errors = []\n",
    "theta_errors = []\n",
    "fail_lin = 0\n",
    "fail_rot = 0\n",
    "\n",
    "n_trials = 500\n",
    "for i in range(n_trials):\n",
    "    res = np.empty((0,2,3))\n",
    "    for q in range(1):\n",
    "        picked_poses = pick_random_poses(all_poses,n = 5)\n",
    "        res = np.vstack((res,picked_poses))\n",
    "    \n",
    "    r = R.from_rotvec(res[:,0,:])\n",
    "    averaged_tvec = res[:,1,:].mean(axis=0)\n",
    "    rvec_mean = r.mean().as_rotvec()\n",
    "    \n",
    "    aver_tf_robot = hom_tf(rvec_mean,averaged_tvec)\n",
    "    aver_tf_robot_error = aver_tf_robot @ get_random_pose_error(1.0,0.5)\n",
    "    rvec,tvec = to_rvec_tvec(aver_tf_robot_error)\n",
    "    \n",
    "    theta, lin = calc_error(sock_in_robot_tf_ref,rvec,tvec)\n",
    "    lin_errors.append(lin)\n",
    "    theta_errors.append(theta)\n",
    "#     print(theta)\n",
    "    if (np.abs(theta[0]) > dtheta_1 or np.abs(theta[1]) > dtheta_2 or np.abs(theta[2]) > dtheta_3) :\n",
    "        fail_rot +=1\n",
    "    elif (np.abs(lin[0]) > dx \n",
    "        or np.abs(lin[1])>dy):\n",
    "        fail_lin +=1\n",
    "        \n",
    "print(\"fail_lin\", fail_lin, \"fail_rot\",fail_rot)\n",
    "print(\"success rate\",(n_trials*1.0 - (fail_lin+fail_rot))/n_trials)   "
   ]
  },
  {
   "cell_type": "code",
   "execution_count": 13,
   "id": "d9307152",
   "metadata": {},
   "outputs": [
    {
     "name": "stdout",
     "output_type": "stream",
     "text": [
      "[ 0.01786598  0.02883377 -0.01126804]\n",
      "[0.34311617 0.81233442 0.52161935]\n"
     ]
    }
   ],
   "source": [
    "lin_errors = np.array(lin_errors)\n",
    "print((lin_errors[:,]).mean(axis = 0))\n",
    "print((lin_errors).std(axis = 0))"
   ]
  },
  {
   "cell_type": "code",
   "execution_count": 15,
   "id": "5293bb1c",
   "metadata": {},
   "outputs": [
    {
     "name": "stdout",
     "output_type": "stream",
     "text": [
      "0.6482685171132959\n",
      "0.7941839445441125\n"
     ]
    }
   ],
   "source": [
    "print(np.linalg.norm((lin_errors[:,]),axis=1).mean())\n",
    "print(np.linalg.norm(lin_errors,axis=1).std())"
   ]
  },
  {
   "cell_type": "code",
   "execution_count": 797,
   "id": "6af7eff3",
   "metadata": {},
   "outputs": [
    {
     "name": "stdout",
     "output_type": "stream",
     "text": [
      "[ 0.05773503 -0.01540544 -0.18580164]\n",
      "[ 0.36442445  0.12074125 -0.02401808]\n"
     ]
    },
    {
     "data": {
      "image/png": "[encoded data removed]",
      "text/plain": [
       "<Figure size 720x432 with 1 Axes>"
      ]
     },
     "metadata": {
      "needs_background": "light"
     },
     "output_type": "display_data"
    }
   ],
   "source": [
    "import matplotlib.pyplot as plt\n",
    "import numpy as np\n",
    "from matplotlib.patches import Polygon\n",
    "\n",
    "lin_errors = np.array(lin_errors)\n",
    "theta_errors = np.array(theta_errors)\n",
    "# print(np.linalg.norm((lin_errors[:,]),axis=1).mean())\n",
    "# print(np.linalg.norm(theta_errors,axis=1).mean())\n",
    "print((lin_errors[:,]).mean(axis = 0))\n",
    "print((theta_errors).mean(axis = 0))\n",
    "\n",
    "lin_errors = np.array(lin_errors)\n",
    "fig, ax1 = plt.subplots(figsize=(10, 6))\n",
    "# axs[0, 0].boxplot(data)\n",
    "bp = ax1.boxplot([lin_errors[:,0],lin_errors[:,1],lin_errors[:,2],theta_errors[:,0],theta_errors[:,1],theta_errors[:,2]])\n",
    "plt.show()"
   ]
  },
  {
   "cell_type": "code",
   "execution_count": 14,
   "id": "abc884a5",
   "metadata": {},
   "outputs": [
    {
     "ename": "TypeError",
     "evalue": "list indices must be integers or slices, not tuple",
     "output_type": "error",
     "traceback": [
      "\u001b[1;31m---------------------------------------------------------------------------\u001b[0m",
      "\u001b[1;31mTypeError\u001b[0m                                 Traceback (most recent call last)",
      "\u001b[1;32m~\\AppData\\Local\\Temp/ipykernel_52804/4166656862.py\u001b[0m in \u001b[0;36m<module>\u001b[1;34m\u001b[0m\n\u001b[1;32m----> 1\u001b[1;33m \u001b[0mprint\u001b[0m\u001b[1;33m(\u001b[0m\u001b[0mnp\u001b[0m\u001b[1;33m.\u001b[0m\u001b[0mlinalg\u001b[0m\u001b[1;33m.\u001b[0m\u001b[0mnorm\u001b[0m\u001b[1;33m(\u001b[0m\u001b[1;33m(\u001b[0m\u001b[0mtheta_errors\u001b[0m\u001b[1;33m[\u001b[0m\u001b[1;33m:\u001b[0m\u001b[1;33m,\u001b[0m\u001b[1;33m]\u001b[0m\u001b[1;33m)\u001b[0m\u001b[1;33m,\u001b[0m\u001b[0maxis\u001b[0m\u001b[1;33m=\u001b[0m\u001b[1;36m1\u001b[0m\u001b[1;33m)\u001b[0m\u001b[1;33m.\u001b[0m\u001b[0mmean\u001b[0m\u001b[1;33m(\u001b[0m\u001b[1;33m)\u001b[0m\u001b[1;33m)\u001b[0m\u001b[1;33m\u001b[0m\u001b[1;33m\u001b[0m\u001b[0m\n\u001b[0m\u001b[0;32m      2\u001b[0m \u001b[0mprint\u001b[0m\u001b[1;33m(\u001b[0m\u001b[0mnp\u001b[0m\u001b[1;33m.\u001b[0m\u001b[0mlinalg\u001b[0m\u001b[1;33m.\u001b[0m\u001b[0mnorm\u001b[0m\u001b[1;33m(\u001b[0m\u001b[0mtheta_errors\u001b[0m\u001b[1;33m,\u001b[0m\u001b[0maxis\u001b[0m\u001b[1;33m=\u001b[0m\u001b[1;36m1\u001b[0m\u001b[1;33m)\u001b[0m\u001b[1;33m.\u001b[0m\u001b[0mstd\u001b[0m\u001b[1;33m(\u001b[0m\u001b[1;33m)\u001b[0m\u001b[1;33m)\u001b[0m\u001b[1;33m\u001b[0m\u001b[1;33m\u001b[0m\u001b[0m\n",
      "\u001b[1;31mTypeError\u001b[0m: list indices must be integers or slices, not tuple"
     ]
    }
   ],
   "source": []
  },
  {
   "cell_type": "code",
   "execution_count": 775,
   "id": "d81abc71",
   "metadata": {},
   "outputs": [
    {
     "name": "stdout",
     "output_type": "stream",
     "text": [
      "0.6157043890654719\n",
      "0.8460810136344971\n"
     ]
    }
   ],
   "source": []
  },
  {
   "cell_type": "code",
   "execution_count": 752,
   "id": "fe392d56",
   "metadata": {
    "scrolled": true
   },
   "outputs": [
    {
     "name": "stdout",
     "output_type": "stream",
     "text": [
      "1.956970511904974\n",
      "1.4142070050996114\n"
     ]
    }
   ],
   "source": [
    "print(np.linalg.norm((theta_errors[:,]),axis=1).mean())\n",
    "print(np.linalg.norm(theta_errors,axis=1).std())"
   ]
  },
  {
   "cell_type": "code",
   "execution_count": 10,
   "id": "55a4483e",
   "metadata": {},
   "outputs": [
    {
     "ename": "TypeError",
     "evalue": "list indices must be integers or slices, not tuple",
     "output_type": "error",
     "traceback": [
      "\u001b[1;31m---------------------------------------------------------------------------\u001b[0m",
      "\u001b[1;31mTypeError\u001b[0m                                 Traceback (most recent call last)",
      "\u001b[1;32m~\\AppData\\Local\\Temp/ipykernel_52804/1452731893.py\u001b[0m in \u001b[0;36m<module>\u001b[1;34m\u001b[0m\n\u001b[1;32m----> 1\u001b[1;33m \u001b[0mprint\u001b[0m\u001b[1;33m(\u001b[0m\u001b[1;33m(\u001b[0m\u001b[0mlin_errors\u001b[0m\u001b[1;33m[\u001b[0m\u001b[1;33m:\u001b[0m\u001b[1;33m,\u001b[0m\u001b[1;33m]\u001b[0m\u001b[1;33m)\u001b[0m\u001b[1;33m.\u001b[0m\u001b[0mmean\u001b[0m\u001b[1;33m(\u001b[0m\u001b[0maxis\u001b[0m \u001b[1;33m=\u001b[0m \u001b[1;36m0\u001b[0m\u001b[1;33m)\u001b[0m\u001b[1;33m)\u001b[0m\u001b[1;33m\u001b[0m\u001b[1;33m\u001b[0m\u001b[0m\n\u001b[0m\u001b[0;32m      2\u001b[0m \u001b[0mprint\u001b[0m\u001b[1;33m(\u001b[0m\u001b[1;33m(\u001b[0m\u001b[0mlin_errors\u001b[0m\u001b[1;33m)\u001b[0m\u001b[1;33m.\u001b[0m\u001b[0mstd\u001b[0m\u001b[1;33m(\u001b[0m\u001b[0maxis\u001b[0m \u001b[1;33m=\u001b[0m \u001b[1;36m0\u001b[0m\u001b[1;33m)\u001b[0m\u001b[1;33m)\u001b[0m\u001b[1;33m\u001b[0m\u001b[1;33m\u001b[0m\u001b[0m\n",
      "\u001b[1;31mTypeError\u001b[0m: list indices must be integers or slices, not tuple"
     ]
    }
   ],
   "source": []
  },
  {
   "cell_type": "code",
   "execution_count": 704,
   "id": "39d23440",
   "metadata": {},
   "outputs": [
    {
     "name": "stdout",
     "output_type": "stream",
     "text": [
      "0.555099734439868\n"
     ]
    }
   ],
   "source": [
    "print(np.linalg.norm(theta_errors,axis=1).std())"
   ]
  },
  {
   "cell_type": "code",
   "execution_count": 696,
   "id": "f7fd1529",
   "metadata": {},
   "outputs": [
    {
     "name": "stdout",
     "output_type": "stream",
     "text": [
      "[0.00054739 0.00052274 0.00082165]\n",
      "[-2.95862849 -2.96769992 -0.51364752]\n"
     ]
    }
   ],
   "source": [
    "print(np.abs((lin_errors[:,])).min(axis = 0))\n",
    "print(theta_errors.min(axis = 0))"
   ]
  },
  {
   "cell_type": "code",
   "execution_count": 687,
   "id": "6207111a",
   "metadata": {},
   "outputs": [
    {
     "data": {
      "text/plain": [
       "array([0.64905331, 0.61487142, 0.16286226])"
      ]
     },
     "execution_count": 687,
     "metadata": {},
     "output_type": "execute_result"
    }
   ],
   "source": [
    "theta_errors.std(axis=0)"
   ]
  },
  {
   "cell_type": "code",
   "execution_count": 266,
   "id": "2196f231",
   "metadata": {
    "scrolled": true
   },
   "outputs": [
    {
     "data": {
      "text/plain": [
       "[array([ 3.11916607, -0.23680543,  0.06954612]),\n",
       " array([-3.83269696, -0.72217359,  0.36253608]),\n",
       " array([ 4.08470458,  0.83146971, -0.29975335])]"
      ]
     },
     "execution_count": 266,
     "metadata": {},
     "output_type": "execute_result"
    }
   ],
   "source": [
    "theta_errors"
   ]
  },
  {
   "cell_type": "code",
   "execution_count": 645,
   "id": "c31f02d4",
   "metadata": {},
   "outputs": [
    {
     "name": "stdout",
     "output_type": "stream",
     "text": [
      "[]\n"
     ]
    }
   ],
   "source": [
    "    res = np.empty((0,2,3))\n",
    "#         res = np.vstack((res,selected_vals))\n",
    "#     print(res.shape)\n",
    "#     print(selected_vals.shape)\n",
    "#     for rvec,tvec in selected_vals:\n",
    "#         theta, lin = calc_error(sock_in_tool_tf_ref,rvec,tvec)"
   ]
  },
  {
   "cell_type": "code",
   "execution_count": 33,
   "id": "8ec7a4aa",
   "metadata": {},
   "outputs": [
    {
     "data": {
      "text/plain": [
       "{'divide': 'warn', 'over': 'warn', 'under': 'ignore', 'invalid': 'warn'}"
      ]
     },
     "execution_count": 33,
     "metadata": {},
     "output_type": "execute_result"
    }
   ],
   "source": [
    "np.seterr(all=\"ignore\")"
   ]
  },
  {
   "cell_type": "code",
   "execution_count": 877,
   "id": "c114ee22",
   "metadata": {
    "scrolled": true
   },
   "outputs": [
    {
     "name": "stdout",
     "output_type": "stream",
     "text": [
      "non averaged\n",
      "10.803241435533165 5.819105360033819\n",
      "23.229846367974254 3.9251800318703665\n",
      "7.328240895075587 1.248099073872448\n",
      "22.63455486580416 14.917328021820625\n",
      "13.360725972388778 2.172709545281357\n",
      "8.274450622339987 0.4825710146519563\n",
      "7.558082066452762 2.067305501554676\n",
      "1.0171924207750753 3.4496551028104494\n",
      "7.5783341777997695 2.2652313552557892\n",
      "5.8404161916895765 2.5915355493887495\n",
      "averaged by n= 30\n",
      "0.3215253865604727 2.322411134542026\n",
      "1.144347043906739 1.0865391192086598\n",
      "2.457793847324411 2.156727471679635\n",
      "3.141663222731513 1.0598936760620559\n",
      "1.1407807142002462 1.2860448930811212\n",
      "2.2329831667622284 0.9368114810913095\n",
      "1.1989944164938284 0.7201067414457429\n",
      "1.8489607151786092 0.962122821335573\n",
      "0.584074735693399 1.2450250407840908\n",
      "2.3507075662793624 0.3495257641750759\n",
      "2.0349421328254604 0.7082405875935347\n",
      "1.1869568101301073 0.7776439435346858\n",
      "0.9181082074654122 1.407322202209906\n",
      "1.2249628530069987 1.7830675827033153\n",
      "3.3263544874572966 1.3137797394149398\n",
      "1.4708073594632667 0.13873506448483616\n",
      "0.6752438462631293 1.8602055732296991\n",
      "3.9429244677153994 1.3689832649002776\n",
      "2.490741717022588 0.9851917168392582\n",
      "2.007828343937793 0.25494988397365104\n",
      "0.3107453070121352 0.36670074567555655\n",
      "0.3713407407506241 6.764697501351813\n",
      "1.0760415046849974 0.5833972444801907\n",
      "3.270397816591818 1.2172562087802365\n",
      "0.30482503426295604 1.026957616880812\n",
      "1.8745951193040347 1.9136600511332469\n",
      "1.0877760502416447 0.15918844083961906\n",
      "0.9723732554841829 1.0256472674013486\n",
      "0.5201730126250632 0.5646407761802379\n",
      "0.8174870087973667 1.64962259266329\n",
      "3.290518850293858 1.1657383596834525\n",
      "2.390219397061575 0.8835859116449403\n",
      "2.5520536490134265 1.3417390032068324\n",
      "1.9568831156315865 0.4279421207939118\n",
      "2.2621650790193493 0.9318206761502593\n",
      "1.6215810958425743 1.4564064191024952\n",
      "0.3631758781852089 0.9837397582952137\n",
      "1.967518660714041 1.0415425687957387\n",
      "1.6446135015938954 0.6058418562234222\n",
      "1.043791614981763 1.392220386821001\n",
      "0.4328821901472724 1.2418675617227117\n",
      "2.0185073173850077 0.7427780830986034\n",
      "0.4181051523236325 1.6834812163047759\n",
      "1.0718987537953755 0.6678296212652657\n",
      "1.929820533760415 0.36001069551396747\n",
      "1.1636962610655606 0.6248604023109394\n",
      "2.340833967827023 1.0795326283608695\n",
      "2.5978757857531503 1.845314986275754\n",
      "1.2145242533850984 1.3040634672528237\n",
      "3.947170802386352 2.3538392109403414\n"
     ]
    }
   ],
   "source": [
    "# proper averaging\n",
    "\n",
    "# random.seed(0)\n",
    "n = 10\n",
    "selected_vals = random.sample(av_vals, n)\n",
    "selected_vals = np.array(selected_vals).reshape(-1,2,3)\n",
    "print(\"non averaged\")\n",
    "for rvec,tvec in selected_vals:\n",
    "    theta, lin = calc_error(cam_tf,rvec,tvec)\n",
    "    print(np.linalg.norm(theta),np.linalg.norm(lin))\n",
    "\n",
    "n = 30\n",
    "print(\"averaged by n=\",n)\n",
    "for i in range(50):\n",
    "    selected_vals = random.sample(av_vals, n)\n",
    "    selected_vals = np.array(selected_vals).reshape(-1,2,3)\n",
    "    # averaged_vals = .mean(axis=0)\n",
    "    r = R.from_rotvec(selected_vals[:,0,:])\n",
    "    averaged_tvec = selected_vals[:,1,:].mean(axis=0)\n",
    "\n",
    "    theta, lin = calc_error(cam_tf,r.mean().as_rotvec(),averaged_tvec)\n",
    "    print(np.linalg.norm(theta),np.linalg.norm(lin))\n",
    "#     for val in selected_vals:\n",
    "#         theta, lin = calc_error(cam_tf,val[0],val[1])\n",
    "#         print(np.linalg.norm(theta),np.linalg.norm(lin))"
   ]
  },
  {
   "cell_type": "code",
   "execution_count": 747,
   "id": "e1530668",
   "metadata": {},
   "outputs": [
    {
     "data": {
      "text/plain": [
       "array([[[ 2.00778104e-03, -8.19065983e-03, -3.14145554e+00],\n",
       "        [ 6.12723457e-03, -3.43252694e-02,  1.99909387e+02]],\n",
       "\n",
       "       [[ 1.72551440e-02, -8.60777845e-03, -3.14083271e+00],\n",
       "        [ 1.50817646e-02, -2.92494685e-02,  1.99978230e+02]],\n",
       "\n",
       "       [[-6.24246057e-03,  5.88501835e-03,  3.14145512e+00],\n",
       "        [-2.81078653e-03, -8.67498922e-04,  2.00144676e+02]],\n",
       "\n",
       "       [[-6.09810121e-03, -1.06041879e-02, -3.14135620e+00],\n",
       "        [-2.25581783e-02, -3.50171511e-02,  1.99901156e+02]],\n",
       "\n",
       "       [[ 8.93795811e-03,  2.30094075e-03,  3.14140945e+00],\n",
       "        [ 1.50958870e-04,  3.82557393e-03,  2.00086799e+02]]])"
      ]
     },
     "execution_count": 747,
     "metadata": {},
     "output_type": "execute_result"
    }
   ],
   "source": []
  },
  {
   "cell_type": "code",
   "execution_count": 750,
   "id": "deb82e9a",
   "metadata": {},
   "outputs": [
    {
     "data": {
      "text/plain": [
       "array([[ 2.00778104e-03, -8.19065983e-03, -3.14145554e+00],\n",
       "       [ 1.72551440e-02, -8.60777845e-03, -3.14083271e+00],\n",
       "       [-6.24246057e-03,  5.88501835e-03,  3.14145512e+00],\n",
       "       [-6.09810121e-03, -1.06041879e-02, -3.14135620e+00],\n",
       "       [ 8.93795811e-03,  2.30094075e-03,  3.14140945e+00]])"
      ]
     },
     "execution_count": 750,
     "metadata": {},
     "output_type": "execute_result"
    }
   ],
   "source": [
    "selected_vals.reshape(-1,2,3)[:,0,:]"
   ]
  },
  {
   "cell_type": "code",
   "execution_count": 13,
   "id": "2df4d875",
   "metadata": {},
   "outputs": [
    {
     "data": {
      "image/png": "[encoded data removed]",
      "text/plain": [
       "<Figure size 432x288 with 1 Axes>"
      ]
     },
     "metadata": {
      "needs_background": "light"
     },
     "output_type": "display_data"
    }
   ],
   "source": [
    "import matplotlib.pyplot as plt\n",
    "\n",
    "mu, sigma = 0, 0.1 # mean and standard deviation\n",
    "s = np.random.normal(mu, sigma, 1000)\n",
    "\n",
    "count, bins, ignored = plt.hist(s, 30, density=True)\n",
    "plt.plot(bins, 1/(sigma * np.sqrt(2 * np.pi)) *\n",
    "               np.exp( - (bins - mu)**2 / (2 * sigma**2) ),\n",
    "         linewidth=2, color='r')\n",
    "plt.show()\n",
    "\n",
    "mean = (1, 2)\n",
    "cov = [[100, 0], [0, 1]]\n",
    "x = np.random.multivariate_normal(mean, cov, (3, 3))"
   ]
  },
  {
   "cell_type": "code",
   "execution_count": 19,
   "id": "e1d5ad0d",
   "metadata": {},
   "outputs": [
    {
     "name": "stdout",
     "output_type": "stream",
     "text": [
      "[[-0.09478094 -0.01815164 -0.21254287]\n",
      " [ 0.03806207  0.03613243 -0.03807278]\n",
      " [ 0.0650917  -0.11140364 -0.16195075]]\n"
     ]
    }
   ],
   "source": [
    "# cam_i_in_robot = np.eye(3)\n",
    "# cam_i_in_robot[:,0] = np.array([0,1,0])\n",
    "# cam_i_in_robot[:,1] = np.array([0,0,-1])\n",
    "# cam_i_in_robot[:,2] = np.array([1,0,0])\n",
    "\n",
    "# print(cam_i_in_robot)"
   ]
  }
 ],
 "metadata": {
  "kernelspec": {
   "display_name": "Python 3 (ipykernel)",
   "language": "python",
   "name": "python3"
  },
  "language_info": {
   "codemirror_mode": {
    "name": "ipython",
    "version": 3
   },
   "file_extension": ".py",
   "mimetype": "text/x-python",
   "name": "python",
   "nbconvert_exporter": "python",
   "pygments_lexer": "ipython3",
   "version": "3.9.13"
  }
 },
 "nbformat": 4,
 "nbformat_minor": 5
}
