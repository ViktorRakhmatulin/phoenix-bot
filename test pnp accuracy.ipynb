{
 "cells": [
  {
   "cell_type": "code",
   "execution_count": 1,
   "id": "e5ea1636",
   "metadata": {},
   "outputs": [],
   "source": [
    "from scipy.spatial.transform import Rotation as R\n",
    "import numpy as np\n",
    "import random\n",
    "import cv2 "
   ]
  },
  {
   "cell_type": "code",
   "execution_count": 2,
   "id": "e5ffc28f",
   "metadata": {},
   "outputs": [
    {
     "data": {
      "text/plain": [
       "16.772394883606545"
      ]
     },
     "execution_count": 2,
     "metadata": {},
     "output_type": "execute_result"
    }
   ],
   "source": [
    "np.log(0.01)/(np.log(1- (0.7)**4))"
   ]
  },
  {
   "cell_type": "code",
   "execution_count": 3,
   "id": "2079e90f",
   "metadata": {},
   "outputs": [
    {
     "name": "stdout",
     "output_type": "stream",
     "text": [
      "1.923627562251257\n"
     ]
    }
   ],
   "source": [
    "rot = R.from_euler('xyz',[1.25,1.29,0.73],degrees = True)\n",
    "\n",
    "print(np.linalg.norm(rot.as_rotvec())*57)"
   ]
  },
  {
   "cell_type": "code",
   "execution_count": 5,
   "id": "6fdaa8c7",
   "metadata": {},
   "outputs": [],
   "source": [
    "def get_points_from_CAD():\n",
    "    # we consider that marker has 40 mm length\n",
    "# keypoints are defined from the CAD data\n",
    "    \"\"\"\n",
    "    defines keypoints and holes' centers in marker CS\n",
    "    \"\"\"\n",
    "    keypoints = np.zeros((14,2))\n",
    "    i = 0\n",
    "    keypoints[2*i] = [6.143, 37.51]\n",
    "    keypoints[2*i+1] = [-keypoints[2*i][0], keypoints[2*i][1]]\n",
    "    i+=1\n",
    "    keypoints[2*i] = [27.213, 28.666]\n",
    "    keypoints[2*i+1] = [-keypoints[2*i][0], keypoints[2*i][1]]\n",
    "    i+=1\n",
    "    keypoints[2*i] = [13.161, 26.86]\n",
    "    keypoints[2*i+1] = [-keypoints[2*i][0], keypoints[2*i][1]]\n",
    "    i+=1\n",
    "    keypoints[2*i] = [27.707, 19.26]\n",
    "    keypoints[2*i+1] = [-keypoints[2*i][0], keypoints[2*i][1]]\n",
    "    i+=1\n",
    "    keypoints[2*i] = [38.253, 5.53]\n",
    "    keypoints[2*i+1] = [-keypoints[2*i][0], keypoints[2*i][1]]\n",
    "    i+=1\n",
    "    keypoints[2*i] = [19.9, -27.273]\n",
    "    keypoints[2*i+1] = [-keypoints[2*i][0], keypoints[2*i][1]]\n",
    "    i+=1\n",
    "    keypoints[2*i] = [20.4, -29.39]\n",
    "    keypoints[2*i+1] = [-keypoints[2*i][0], keypoints[2*i][1]]\n",
    "    i+=1\n",
    "\n",
    "    anchors = np.zeros((7,3))\n",
    "\n",
    "    anchors[0] = [0.0, 0.0, 2.25]\n",
    "    anchors[1] = [8.0, 11.2, 2.25]\n",
    "    anchors[2] = anchors[1].copy()\n",
    "    anchors[2][0] *= -1\n",
    "    anchors[3] = [16.0, 0, 2.25]\n",
    "    anchors[4] = anchors[3].copy()\n",
    "    anchors[4][0] *= -1\n",
    "    anchors[5] = [8.0, -13.86, 2.25]\n",
    "    anchors[6] = anchors[5].copy()\n",
    "    anchors[6][0] *= -1\n",
    "    \n",
    "    return keypoints, anchors[:,:2]"
   ]
  },
  {
   "cell_type": "code",
   "execution_count": 6,
   "id": "79dc9c5b",
   "metadata": {},
   "outputs": [],
   "source": [
    "def to_rvec_tvec(tf):\n",
    "    rvec = R.from_matrix(tf[:3,:3]).as_rotvec()\n",
    "    tvec = tf[:3,3]\n",
    "    return rvec,tvec    \n",
    "    \n",
    "def get_default_realsense_intrinsic():\n",
    "    intr = np.eye(3, dtype=float)\n",
    "    intr[0, 0] = 633.22\n",
    "    intr[1, 1] = 632.515\n",
    "    intr[0, 2] = 629.326\n",
    "    intr[1, 2] = 360.888\n",
    "    dist = np.array([[-0.0576521, 0.0680838, -0.000793749, 0.000349604, -0.021285]], dtype=float)\n",
    "\n",
    "    return intr, dist\n",
    "\n",
    "mtx, dist = get_default_realsense_intrinsic()\n",
    "    \n",
    "def get_camera_poses(dlin = 50, drot=0):\n",
    "    rvec_ini = np.array([np.deg2rad(-1),np.deg2rad(1), np.pi + np.deg2rad(2)],dtype = np.float)\n",
    "    tvec_ini = np.array([-2,1,160],dtype = np.float)\n",
    "    \n",
    "#     rvec_ini = np.array([0,0, np.pi],dtype = np.float)\n",
    "#     tvec_ini = np.array([0,0,200],dtype = np.float)\n",
    "    tf_ini = hom_tf(rvec_ini,tvec_ini)\n",
    "    cam_rvecs_tvecs = [[rvec_ini,tvec_ini]]\n",
    "    tfs = [np.eye(4)]\n",
    "    tf_left = hom_tf(R.from_rotvec(np.array([0,np.deg2rad(-drot),0])).as_rotvec(),np.array([dlin,0.0,0.0]))\n",
    "    tfs.append(tf_left)\n",
    "#     print(tf_ini@tf_left)\n",
    "    cam_rvecs_tvecs.append(to_rvec_tvec(tf_left@tf_ini))\n",
    "    \n",
    "    tf_right = hom_tf(R.from_rotvec(np.array([0,np.deg2rad(drot),0])).as_rotvec(),np.array([-dlin,0.0,0.0]))                 \n",
    "    tfs.append(tf_right)\n",
    "    cam_rvecs_tvecs.append(to_rvec_tvec(tf_right@tf_ini))\n",
    "    \n",
    "    tf_up = hom_tf(R.from_rotvec(np.array([np.deg2rad(drot),0,0])).as_rotvec(),np.array([0,dlin,0.0]))\n",
    "    tfs.append(tf_up)\n",
    "    cam_rvecs_tvecs.append(to_rvec_tvec(tf_up@tf_ini))\n",
    "    \n",
    "    tf_down = hom_tf(R.from_rotvec(np.array([np.deg2rad(-drot),0,0])).as_rotvec(),np.array([0,-dlin,0.0]))\n",
    "    tfs.append(tf_down)\n",
    "    cam_rvecs_tvecs.append(to_rvec_tvec(tf_down@tf_ini))\n",
    "        \n",
    "    return cam_rvecs_tvecs,tfs"
   ]
  },
  {
   "cell_type": "code",
   "execution_count": 7,
   "id": "ce09d55f",
   "metadata": {},
   "outputs": [
    {
     "name": "stdout",
     "output_type": "stream",
     "text": [
      "(array([ 3.99452480e-06, -6.19324224e-06,  1.23706135e-06]), array([-7.91545890e-07, -3.24107864e-07, -2.82957694e-06]))\n",
      "(array([ 1.05280913e-05, -5.38991499e-08,  1.71710869e-06]), array([1.10898503e-06, 1.35725590e-06, 2.09784486e-06]))\n",
      "(array([-7.96851595e-06,  5.36679742e-06,  1.25440935e-06]), array([ 1.38306924e-06, -8.78279145e-07,  5.09972054e-06]))\n",
      "(array([-2.04865916e-05, -2.92270890e-06,  1.16447499e-06]), array([ 2.31929242e-06,  4.04589060e-06, -1.48548243e-05]))\n",
      "(array([-1.23962603e-05,  1.17510577e-06, -2.02139254e-07]), array([1.02137030e-06, 4.91476342e-07, 7.01500591e-06]))\n"
     ]
    },
    {
     "name": "stderr",
     "output_type": "stream",
     "text": [
      "/tmp/ipykernel_66386/2108698356.py:19: DeprecationWarning: `np.float` is a deprecated alias for the builtin `float`. To silence this warning, use `float` by itself. Doing this will not modify any behavior and is safe. If you specifically wanted the numpy scalar type, use `np.float64` here.\n",
      "Deprecated in NumPy 1.20; for more details and guidance: https://numpy.org/devdocs/release/1.20.0-notes.html#deprecations\n",
      "  rvec_ini = np.array([np.deg2rad(-1),np.deg2rad(1), np.pi + np.deg2rad(2)],dtype = np.float)\n",
      "/tmp/ipykernel_66386/2108698356.py:20: DeprecationWarning: `np.float` is a deprecated alias for the builtin `float`. To silence this warning, use `float` by itself. Doing this will not modify any behavior and is safe. If you specifically wanted the numpy scalar type, use `np.float64` here.\n",
      "Deprecated in NumPy 1.20; for more details and guidance: https://numpy.org/devdocs/release/1.20.0-notes.html#deprecations\n",
      "  tvec_ini = np.array([-2,1,160],dtype = np.float)\n",
      "/tmp/ipykernel_66386/2104487552.py:2: DeprecationWarning: `np.float` is a deprecated alias for the builtin `float`. To silence this warning, use `float` by itself. Doing this will not modify any behavior and is safe. If you specifically wanted the numpy scalar type, use `np.float64` here.\n",
      "Deprecated in NumPy 1.20; for more details and guidance: https://numpy.org/devdocs/release/1.20.0-notes.html#deprecations\n",
      "  res = np.eye(4, dtype = np.float)\n"
     ]
    }
   ],
   "source": [
    "def hom_tf(rvec,tvec):\n",
    "    res = np.eye(4, dtype = np.float)\n",
    "    res[:3,:3] = R.from_rotvec(rvec.flatten()).as_matrix()\n",
    "    res[:3,3] = tvec.flatten()\n",
    "    return res\n",
    "\n",
    "def calc_error(reference_tf,rvecs,tvecs):\n",
    "    res_tf = hom_tf(rvecs,tvecs)\n",
    "\n",
    "    err = np.linalg.inv(reference_tf) @ res_tf\n",
    "    theta = R.from_matrix(err[:3,:3]).as_rotvec()\n",
    "    dt = err[:3,3]\n",
    "    return np.rad2deg(theta), dt\n",
    "        \n",
    "points_3d,anchors = get_points_from_CAD()\n",
    "points_3d = np.hstack((points_3d, np.zeros((points_3d.shape[0],1))))\n",
    "\n",
    "cam_rvecs_tvecs,tfs = get_camera_poses()\n",
    "for rvec,tvec in cam_rvecs_tvecs:\n",
    "#     rvec,tvec = cam_rvecs_tvecs[0]\n",
    "    cam_tf = hom_tf(rvec,tvec)\n",
    "    projected_points, _ = cv2.projectPoints(points_3d, rvec, tvec, mtx, dist)\n",
    "    _,rvecs, tvecs, _ = cv2.solvePnPRansac(points_3d, projected_points, mtx, dist)\n",
    "    print(calc_error(cam_tf,rvecs,tvecs))"
   ]
  },
  {
   "cell_type": "code",
   "execution_count": 8,
   "id": "18d9169a",
   "metadata": {},
   "outputs": [],
   "source": [
    "# generate poses\n",
    "mu, sigma = 0, 0.8 # mean and standard deviation\n",
    "s = np.random.normal(mu, sigma, 1)\n",
    "\n",
    "all_poses = {}\n",
    "\n",
    "np.random.seed(0)\n",
    "\n",
    "i = 0\n",
    "N_poses = 1500\n",
    "for rvec,tvec in cam_rvecs_tvecs:\n",
    "#     cam_tf = hom_tf(rvec,tvec)\n",
    "    projected_points, _ = cv2.projectPoints(points_3d, rvec, tvec, mtx, dist)\n",
    "#     _,rvecs, tvecs, _ = cv2.solvePnPRansac(points_3d, projected_points, mtx, dist)\n",
    "    av_vals = []\n",
    "    for iters in range(N_poses): \n",
    "        projected_points_copy = projected_points.copy()\n",
    "        for pt in projected_points_copy:\n",
    "            pt[0][0] += np.random.normal(mu, sigma, 1)\n",
    "            pt[0][1] += np.random.normal(mu, sigma, 1)    \n",
    "        ret,rvecs, tvecs, inliers = cv2.solvePnPRansac(points_3d, projected_points_copy, mtx, dist,iterationsCount = 50,\n",
    "                                                       reprojectionError = sigma * 0.8 , flags = cv2.SOLVEPNP_SQPNP)\n",
    "\n",
    "        if ret:\n",
    "            av_vals.append([rvecs, tvecs])\n",
    "    \n",
    "    all_poses[i] = av_vals\n",
    "    i+=1                     "
   ]
  },
  {
   "cell_type": "code",
   "execution_count": 9,
   "id": "cfcc5ed2",
   "metadata": {},
   "outputs": [
    {
     "name": "stderr",
     "output_type": "stream",
     "text": [
      "/tmp/ipykernel_66386/2104487552.py:2: DeprecationWarning: `np.float` is a deprecated alias for the builtin `float`. To silence this warning, use `float` by itself. Doing this will not modify any behavior and is safe. If you specifically wanted the numpy scalar type, use `np.float64` here.\n",
      "Deprecated in NumPy 1.20; for more details and guidance: https://numpy.org/devdocs/release/1.20.0-notes.html#deprecations\n",
      "  res = np.eye(4, dtype = np.float)\n"
     ]
    }
   ],
   "source": [
    "def get_cam_i_in_robot():\n",
    "    rvec = np.zeros(3)\n",
    "    tvec = np.array([30,-200,300])\n",
    "    \n",
    "    return hom_tf(rvec,tvec)\n",
    "\n",
    "tf_cam_i_in_robot = get_cam_i_in_robot()\n",
    "rvec,tvec = cam_rvecs_tvecs[0]\n",
    "cam_tf_ref = hom_tf(rvec,tvec)\n",
    "\n",
    "sock_in_robot_tf_ref = tf_cam_i_in_robot @ cam_tf_ref"
   ]
  },
  {
   "cell_type": "code",
   "execution_count": 10,
   "id": "5f70f272",
   "metadata": {},
   "outputs": [],
   "source": [
    "def get_random_pose_error(dt = 0,dr = 0):\n",
    "    mu, sigma = 0, 0.33 # mean and standard deviation\n",
    "    rot_axis = np.random.normal(mu, sigma, (3,1))\n",
    "    rot_axis /= np.linalg.norm(rot_axis)\n",
    "    \n",
    "    sigma = dr/3\n",
    "    rot_ange = np.deg2rad(np.random.normal(mu, sigma, 1))\n",
    "    rvec = rot_ange * rot_axis\n",
    "    \n",
    "    sigma = (0.57 * dt)/3\n",
    "    tvec = np.random.normal(mu, sigma, (3))\n",
    "    rot_mtx =  hom_tf(rvec,tvec)\n",
    "    return rot_mtx\n",
    "\n",
    "\n",
    "def pick_random_poses(all_poses, n = 5):\n",
    "    picked_poses = []\n",
    "    for i in range(n):\n",
    "        sample = random.sample(all_poses[i], 1)\n",
    "        # моделируется ошибка прихода в позу камеры random_pose_error \n",
    "        from_cj_to_ci = np.linalg.inv(tfs[i])\n",
    "        tf_socket_in_cam_j = hom_tf(sample[0][0],sample[0][1])\n",
    "        \n",
    "        robot_error = get_random_pose_error(1.0,1)\n",
    "        tf_cam_i_in_robot = get_cam_i_in_robot()\n",
    "        \n",
    "        cam_j_in_robot = tf_cam_i_in_robot @ from_cj_to_ci\n",
    "        cam_j_in_robot_with_error = cam_j_in_robot @ robot_error\n",
    "        \n",
    "        socket_in_robot = cam_j_in_robot_with_error @ tf_socket_in_cam_j\n",
    "        \n",
    "        rvec = R.from_matrix(socket_in_robot[:3,:3]).as_rotvec()\n",
    "        picked_poses.append([rvec,socket_in_robot[:3,3]])\n",
    "    \n",
    "    picked_poses = np.array(picked_poses).reshape(-1,2,3)\n",
    "    \n",
    "    return picked_poses\n",
    "\n",
    "def get_thresholds(k1 = 0.8,k2 = 0.8,k3=0.9):\n",
    "    \n",
    "    dy = k1 * 2.5\n",
    "    dx = k2 *4\n",
    "    dtheta_1 = k3* (3 + 2-2)\n",
    "    dtheta_2 = k3* (4 + 1-1)\n",
    "    dtheta_3 = k3* (1 )\n",
    "    \n",
    "    return dx,dy,dtheta_1,dtheta_2,dtheta_3\n",
    "\n",
    "dx,dy,dtheta_1,dtheta_2,dtheta_3 = get_thresholds()"
   ]
  },
  {
   "cell_type": "code",
   "execution_count": 11,
   "id": "07800cfe",
   "metadata": {
    "scrolled": true
   },
   "outputs": [
    {
     "name": "stderr",
     "output_type": "stream",
     "text": [
      "/tmp/ipykernel_66386/2104487552.py:2: DeprecationWarning: `np.float` is a deprecated alias for the builtin `float`. To silence this warning, use `float` by itself. Doing this will not modify any behavior and is safe. If you specifically wanted the numpy scalar type, use `np.float64` here.\n",
      "Deprecated in NumPy 1.20; for more details and guidance: https://numpy.org/devdocs/release/1.20.0-notes.html#deprecations\n",
      "  res = np.eye(4, dtype = np.float)\n"
     ]
    },
    {
     "name": "stdout",
     "output_type": "stream",
     "text": [
      "fail_lin 1 fail_rot 6\n",
      "success rate 0.986\n"
     ]
    }
   ],
   "source": [
    "lin_errors = []\n",
    "theta_errors = []\n",
    "fail_lin = 0\n",
    "fail_rot = 0\n",
    "\n",
    "n_trials = 500\n",
    "for i in range(n_trials):\n",
    "    res = np.empty((0,2,3))\n",
    "    for q in range(1):\n",
    "        picked_poses = pick_random_poses(all_poses,n = 5)\n",
    "        res = np.vstack((res,picked_poses))\n",
    "    \n",
    "    r = R.from_rotvec(res[:,0,:])\n",
    "    averaged_tvec = res[:,1,:].mean(axis=0)\n",
    "    rvec_mean = r.mean().as_rotvec()\n",
    "    \n",
    "    aver_tf_robot = hom_tf(rvec_mean,averaged_tvec)\n",
    "    aver_tf_robot_error = aver_tf_robot @ get_random_pose_error(1.0,0.5)\n",
    "    rvec,tvec = to_rvec_tvec(aver_tf_robot_error)\n",
    "    \n",
    "    theta, lin = calc_error(sock_in_robot_tf_ref,rvec,tvec)\n",
    "    lin_errors.append(lin)\n",
    "    theta_errors.append(theta)\n",
    "#     print(theta)\n",
    "    if (np.abs(theta[0]) > dtheta_1 or np.abs(theta[1]) > dtheta_2 or np.abs(theta[2]) > dtheta_3) :\n",
    "        fail_rot +=1\n",
    "    elif (np.abs(lin[0]) > dx \n",
    "        or np.abs(lin[1])>dy):\n",
    "        fail_lin +=1\n",
    "        \n",
    "print(\"fail_lin\", fail_lin, \"fail_rot\",fail_rot)\n",
    "print(\"success rate\",(n_trials*1.0 - (fail_lin+fail_rot))/n_trials)   "
   ]
  },
  {
   "cell_type": "code",
   "execution_count": 12,
   "id": "d9307152",
   "metadata": {},
   "outputs": [
    {
     "name": "stdout",
     "output_type": "stream",
     "text": [
      "[-0.00466177  0.06736351 -0.00165183]\n",
      "[0.34414732 0.83404108 0.55936167]\n"
     ]
    }
   ],
   "source": [
    "lin_errors = np.array(lin_errors)\n",
    "print((lin_errors[:,]).mean(axis = 0))\n",
    "print((lin_errors).std(axis = 0))"
   ]
  },
  {
   "cell_type": "code",
   "execution_count": 13,
   "id": "5293bb1c",
   "metadata": {},
   "outputs": [
    {
     "name": "stdout",
     "output_type": "stream",
     "text": [
      "0.6529527445854861\n",
      "0.8397394804073276\n"
     ]
    }
   ],
   "source": [
    "print(np.linalg.norm((lin_errors[:,]),axis=1).mean())\n",
    "print(np.linalg.norm(lin_errors,axis=1).std())"
   ]
  },
  {
   "cell_type": "code",
   "execution_count": 14,
   "id": "6af7eff3",
   "metadata": {},
   "outputs": [
    {
     "name": "stdout",
     "output_type": "stream",
     "text": [
      "[-0.00466177  0.06736351 -0.00165183]\n",
      "[-0.05057351  0.03517767 -0.00136232]\n"
     ]
    },
    {
     "data": {
      "image/png": "[encoded data removed]",
      "text/plain": [
       "<Figure size 720x432 with 1 Axes>"
      ]
     },
     "metadata": {
      "needs_background": "light"
     },
     "output_type": "display_data"
    }
   ],
   "source": [
    "import matplotlib.pyplot as plt\n",
    "import numpy as np\n",
    "from matplotlib.patches import Polygon\n",
    "\n",
    "lin_errors = np.array(lin_errors)\n",
    "theta_errors = np.array(theta_errors)\n",
    "# print(np.linalg.norm((lin_errors[:,]),axis=1).mean())\n",
    "# print(np.linalg.norm(theta_errors,axis=1).mean())\n",
    "print((lin_errors[:,]).mean(axis = 0))\n",
    "print((theta_errors).mean(axis = 0))\n",
    "\n",
    "lin_errors = np.array(lin_errors)\n",
    "fig, ax1 = plt.subplots(figsize=(10, 6))\n",
    "# axs[0, 0].boxplot(data)\n",
    "bp = ax1.boxplot([lin_errors[:,0],lin_errors[:,1],lin_errors[:,2],theta_errors[:,0],theta_errors[:,1],theta_errors[:,2]])\n",
    "plt.show()"
   ]
  },
  {
   "cell_type": "code",
   "execution_count": null,
   "id": "abc884a5",
   "metadata": {},
   "outputs": [],
   "source": []
  },
  {
   "cell_type": "code",
   "execution_count": null,
   "id": "d81abc71",
   "metadata": {},
   "outputs": [],
   "source": []
  },
  {
   "cell_type": "code",
   "execution_count": 15,
   "id": "fe392d56",
   "metadata": {
    "scrolled": true
   },
   "outputs": [
    {
     "name": "stdout",
     "output_type": "stream",
     "text": [
      "0.8502196349049187\n",
      "0.6059531104572962\n"
     ]
    }
   ],
   "source": [
    "print(np.linalg.norm((theta_errors[:,]),axis=1).mean())\n",
    "print(np.linalg.norm(theta_errors,axis=1).std())"
   ]
  },
  {
   "cell_type": "code",
   "execution_count": null,
   "id": "55a4483e",
   "metadata": {},
   "outputs": [],
   "source": []
  },
  {
   "cell_type": "code",
   "execution_count": 16,
   "id": "39d23440",
   "metadata": {},
   "outputs": [
    {
     "name": "stdout",
     "output_type": "stream",
     "text": [
      "0.6059531104572962\n"
     ]
    }
   ],
   "source": [
    "print(np.linalg.norm(theta_errors,axis=1).std())"
   ]
  },
  {
   "cell_type": "code",
   "execution_count": 17,
   "id": "f7fd1529",
   "metadata": {},
   "outputs": [
    {
     "name": "stdout",
     "output_type": "stream",
     "text": [
      "[0.00046303 0.00016375 0.00040902]\n",
      "[-4.37893624 -2.04480388 -0.66141569]\n"
     ]
    }
   ],
   "source": [
    "print(np.abs((lin_errors[:,])).min(axis = 0))\n",
    "print(theta_errors.min(axis = 0))"
   ]
  },
  {
   "cell_type": "code",
   "execution_count": 18,
   "id": "6207111a",
   "metadata": {},
   "outputs": [
    {
     "data": {
      "text/plain": [
       "array([0.74683149, 0.69996585, 0.19633168])"
      ]
     },
     "execution_count": 18,
     "metadata": {},
     "output_type": "execute_result"
    }
   ],
   "source": [
    "theta_errors.std(axis=0)"
   ]
  },
  {
   "cell_type": "code",
   "execution_count": 19,
   "id": "2196f231",
   "metadata": {
    "scrolled": true
   },
   "outputs": [
    {
     "data": {
      "text/plain": [
       "array([[-0.33573977,  0.05725519,  0.20033683],\n",
       "       [-0.30551604,  2.66428028, -0.66141569],\n",
       "       [-0.43868052,  0.15651711, -0.042214  ],\n",
       "       ...,\n",
       "       [-1.00782817,  0.03090992, -0.23125078],\n",
       "       [ 0.40091109, -0.0811317 ,  0.1029362 ],\n",
       "       [-0.59619272,  0.90938569,  0.01844006]])"
      ]
     },
     "execution_count": 19,
     "metadata": {},
     "output_type": "execute_result"
    }
   ],
   "source": [
    "theta_errors"
   ]
  },
  {
   "cell_type": "code",
   "execution_count": 20,
   "id": "c31f02d4",
   "metadata": {},
   "outputs": [],
   "source": [
    "    res = np.empty((0,2,3))\n",
    "#         res = np.vstack((res,selected_vals))\n",
    "#     print(res.shape)\n",
    "#     print(selected_vals.shape)\n",
    "#     for rvec,tvec in selected_vals:\n",
    "#         theta, lin = calc_error(sock_in_tool_tf_ref,rvec,tvec)"
   ]
  },
  {
   "cell_type": "code",
   "execution_count": 21,
   "id": "8ec7a4aa",
   "metadata": {},
   "outputs": [
    {
     "data": {
      "text/plain": [
       "{'divide': 'warn', 'over': 'warn', 'under': 'ignore', 'invalid': 'warn'}"
      ]
     },
     "execution_count": 21,
     "metadata": {},
     "output_type": "execute_result"
    }
   ],
   "source": [
    "np.seterr(all=\"ignore\")"
   ]
  },
  {
   "cell_type": "code",
   "execution_count": 22,
   "id": "c114ee22",
   "metadata": {
    "scrolled": true
   },
   "outputs": [
    {
     "name": "stdout",
     "output_type": "stream",
     "text": [
      "non averaged\n",
      "1.6999602685292783 1.8035581044035789\n",
      "1.3365474624996618 2.050654289320715\n",
      "0.7852160448449095 0.057046710814912874\n",
      "28.305655447750354 12.398484764226982\n",
      "0.44927159430772645 0.3177421047352013\n",
      "0.5245490529258525 0.8350769984976039\n",
      "0.49885904216341653 0.15968034331600456\n",
      "0.812316641930556 0.9139093764632326\n",
      "1.8035437574817723 1.1848181335439136\n",
      "1.2677522094323386 1.0232937623350271\n",
      "averaged by n= 30\n",
      "0.5209048937745394 0.2367139937958114\n",
      "0.4513118885092522 0.08590946575693303\n",
      "0.19523682498944872 0.05435082189459821\n",
      "0.25090116981060373 0.04713616880818065\n",
      "0.3307149995471815 0.15019390803436866\n",
      "0.373156611327027 0.07964498641930896\n",
      "0.22452651732027334 0.1496374113823882\n",
      "0.32361510506227664 0.11721704524219907\n",
      "0.5136880112294037 0.19220987417073315\n",
      "0.35411024342338704 0.3052233410844849\n",
      "1.2103583633281438 0.7861816189406882\n",
      "0.19092673115622366 0.27756930098938964\n",
      "0.1573324196152905 0.14048031857104046\n",
      "0.2956129293017008 0.0408788995258269\n",
      "0.30171489535841595 0.11823827276391055\n",
      "0.16030086030655508 0.21913395040070466\n",
      "0.27465155262347046 0.09074194950196607\n",
      "0.04904835323128285 0.0564328865905046\n",
      "0.17963153950391217 0.2649869783533165\n",
      "0.14151679548273885 0.167377244118356\n",
      "0.18909077954159068 0.0832525149420221\n",
      "0.7014705508723501 0.3586741036786332\n",
      "0.044004679141174015 0.11005788777086774\n",
      "0.17803681653003944 0.06455659306647402\n",
      "0.13320982029601228 0.05252150663857451\n",
      "0.24288348191943737 0.06527959914264297\n",
      "0.649396946901293 0.15490063207458585\n",
      "0.508387925497787 0.07436309642195416\n",
      "0.1383091296964679 0.06263869406370655\n",
      "0.23751729691731074 0.04134899465188792\n",
      "0.15282473443621652 0.22051066970153022\n",
      "0.29019241106682203 0.09085130734306984\n",
      "0.24826975279982158 0.2606896761913734\n",
      "0.21872635092013112 0.11920235438674233\n",
      "0.4020280605060133 0.31038597480330554\n",
      "1.021238490621015 0.5618090877495587\n",
      "0.10293653836017934 0.15971027350543532\n",
      "0.14822912058980103 0.09346218386723092\n",
      "0.4584533441422131 0.06794780186658055\n",
      "0.41755927276624555 0.19563441172267973\n",
      "0.09816907138802816 0.19183489199766324\n",
      "0.33080144712589066 0.15210220769636376\n",
      "0.41935238758799576 0.15200503363888357\n",
      "0.3442827095702156 0.22830253320908123\n",
      "0.0225335865107417 0.07813104274926297\n",
      "0.5273733824122396 0.24841261915209067\n",
      "0.09595917902111617 0.020888610183240945\n",
      "0.5509472832555403 0.19305170632843668\n",
      "0.1028581351646164 0.18634927617170544\n",
      "0.47009449579343066 0.2725288930223493\n"
     ]
    },
    {
     "name": "stderr",
     "output_type": "stream",
     "text": [
      "/tmp/ipykernel_66386/2104487552.py:2: DeprecationWarning: `np.float` is a deprecated alias for the builtin `float`. To silence this warning, use `float` by itself. Doing this will not modify any behavior and is safe. If you specifically wanted the numpy scalar type, use `np.float64` here.\n",
      "Deprecated in NumPy 1.20; for more details and guidance: https://numpy.org/devdocs/release/1.20.0-notes.html#deprecations\n",
      "  res = np.eye(4, dtype = np.float)\n"
     ]
    }
   ],
   "source": [
    "# proper averaging\n",
    "\n",
    "# random.seed(0)\n",
    "n = 10\n",
    "selected_vals = random.sample(av_vals, n)\n",
    "selected_vals = np.array(selected_vals).reshape(-1,2,3)\n",
    "print(\"non averaged\")\n",
    "for rvec,tvec in selected_vals:\n",
    "    theta, lin = calc_error(cam_tf,rvec,tvec)\n",
    "    print(np.linalg.norm(theta),np.linalg.norm(lin))\n",
    "\n",
    "n = 30\n",
    "print(\"averaged by n=\",n)\n",
    "for i in range(50):\n",
    "    selected_vals = random.sample(av_vals, n)\n",
    "    selected_vals = np.array(selected_vals).reshape(-1,2,3)\n",
    "    # averaged_vals = .mean(axis=0)\n",
    "    r = R.from_rotvec(selected_vals[:,0,:])\n",
    "    averaged_tvec = selected_vals[:,1,:].mean(axis=0)\n",
    "\n",
    "    theta, lin = calc_error(cam_tf,r.mean().as_rotvec(),averaged_tvec)\n",
    "    print(np.linalg.norm(theta),np.linalg.norm(lin))\n",
    "#     for val in selected_vals:\n",
    "#         theta, lin = calc_error(cam_tf,val[0],val[1])\n",
    "#         print(np.linalg.norm(theta),np.linalg.norm(lin))"
   ]
  },
  {
   "cell_type": "code",
   "execution_count": null,
   "id": "e1530668",
   "metadata": {},
   "outputs": [],
   "source": []
  },
  {
   "cell_type": "code",
   "execution_count": 23,
   "id": "deb82e9a",
   "metadata": {},
   "outputs": [
    {
     "data": {
      "text/plain": [
       "array([[ 1.47328213e-03, -1.67532499e-02, -3.10792737e+00],\n",
       "       [ 1.35943569e-02, -3.77918863e-03, -3.10659802e+00],\n",
       "       [ 2.70822162e-02, -7.41867789e-02, -3.10275830e+00],\n",
       "       [ 1.70781521e-02, -1.43633837e-02, -3.11049168e+00],\n",
       "       [ 6.03052796e-02, -3.82119591e-02, -3.10966508e+00],\n",
       "       [-4.17117353e-03, -2.77694845e-02, -3.10162076e+00],\n",
       "       [ 3.87037672e-02, -2.53534694e-02, -3.10568909e+00],\n",
       "       [-6.58515359e-03, -1.04100445e-02, -3.10220232e+00],\n",
       "       [ 4.32241376e-02, -9.42086927e-02, -3.12133863e+00],\n",
       "       [ 3.99058261e-04, -3.45584330e-02, -3.10721313e+00],\n",
       "       [-4.86914126e-02, -9.33297911e-02, -3.09528536e+00],\n",
       "       [ 2.27245912e-02,  5.36390646e-03, -3.10943463e+00],\n",
       "       [-1.48532188e-03, -3.82414920e-02, -3.09946212e+00],\n",
       "       [ 1.56224894e-02, -4.63349490e-02, -3.10733317e+00],\n",
       "       [ 2.83335315e-02, -8.59121849e-03, -3.10625425e+00],\n",
       "       [ 5.55877445e-02, -4.65307496e-02, -3.10609305e+00],\n",
       "       [-2.39015984e-02,  1.20655746e-04, -3.10759374e+00],\n",
       "       [ 1.82651662e-02, -2.30953959e-03, -3.10659964e+00],\n",
       "       [-1.33189506e-02, -5.30132236e-02, -3.09755872e+00],\n",
       "       [ 1.43903600e-02, -4.23220751e-03, -3.10687975e+00],\n",
       "       [ 2.79279783e-02,  1.69251316e-02, -3.10760519e+00],\n",
       "       [ 9.32270516e-03, -3.40739942e-02, -3.10848150e+00],\n",
       "       [ 5.07261676e-03, -1.70849300e-02, -3.10892374e+00],\n",
       "       [-1.13934083e-02, -1.23917782e-02, -3.10791849e+00],\n",
       "       [ 2.42665924e-02, -1.04818137e-02, -3.11118655e+00],\n",
       "       [ 2.17967489e-02,  5.99806914e-03, -3.10936827e+00],\n",
       "       [ 3.20304590e-02, -1.99219243e-02, -3.10626258e+00],\n",
       "       [ 1.63096920e-02, -4.68062179e-02, -3.10481347e+00],\n",
       "       [-9.44328245e-02, -2.70994330e-02, -3.06873106e+00],\n",
       "       [ 1.77708593e-03, -4.84864038e-02, -3.10816464e+00]])"
      ]
     },
     "execution_count": 23,
     "metadata": {},
     "output_type": "execute_result"
    }
   ],
   "source": [
    "selected_vals.reshape(-1,2,3)[:,0,:]"
   ]
  },
  {
   "cell_type": "code",
   "execution_count": 24,
   "id": "2df4d875",
   "metadata": {},
   "outputs": [
    {
     "data": {
      "image/png": "[encoded data removed]",
      "text/plain": [
       "<Figure size 432x288 with 1 Axes>"
      ]
     },
     "metadata": {
      "needs_background": "light"
     },
     "output_type": "display_data"
    }
   ],
   "source": [
    "import matplotlib.pyplot as plt\n",
    "\n",
    "mu, sigma = 0, 0.1 # mean and standard deviation\n",
    "s = np.random.normal(mu, sigma, 1000)\n",
    "\n",
    "count, bins, ignored = plt.hist(s, 30, density=True)\n",
    "plt.plot(bins, 1/(sigma * np.sqrt(2 * np.pi)) *\n",
    "               np.exp( - (bins - mu)**2 / (2 * sigma**2) ),\n",
    "         linewidth=2, color='r')\n",
    "plt.show()\n",
    "\n",
    "mean = (1, 2)\n",
    "cov = [[100, 0], [0, 1]]\n",
    "x = np.random.multivariate_normal(mean, cov, (3, 3))"
   ]
  },
  {
   "cell_type": "code",
   "execution_count": 25,
   "id": "e1d5ad0d",
   "metadata": {},
   "outputs": [],
   "source": [
    "# cam_i_in_robot = np.eye(3)\n",
    "# cam_i_in_robot[:,0] = np.array([0,1,0])\n",
    "# cam_i_in_robot[:,1] = np.array([0,0,-1])\n",
    "# cam_i_in_robot[:,2] = np.array([1,0,0])\n",
    "\n",
    "# print(cam_i_in_robot)"
   ]
  }
 ],
 "metadata": {
  "kernelspec": {
   "display_name": "Python 3 (ipykernel)",
   "language": "python",
   "name": "python3"
  },
  "language_info": {
   "codemirror_mode": {
    "name": "ipython",
    "version": 3
   },
   "file_extension": ".py",
   "mimetype": "text/x-python",
   "name": "python",
   "nbconvert_exporter": "python",
   "pygments_lexer": "ipython3",
   "version": "3.9.12"
  }
 },
 "nbformat": 4,
 "nbformat_minor": 5
}
