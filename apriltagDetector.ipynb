{
 "cells": [
  {
   "cell_type": "code",
   "execution_count": null,
   "id": "600a4206",
   "metadata": {},
   "outputs": [],
   "source": [
    "import dt_apriltags as apriltag\n",
    "import cv2\n",
    "import annotation_utils as utils\n",
    "\n",
    "import numpy as np\n",
    "from scipy.spatial.transform import Rotation as R\n",
    "\n",
    "import pyrealsense2 as rs\n",
    "import urx\n",
    "np.set_printoptions(suppress=True)"
   ]
  },
  {
   "cell_type": "code",
   "execution_count": null,
   "id": "817eef21",
   "metadata": {},
   "outputs": [],
   "source": [
    "dist = np.array([[-0.04797802,  0.04744357,  0.00017416,  0.00067967, -0.00408397]])\n",
    "detector = apriltag.Detector(families=\"tagStandard52h13\")\n",
    "mtx = np.array([[633.09029639, 0., 629.06462963], [0., 638.7544391, 362.74013262], [0., 0., 1.]])\n",
    "\n",
    "camera_params = [635.0, 635.0, 629.0646296262861, 362.7401326185789]\n",
    "\n",
    "def solve_pnp(obj_points, imagePoints,mtx, dist):\n",
    "    success, rvec, tvec,inliers  = cv2.solvePnPRansac(obj_points, np.array([imagePoints]), mtx, dist,reprojectionError = 0.5)\n",
    "        \n",
    "    if not success:\n",
    "        print('not success in PnP')\n",
    "        return\n",
    "    return tvec, rvec,inliers\n"
   ]
  },
  {
   "cell_type": "code",
   "execution_count": 53,
   "id": "d8f26b40",
   "metadata": {},
   "outputs": [
    {
     "name": "stdout",
     "output_type": "stream",
     "text": [
      "inliers_m\n",
      " [[0 1 2 3 4]]\n",
      "[[ -0.99988473   0.01309331  -0.00768735 -14.69300341]\n",
      " [ -0.01307967  -0.9999128   -0.00182186  -4.2235037 ]\n",
      " [ -0.00771053  -0.0017211    0.99996879 287.77684282]\n",
      " [  0.           0.           0.           1.        ]]\n"
     ]
    }
   ],
   "source": [
    "img_with_marker_name = 'marker.jpg'\n",
    "\n",
    "img = cv2.imread(img_with_marker_name)\n",
    "\n",
    "res = utils.detect_apriltag(img, camera_params)\n",
    "\n",
    "corners_2d = res[0].corners\n",
    "center_2d = res[0].center\n",
    "\n",
    "marker_pts_2d = np.vstack((center_2d, corners_2d))\n",
    "corners_3D = np.array(\n",
    "[(0, 0,0),\n",
    " (24, 24,0),\n",
    " (24, -24,0),\n",
    " (-24, -24,0),\n",
    " (-24,24, 0)], dtype=float)\n",
    "# print(marker_pts_2d)\n",
    "# print(corners_3D)\n",
    "tvec_m,rvec_m,inliers_m = solve_pnp(corners_3D,marker_pts_2d,mtx, dist)\n",
    "print(\"inliers_m\\n\",inliers_m.T)\n",
    "\n",
    "rot_error = R.from_rotvec(rvec_gt.flatten()).as_matrix() @ R.from_rotvec(rvec_m.flatten()).as_matrix().T\n",
    "\n",
    "tf_m_in_cam = np.eye(4)\n",
    "tf_m_in_cam[:3,:3] = R.from_rotvec(rvec_m.flatten()).as_matrix()\n",
    "tf_m_in_cam[:3,3] = tvec_m.flatten()\n",
    "print(tf_m_in_cam)"
   ]
  },
  {
   "cell_type": "code",
   "execution_count": 51,
   "id": "33766ab5",
   "metadata": {},
   "outputs": [
    {
     "name": "stdout",
     "output_type": "stream",
     "text": [
      "inliers_gt\n",
      " [[0 1 2 3 6]]\n",
      "[[ -0.99906004  -0.02333392   0.03653156 -14.7314117 ]\n",
      " [  0.02743588  -0.99285334   0.11614435  -6.48518631]\n",
      " [  0.03356038   0.11703746   0.99256029 286.14096793]\n",
      " [  0.           0.           0.           1.        ]]\n"
     ]
    }
   ],
   "source": [
    "anchor_gt_2D = np.array(\n",
    "[(597, 349),\n",
    " (579, 325),\n",
    " (614, 324),\n",
    " (562, 350),\n",
    " (633, 349),\n",
    " (581, 380),\n",
    " (615, 379)], dtype=float)\n",
    "\n",
    "img_with_marker_name = 'marker.jpg'\n",
    "img_without_marker_name = 'no_marker.jpg'\n",
    "\n",
    "keypoints, anchors = utils.get_points_from_CAD()\n",
    "# anchors[:,2] = 2.25\n",
    "tvec_gt,rvec_gt,inliers_gt = solve_pnp(anchors,anchor_gt_2D,mtx, dist)\n",
    "print(\"inliers_gt\\n\",inliers_gt.T)\n",
    "\n",
    "tf_s_in_c = np.eye(4)\n",
    "tf_s_in_c[:3,:3] = R.from_rotvec(rvec_gt.flatten()).as_matrix()\n",
    "tf_s_in_c[:3,3] = tvec_gt.flatten()\n",
    "print(tf_s_in_c)"
   ]
  },
  {
   "cell_type": "code",
   "execution_count": 55,
   "id": "a2386a51",
   "metadata": {},
   "outputs": [
    {
     "name": "stdout",
     "output_type": "stream",
     "text": [
      "[[ -0.99965646  -0.02505733  -0.00768735 -14.7314117 ]\n",
      " [  0.02507203  -0.99968399  -0.00182186  -6.48518631]\n",
      " [ -0.00763927  -0.00201397   0.99996879 287.77684282]\n",
      " [  0.           0.           0.           1.        ]]\n"
     ]
    }
   ],
   "source": [
    "# доворот\n",
    "z_from = tf_s_in_c[:3,2]\n",
    "z_to = tf_m_in_cam[:3,2]\n",
    "angle = np.arccos(z_from@z_to)\n",
    "rot_ax = np.cross(z_from,z_to)\n",
    "\n",
    "# print(angle,rot_ax)\n",
    "rot_vec = rot_ax /np.linalg.norm(rot_ax) * angle\n",
    "rot_mtx = R.from_rotvec(rot_vec).as_matrix()\n",
    "# print(rot_mtx @ z_from -z_to )\n",
    "\n",
    "tf_s_in_c[:3,:3]  = rot_mtx @ tf_s_in_c[:3,:3]\n",
    "\n",
    "# корректировка по OZ\n",
    "tf_s_in_c[2,3] = tf_m_in_cam[2,3]\n",
    "print(tf_s_in_c)\n"
   ]
  },
  {
   "cell_type": "code",
   "execution_count": 56,
   "id": "593e9287",
   "metadata": {},
   "outputs": [
    {
     "name": "stdout",
     "output_type": "stream",
     "text": [
      "[[ 0.9992722   0.03814551 -0.          0.06798593]\n",
      " [-0.03814551  0.9992722  -0.          2.2609825 ]\n",
      " [ 0.          0.          1.          0.00441573]\n",
      " [ 0.          0.          0.          1.        ]]\n",
      "[ 0. -0. -1.]\n",
      "2.174821780366478\n"
     ]
    }
   ],
   "source": [
    "tf_err_in_m = np.linalg.inv(tf_m_in_cam) @ tf_s_in_c\n",
    "print(tf_err_in_m)\n",
    "\n",
    "vec = R.from_matrix(tf_err_in_m[:3,:3]).as_rotvec() \n",
    "print(vec/np.linalg.norm(vec))\n",
    "print(np.linalg.norm(vec)*57)"
   ]
  },
  {
   "cell_type": "code",
   "execution_count": 57,
   "id": "c27cbc46",
   "metadata": {},
   "outputs": [
    {
     "name": "stdout",
     "output_type": "stream",
     "text": [
      "[[  7.63735315  39.50935466   0.00441573   1.        ]\n",
      " [ -4.63970504  39.97801042   0.00441573   1.        ]\n",
      " [ 28.3546594   29.86806545   0.00441573   1.        ]\n",
      " [-26.03172909  31.94417304   0.00441573   1.        ]\n",
      " [ 14.24399572  28.59940059   0.00441573   1.        ]\n",
      " [-12.058847    29.60346673   0.00441573   1.        ]\n",
      " [ 28.48950318  20.4500673    0.00441573   1.        ]\n",
      " [-26.88416624  22.56386266   0.00441573   1.        ]\n",
      " [ 38.50408988   6.3277775    0.00441573   1.        ]\n",
      " [-37.94622868   9.24613798   0.00441573   1.        ]\n",
      " [ 18.91316008 -25.75126375   0.00441573   1.        ]\n",
      " [-20.85787328 -24.2330724    0.00441573   1.        ]\n",
      " [ 19.33204213 -27.88579574   0.00441573   1.        ]\n",
      " [-21.43826343 -26.32945889   0.00441573   1.        ]]\n"
     ]
    }
   ],
   "source": [
    "keypoints3d_homog = np.hstack((\n",
    "    keypoints,\n",
    "    np.zeros((keypoints.shape[0],1)),\n",
    "    np.ones((keypoints.shape[0],1))))\n",
    "\n",
    "keypoints_corrected = (tf_err_in_m @ keypoints3d_homog.T).T\n",
    "\n",
    "print(keypoints_corrected)"
   ]
  },
  {
   "cell_type": "code",
   "execution_count": null,
   "id": "d41fbad7",
   "metadata": {},
   "outputs": [],
   "source": [
    "keypoints_new = (tf_s_in_c @ anchor_kpts.T).T\n",
    "print(keypoints_new)\n",
    "print(keypoints.shape)\n",
    "keypoints = np.hstack((\n",
    "    keypoints,\n",
    "    np.zeros((keypoints.shape[0],1)),\n",
    "    np.ones((keypoints.shape[0],1))))\n",
    "\n",
    "\n",
    "keypoints_corrected = (tf_err_in_m @ keypoints.T).T\n",
    "\n",
    "print(keypoints_corrected)"
   ]
  },
  {
   "cell_type": "code",
   "execution_count": null,
   "id": "21030711",
   "metadata": {},
   "outputs": [],
   "source": [
    "anchor_kpts = np.zeros((6,2), dtype=float)\n",
    "i = 0\n",
    "anchor_kpts[2*i] = [6.143, 37.51]\n",
    "anchor_kpts[2*i+1] = [-anchor_kpts[2*i][0], anchor_kpts[2*i][1]]\n",
    "i +=1\n",
    "anchor_kpts[2*i] = [33.75, 0]\n",
    "anchor_kpts[2*i+1] = [-anchor_kpts[2*i][0], anchor_kpts[2*i][1]]\n",
    "i+=1\n",
    "anchor_kpts[2*i] = [19.9, -27.273]\n",
    "anchor_kpts[2*i+1] = [-anchor_kpts[2*i][0], anchor_kpts[2*i][1]]\n",
    "\n",
    "anchor_kpts = np.hstack((anchor_kpts, np.zeros((6,1))))\n",
    "anchor_gt_kpts2D = np.array(\n",
    "[(576, 266),\n",
    " (625, 267),\n",
    " (525, 349),\n",
    " (671, 353),\n",
    " (552, 409),\n",
    " (644, 409)], dtype=float)"
   ]
  },
  {
   "cell_type": "code",
   "execution_count": null,
   "id": "970d84b7",
   "metadata": {},
   "outputs": [],
   "source": [
    "img_with_marker_name = 'marker.jpg'\n",
    "img_without_marker_name = 'no_marker.jpg'\n",
    "img = cv2.imread(img_without_marker_name)\n",
    "utils.show_image_with_points(img,anchor_gt_kpts2D, \"bb\")\n",
    "cv2.destroyAllWindows()"
   ]
  },
  {
   "cell_type": "code",
   "execution_count": null,
   "id": "b92a5dbf",
   "metadata": {},
   "outputs": [],
   "source": [
    "obj_points = np.zeros((5,3), dtype=float)\n",
    "obj_points[0][1] = 40.0\n",
    "obj_points[1][0] = 40.0\n",
    "obj_points[1][1] = 40.0\n",
    "obj_points[2][0] = 40.0\n",
    "obj_points[4][0] = 20.0\n",
    "obj_points[4][1] = 20.0\n",
    "\n",
    "print(obj_points.shape)\n",
    "\n",
    "for r in results:\n",
    "    imagePoints = r.corners.reshape(1,4,2)\n",
    "    center = r.center.reshape(1,1,2)\n",
    "\n",
    "    imgpoints = np.concatenate((imagePoints, center), axis=1)\n",
    "    success, rvec, tvec = cv2.solvePnP(obj_points, imgpoints, mtx, dist)\n"
   ]
  },
  {
   "cell_type": "code",
   "execution_count": null,
   "id": "651f74bd",
   "metadata": {},
   "outputs": [],
   "source": [
    "anchor_gt_2D = np.array(\n",
    "[(623, 336),\n",
    " (610, 318),\n",
    " (636, 318),\n",
    " (597, 336),\n",
    " (649, 336),\n",
    " (610, 358),\n",
    " (636, 358)], dtype=float)"
   ]
  },
  {
   "cell_type": "code",
   "execution_count": null,
   "id": "8ed3e707",
   "metadata": {},
   "outputs": [],
   "source": [
    "obj_points = np.zeros((5,3), dtype=float)\n",
    "obj_points[0][1] = 40.0\n",
    "obj_points[1][0] = 40.0\n",
    "obj_points[1][1] = 40.0\n",
    "obj_points[2][0] = 40.0\n",
    "obj_points[4][0] = 20.0\n",
    "obj_points[4][1] = 20.0\n",
    "\n",
    "print(obj_points)"
   ]
  },
  {
   "cell_type": "code",
   "execution_count": null,
   "id": "c36dd5d9",
   "metadata": {},
   "outputs": [],
   "source": []
  },
  {
   "cell_type": "code",
   "execution_count": null,
   "id": "472e67e6",
   "metadata": {},
   "outputs": [],
   "source": []
  },
  {
   "cell_type": "code",
   "execution_count": null,
   "id": "9475a4ab",
   "metadata": {},
   "outputs": [],
   "source": [
    "def draw_nums(img, points, show=False):\n",
    "    for i in range(len(points)):\n",
    "        point = (int(points[i][0][0]), int(points[i][0][1]))\n",
    "        cv2.putText(img, str(i), point, cv2.FONT_HERSHEY_SIMPLEX, 12, (255,0,255))\n",
    "        cv2.circle(img, point, 2, (255,0,255), -1)\n",
    "    \n",
    "    if show:\n",
    "        cv2.imshow('img', img)\n",
    "        cv2.waitKey(10)"
   ]
  },
  {
   "cell_type": "code",
   "execution_count": null,
   "id": "adc471a2",
   "metadata": {},
   "outputs": [],
   "source": [
    "def get_socket_points(img, points_array, lines_array, bbox_array, tvec, rvec, \n",
    "                      show=False, draw_l=True, draw_p=True, draw_b=True):\n",
    "    if isinstance(img, str):\n",
    "        img = cv2.imread(img)\n",
    "#     img = increase_brightness(img, 50)\n",
    "    img_points = None\n",
    "    \n",
    "    if draw_p:\n",
    "        img_points, _ = cv2.projectPoints(points_array, rvec, tvec, mtx, dist)\n",
    "        draw_points(img, img_points)\n",
    "    if draw_l:\n",
    "        lines_points, _ = cv2.projectPoints(lines_array, rvec, tvec, mtx, dist)\n",
    "        draw_lines(img, lines_points)\n",
    "    if draw_b:\n",
    "        bbox_arr, _ = cv2.projectPoints(bbox_array, rvec, tvec, mtx, dist)\n",
    "        draw_bbox(img, bbox_arr)\n",
    "    \n",
    "    if show:\n",
    "        cv2.imshow(\"Image\", img)\n",
    "        cv2.waitKey(1)\n",
    "    return img, img_points"
   ]
  },
  {
   "cell_type": "code",
   "execution_count": null,
   "id": "dd4cae8c",
   "metadata": {},
   "outputs": [],
   "source": [
    "def detect_apriltag(img):\n",
    "    if isinstance(img, str):\n",
    "        print('reading img from file system')\n",
    "        img = cv2.imread(img)\n",
    "    if not type(img[0][0][0]) == np.uint8:\n",
    "        img = img/img.max()\n",
    "        img *= 255\n",
    "        img = img.astype(np.uint8)\n",
    "#         cv2.imshow('detect_apriltag', img)\n",
    "        cv2.waitKey(1)\n",
    "    gray = cv2.cvtColor(img, cv2.COLOR_BGR2GRAY)\n",
    "    \n",
    "    results = detector.detect(gray,\n",
    "                              estimate_tag_pose=True,\n",
    "                              camera_params=camera_params, \n",
    "                              tag_size=0.04)\n",
    "    if not results:\n",
    "        print('apriltag not found')\n",
    "        return\n",
    "    return results"
   ]
  },
  {
   "cell_type": "code",
   "execution_count": null,
   "id": "f604055d",
   "metadata": {},
   "outputs": [],
   "source": [
    "def warp_img(image, res):\n",
    "    corners = res[0].corners\n",
    "    \n",
    "    corners[:2] = np.array(sorted(corners[:2], key=lambda x: x[1]))\n",
    "    corners[2:] = np.array(sorted(corners[2:], key=lambda x: x[1]))\n",
    "\n",
    "    a = corners[:2][:, 0].mean()\n",
    "    c = corners[2:][:, 0].mean()\n",
    "    b = corners[::2][:, 1].mean()\n",
    "    d = corners[1::2][:, 1].mean()\n",
    "\n",
    "    desired_corners = np.array([[a, b], [a, d], [c, b], [c, d]], dtype=int)\n",
    "\n",
    "    tform = get_projection(desired_corners, corners)\n",
    "    image_warped = warp(image, tform)\n",
    "    return image_warped, desired_corners"
   ]
  },
  {
   "cell_type": "code",
   "execution_count": null,
   "id": "10ecb134",
   "metadata": {},
   "outputs": [],
   "source": [
    "def get_projection(c_to, c_from):\n",
    "    tform = ProjectiveTransform()\n",
    "    tform.estimate(c_to, c_from)\n",
    "    return tform"
   ]
  },
  {
   "cell_type": "code",
   "execution_count": null,
   "id": "797a804f",
   "metadata": {},
   "outputs": [],
   "source": [
    "# pose_left = ur10.getl()"
   ]
  },
  {
   "cell_type": "code",
   "execution_count": null,
   "id": "b01dc535",
   "metadata": {},
   "outputs": [],
   "source": [
    "ur10.movej((-4.048973385487692, -1.1045106093036097, 1.546417236328125,\n",
    "            2.811586380004883, -0.7216728369342249, 3.1041338443756104))"
   ]
  },
  {
   "cell_type": "code",
   "execution_count": null,
   "id": "b68b2eab",
   "metadata": {},
   "outputs": [],
   "source": [
    "# pose_center = ur10.getl()"
   ]
  },
  {
   "cell_type": "code",
   "execution_count": null,
   "id": "f221a856",
   "metadata": {},
   "outputs": [],
   "source": [
    "# pose_right = ur10.getl()"
   ]
  },
  {
   "cell_type": "code",
   "execution_count": null,
   "id": "90cf6917",
   "metadata": {},
   "outputs": [],
   "source": [
    "points_arr = np.array(\n",
    "    [[-132. ,   44. ,  -46. ],\n",
    "       [-132. ,   27. ,  -46. ],\n",
    "       [-143. ,   46. ,  -43. ],\n",
    "       [-143. ,   40. ,  -45. ],\n",
    "       [-142.5,   31. ,  -46. ],\n",
    "       [-142.5,   24. ,  -45. ],\n",
    "       [-149. ,   60. ,  -45. ],\n",
    "       [-149. ,   43. ,  -44. ],\n",
    "       [-149. ,   27. ,  -45. ],\n",
    "       [-149. ,   11. ,  -45. ],\n",
    "       [-156. ,   47. ,  -46. ],\n",
    "       [-156. ,   39. ,  -45. ],\n",
    "       [-156. ,   31. ,  -46. ],\n",
    "       [-156. ,   23. ,  -46. ],\n",
    "       [-162. ,   35. ,  -45. ],\n",
    "       [-171. ,   44. ,  -46. ],\n",
    "       [-171. ,   27. ,  -45. ]], dtype=np.float32)\n",
    "DEPTH = -40\n",
    "bbox = np.array([\n",
    "    [10, 128, DEPTH],\n",
    "    [59, 128, DEPTH],\n",
    "    [59, 170, DEPTH],\n",
    "    [10, 170, DEPTH]\n",
    "], dtype=float)\n",
    "bbox[:,[0, 1]] = bbox[:,[1, 0]]\n",
    "bbox[:, 0] = -bbox[:, 0]"
   ]
  },
  {
   "cell_type": "code",
   "execution_count": null,
   "id": "6800670f",
   "metadata": {},
   "outputs": [],
   "source": [
    "lines = np.array([\n",
    "    [0,0,0],\n",
    "    [100,0,0],\n",
    "    [0,100,0],\n",
    "    [0,0,100]\n",
    "], dtype=float)"
   ]
  },
  {
   "cell_type": "code",
   "execution_count": null,
   "id": "0c7eb655",
   "metadata": {},
   "outputs": [],
   "source": [
    "def draw_bbox(img, bbox_arr, show=False):\n",
    "    print(bbox_arr)\n",
    "    color = (0,255,0)\n",
    "    cv2.line(img, \n",
    "            [int(x) for x in bbox_arr[0][0]],\n",
    "            [int(x) for x in bbox_arr[1][0]], color, 1)\n",
    "    cv2.line(img, \n",
    "            [int(x) for x in bbox_arr[1][0]], \n",
    "            [int(x) for x in bbox_arr[2][0]], color, 1)\n",
    "    cv2.line(img, \n",
    "            [int(x) for x in bbox_arr[2][0]], \n",
    "            [int(x) for x in bbox_arr[3][0]], color, 1)\n",
    "    cv2.line(img, \n",
    "            [int(x) for x in bbox_arr[3][0]], \n",
    "            [int(x) for x in bbox_arr[0][0]], color, 1)\n",
    "    \n",
    "    if show:\n",
    "        cv2.imshow('img', img)\n",
    "        cv2.waitKey(10)"
   ]
  },
  {
   "cell_type": "code",
   "execution_count": null,
   "id": "517f0e97",
   "metadata": {},
   "outputs": [],
   "source": [
    "def draw_lines(img, line_arr, show=False):\n",
    "    colors = [(255,255,0), (0,255,0), (0,0,255)]\n",
    "    for i, line in enumerate(line_arr[1:]):\n",
    "        cv2.line(img, [int(x) for x in line_arr[0][0]], [int(x) for x in line[0]], colors[i-1], 2)\n",
    "    if show:\n",
    "        cv2.imshow('img', img)\n",
    "        cv2.waitKey(10)"
   ]
  },
  {
   "cell_type": "code",
   "execution_count": null,
   "id": "b8abc450",
   "metadata": {},
   "outputs": [],
   "source": [
    "cv2.destroyAllWindows()"
   ]
  },
  {
   "cell_type": "code",
   "execution_count": null,
   "id": "5c6c2129",
   "metadata": {},
   "outputs": [],
   "source": [
    "name = 2\n",
    "count = 0\n",
    "centers = []\n",
    "# ress = []\n",
    "while count < 10:\n",
    "    img = get_photo_from_realsense()\n",
    "    res = detect_apriltag(img)\n",
    "    count += 1\n",
    "    \n",
    "    if not res: \n",
    "        continue\n",
    "\n",
    "#     ress = res\n",
    "#     break\n",
    "#     centers.append(res[0].center)\n",
    "#     print(res)\n",
    "#     ress.append(res)\n",
    "    \n",
    "    draw_apriltag(img, res,show=True)\n",
    "    tvec, rvec,objpts = solve_pnp(res)\n",
    "    print(tvec)\n",
    "#     processed, _ = get_socket_points(img, points_arr, lines, bbox, tvec, rvec, \n",
    "#                                    show=True, draw_l=True, draw_p=True, draw_b=False)\n",
    "    \n",
    "    \n",
    "#     fname = f'/home/viacheslav/jupyter_notebooks/{name}_processed.jpg'\n",
    "#     cv2.imwrite(fname, img)\n",
    "#     name += 1\n",
    "#     break\n"
   ]
  },
  {
   "cell_type": "code",
   "execution_count": null,
   "id": "2cb294e7",
   "metadata": {},
   "outputs": [],
   "source": [
    "[[-23.50502963]\n",
    " [  8.35980833]\n",
    " [110.64977061]]"
   ]
  },
  {
   "cell_type": "code",
   "execution_count": null,
   "id": "0e230ff4",
   "metadata": {},
   "outputs": [],
   "source": [
    "centers = np.array(centers)\n",
    "\n",
    "print(np.var(centers,axis = 0))"
   ]
  },
  {
   "cell_type": "code",
   "execution_count": null,
   "id": "6e2ef41b",
   "metadata": {},
   "outputs": [],
   "source": [
    "name = 1\n",
    "ress1 = []\n",
    "centers = []\n",
    "corners = []\n",
    "count = 0\n",
    "while name< 100:\n",
    "    img = get_photo_from_realsense()\n",
    "    res = detect_apriltag(img)\n",
    "#     print(res)\n",
    "    if not res: \n",
    "        continue\n",
    "    for r in res:\n",
    "        centers.append(r.center)\n",
    "        corners.append(r.corners)\n",
    "    count+=1\n",
    "#     ress.append(res)\n",
    "#     cv2.imshow(\"Image\", img)\n",
    "#     cv2.waitKey(10)\n",
    "    draw_apriltag(img, res)\n",
    "#     tvec, rvec, objpts = solve_pnp(res)\n",
    "#     processed, _ = get_socket_points(img, points_arr, lines, bbox, tvec, rvec, \n",
    "#                                    show=True, draw_l=True, draw_p=False, draw_b=False)\n",
    "    \n",
    "    \n",
    "    fname = f'/home/viacheslav/jupyter_notebooks/new_data/{name}_processed.jpg'\n",
    "#     print(fname)\n",
    "    cv2.imwrite(fname, img)\n",
    "    name += 1\n",
    "#     break\n"
   ]
  },
  {
   "cell_type": "code",
   "execution_count": null,
   "id": "ee499ee0",
   "metadata": {},
   "outputs": [],
   "source": [
    "centers = np.array(centers)\n",
    "print(np.mean(centers,axis = 0))\n",
    "print(np.sqrt(np.var(centers,axis = 0)))"
   ]
  },
  {
   "cell_type": "code",
   "execution_count": null,
   "id": "03165814",
   "metadata": {},
   "outputs": [],
   "source": [
    "corners = np.array(corners)\n",
    "# i = 0\n",
    "for i in range (4):\n",
    "# print(np.mean(corners[:,i],axis = 0))\n",
    "    print(np.sqrt(np.var(corners[:,i],axis = 0)))\n",
    "# print(corners[0])"
   ]
  },
  {
   "cell_type": "code",
   "execution_count": null,
   "id": "11c86424",
   "metadata": {},
   "outputs": [],
   "source": [
    "corners[:10,0]"
   ]
  },
  {
   "cell_type": "code",
   "execution_count": null,
   "id": "55070482",
   "metadata": {},
   "outputs": [],
   "source": [
    "# Good lighting \n",
    "print(np.mean(centers,axis = 0))\n",
    "print(np.var(centers,axis = 0))\n",
    "\n",
    "[655.96844896 321.05286757]\n",
    "[0.00012992 0.00013354]\n",
    "\n",
    "# Poor lighting \n",
    "[656.07557452 321.20941614]\n",
    "[0.00089831 0.00115515]\n",
    "\n"
   ]
  },
  {
   "cell_type": "code",
   "execution_count": null,
   "id": "1b3c0623",
   "metadata": {},
   "outputs": [],
   "source": [
    "centers"
   ]
  },
  {
   "cell_type": "code",
   "execution_count": null,
   "id": "2a816a96",
   "metadata": {},
   "outputs": [],
   "source": [
    "ress1[0][0]"
   ]
  },
  {
   "cell_type": "code",
   "execution_count": null,
   "id": "322165c8",
   "metadata": {},
   "outputs": [],
   "source": [
    "ress[0][0].center"
   ]
  },
  {
   "cell_type": "code",
   "execution_count": null,
   "id": "ad7ee21c",
   "metadata": {},
   "outputs": [],
   "source": [
    "results = np.array([r[0].center for r in ress])\n",
    "results[:,1].std()"
   ]
  },
  {
   "cell_type": "code",
   "execution_count": null,
   "id": "30561b08",
   "metadata": {},
   "outputs": [],
   "source": [
    "def make_photo(path='/home/viacheslav/jupyter_notebooks/processed_23_9', name=0):\n",
    "    img = get_photo_from_realsense()\n",
    "    res = detect_apriltag(img)\n",
    "    if not res: \n",
    "        return name\n",
    "    draw_apriltag(img, res)\n",
    "    tvec, rvec = solve_pnp(res)\n",
    "    processed = get_socket_points(img, points_arr, lines, bbox, tvec, rvec, draw_b=False, draw_l=False)\n",
    "    cv2.imshow('img', img)\n",
    "    cv2.waitKey(1)\n",
    "    fname = path+f'/{name}_processed.jpg'\n",
    "    cv2.imwrite(fname, processed)\n",
    "    name += 1\n",
    "    return name"
   ]
  },
  {
   "cell_type": "code",
   "execution_count": null,
   "id": "8aa9f181",
   "metadata": {},
   "outputs": [],
   "source": [
    "def move_to_next_pos_and_photo(end:list, num_photos:int, img_name):\n",
    "    start = ur10.getl()\n",
    "    deltas = np.array([x-y for x, y in zip(end, start)])/num_photos\n",
    "    for _ in range(num_photos):\n",
    "        ur10.movel(ur10.getl()+deltas, vel=0.1, acc=0.5)\n",
    "        img_name = make_photo(name=img_name)\n",
    "    return img_name"
   ]
  },
  {
   "cell_type": "code",
   "execution_count": null,
   "id": "0c2bc1a0",
   "metadata": {},
   "outputs": [],
   "source": [
    "cv2.destroyAllWindows()"
   ]
  },
  {
   "cell_type": "code",
   "execution_count": null,
   "id": "7e05272b",
   "metadata": {},
   "outputs": [],
   "source": [
    "ur10.getl()"
   ]
  },
  {
   "cell_type": "code",
   "execution_count": null,
   "id": "5ab7d302",
   "metadata": {},
   "outputs": [],
   "source": [
    "boundary_positions = np.array([[ 0.232085  , -0.61961176,  0.43073168,  1.13699011,  1.24920145,\n",
    "         1.22539067],\n",
    "       [ 0.2333736 , -0.60270578,  0.63426659,  1.17489684,  1.22881322,\n",
    "         1.24945387],\n",
    "       [ 0.42691084, -0.61264868,  0.58616166,  1.3315313 ,  1.41684329,\n",
    "         1.23695536],\n",
    "       [ 0.29272549, -0.60669106,  0.33210261,  0.9753124 ,  0.95871666,\n",
    "         1.43494421],\n",
    "       [ 0.33165193, -0.25687359,  0.36506057,  1.30079001,  0.75824351,\n",
    "         0.868352  ],\n",
    "       [ 0.33153143, -0.22721475,  0.82933533,  1.67432401,  0.98844306,\n",
    "         0.83238533],\n",
    "       [ 0.44529088, -0.30760203,  0.6630999 ,  1.49787613,  1.12812965,\n",
    "         0.9164792 ],\n",
    "       [ 0.48105068, -0.37105609,  0.34244749,  1.08186592,  0.84939581,\n",
    "         1.07530735]])"
   ]
  },
  {
   "cell_type": "code",
   "execution_count": null,
   "id": "423c4ae8",
   "metadata": {},
   "outputs": [],
   "source": [
    "min_x, max_x = boundary_positions[:, 0].min(), boundary_positions[:, 0].max()\n",
    "min_y, max_y = boundary_positions[:, 1].min(), boundary_positions[:, 1].max()\n",
    "min_z, max_z = boundary_positions[:, 2].min(), boundary_positions[:, 2].max()\n",
    "min_rx, max_rx = boundary_positions[:, 3].min(), boundary_positions[:, 3].max()\n",
    "min_ry, max_ry = boundary_positions[:, 4].min(), boundary_positions[:, 4].max()\n",
    "min_rz, max_rz = boundary_positions[:, 5].min(), boundary_positions[:, 5].max()"
   ]
  },
  {
   "cell_type": "code",
   "execution_count": null,
   "id": "ab4cfd27",
   "metadata": {},
   "outputs": [],
   "source": [
    "img_name = 0"
   ]
  },
  {
   "cell_type": "code",
   "execution_count": null,
   "id": "2405690a",
   "metadata": {},
   "outputs": [],
   "source": [
    "while True:\n",
    "    next_pos = [np.random.uniform(min_x, max_x),\n",
    "                np.random.uniform(min_y, max_y),\n",
    "                np.random.uniform(min_z, max_z),\n",
    "                np.random.uniform(min_rx, max_rx),\n",
    "                np.random.uniform(min_ry, max_ry),\n",
    "                np.random.uniform(min_rz, max_rz)]\n",
    "    img_name = move_to_next_pos_and_photo(next_pos, 50, img_name)"
   ]
  },
  {
   "cell_type": "code",
   "execution_count": null,
   "id": "cf035fc7",
   "metadata": {},
   "outputs": [],
   "source": [
    "pose_left = [0.4144699791608615,\n",
    " -0.28471817373934244,\n",
    " 0.4506025223319278,\n",
    " 1.3698459362193829,\n",
    " 0.8751222887301229,\n",
    " 0.7944053357672337]"
   ]
  },
  {
   "cell_type": "code",
   "execution_count": null,
   "id": "72ae1d21",
   "metadata": {},
   "outputs": [],
   "source": [
    "pose_center = [0.4168558559693215,\n",
    " -0.5621571861068889,\n",
    " 0.4414088449025262,\n",
    " 1.1886706848218183,\n",
    " 1.2237760813323468,\n",
    " 1.1861928832927722]"
   ]
  },
  {
   "cell_type": "code",
   "execution_count": null,
   "id": "a95f176e",
   "metadata": {},
   "outputs": [],
   "source": [
    "pose_right = [0.613646044924774,\n",
    " -0.8457833066867604,\n",
    " 0.39668770616099447,\n",
    " 0.86630043677316,\n",
    " 1.6128758106937202,\n",
    " 1.7491595656007006]"
   ]
  },
  {
   "cell_type": "code",
   "execution_count": null,
   "id": "9d14a7e4",
   "metadata": {},
   "outputs": [],
   "source": [
    "def detect_red_pixels(path:str, img:np.array=None):\n",
    "    red_pixel =  np.array([237,28, 36])\n",
    "#     up=220\n",
    "#     low=40\n",
    "    if img is None:\n",
    "        img = cv2.cvtColor(cv2.imread(path), cv2.COLOR_BGR2RGB)\n",
    "    indices = []\n",
    "    for x, row in enumerate(img):\n",
    "        for y, cell in enumerate(row):\n",
    "            if np.array_equal(img[x, y], red_pixel):\n",
    "#             if img[x, y,0] > up and img[x,y,1] < low and img[x,y,2] < low:\n",
    "                indices.append((y,x))\n",
    "#     assert len(indices) == 17, f'wrong keypoint number!! {indices}'\n",
    "    return indices"
   ]
  },
  {
   "cell_type": "code",
   "execution_count": null,
   "id": "12e56358",
   "metadata": {},
   "outputs": [],
   "source": [
    "cv2.destroyAllWindows()"
   ]
  },
  {
   "cell_type": "markdown",
   "id": "42d00bd9",
   "metadata": {},
   "source": [
    "# Get new keypoints from image"
   ]
  },
  {
   "cell_type": "code",
   "execution_count": null,
   "id": "c83ae68b",
   "metadata": {},
   "outputs": [],
   "source": [
    "img = cv2.imread('/home/viacheslav/jupyter_notebooks/no_marker.jpg')"
   ]
  },
  {
   "cell_type": "code",
   "execution_count": null,
   "id": "c9bcd449",
   "metadata": {},
   "outputs": [],
   "source": [
    "px = np.array(detect_red_pixels('/home/viacheslav/jupyter_notebooks/Screenshot_1.png'))\n",
    "px"
   ]
  },
  {
   "cell_type": "code",
   "execution_count": null,
   "id": "db26e860",
   "metadata": {},
   "outputs": [],
   "source": [
    "cv2.imshow('a', img)\n",
    "cv2.waitKey(0)"
   ]
  },
  {
   "cell_type": "code",
   "execution_count": null,
   "id": "12e69137",
   "metadata": {},
   "outputs": [],
   "source": [
    "cv2.imshow('a', cv2.imread('/home/viacheslav/jupyter_notebooks/marker.jpg'))\n",
    "cv2.waitKey(0)"
   ]
  },
  {
   "cell_type": "code",
   "execution_count": null,
   "id": "27fbf4e6",
   "metadata": {},
   "outputs": [],
   "source": [
    "res = detect_apriltag('/home/viacheslav/jupyter_notebooks/marker.jpg')[0]\n",
    "res"
   ]
  },
  {
   "cell_type": "code",
   "execution_count": null,
   "id": "402198a6",
   "metadata": {},
   "outputs": [],
   "source": [
    "draw_corners(img, res, True)"
   ]
  },
  {
   "cell_type": "code",
   "execution_count": null,
   "id": "01977c55",
   "metadata": {},
   "outputs": [],
   "source": [
    "plt.scatter(px[:,0], -px[:,1],c=range(len(px)))"
   ]
  },
  {
   "cell_type": "code",
   "execution_count": null,
   "id": "b3058b48",
   "metadata": {},
   "outputs": [],
   "source": [
    "dx = np.array(((res.corners[2] - res.corners[1]) + (res.corners[3] - res.corners[0]))/12).T\n",
    "dy = np.array(((res.corners[2] - res.corners[3]) + (res.corners[1] - res.corners[0]))/12).T\n",
    "mat = np.vstack([dx, dy])"
   ]
  },
  {
   "cell_type": "code",
   "execution_count": null,
   "id": "8b3b3c43",
   "metadata": {},
   "outputs": [],
   "source": [
    "mat1 = np.linalg.inv(mat)"
   ]
  },
  {
   "cell_type": "code",
   "execution_count": null,
   "id": "cae3f887",
   "metadata": {},
   "outputs": [],
   "source": [
    "marker_points = []\n",
    "det = np.linalg.det(mat1)\n",
    "for point in px:\n",
    "    kp = point.copy()\n",
    "#     kp[0] -= int(res.center[0])\n",
    "#     kp[1] -= int(res.center[1])\n",
    "    p = [kp[0]*mat1[0, 0]+kp[1]*mat1[1, 0], kp[0]*mat1[0,1]+kp[1]*mat1[1,1]]\n",
    "#     p = np.array([kp[0]*dy[1] - kp[1]*dy[0], -kp[0]*dx[1]+kp[1]*dx[0]])\n",
    "#     p /= det\n",
    "    \n",
    "    marker_points.append(p)\n",
    "marker_points = np.array(marker_points)"
   ]
  },
  {
   "cell_type": "code",
   "execution_count": null,
   "id": "85cf7693",
   "metadata": {},
   "outputs": [],
   "source": [
    "marker_points"
   ]
  },
  {
   "cell_type": "code",
   "execution_count": null,
   "id": "4de87702",
   "metadata": {
    "scrolled": true
   },
   "outputs": [],
   "source": [
    "plt.scatter(marker_points[:, 0], -marker_points[:, 1], c=range(len(marker_points)))"
   ]
  },
  {
   "cell_type": "code",
   "execution_count": null,
   "id": "e57a1459",
   "metadata": {},
   "outputs": [],
   "source": [
    "draw_points_on_aruco(img, [res], marker_points, True)\n",
    "cv2.waitKey(0)"
   ]
  },
  {
   "cell_type": "code",
   "execution_count": null,
   "id": "5adaf9af",
   "metadata": {},
   "outputs": [],
   "source": [
    "import annotation_utils\n",
    "def draw_bbox_by_points(img, \n",
    "                        res, \n",
    "                        points=annotation_utils.get_points_from_CAD(),\n",
    "                        show=False):\n",
    "    new_points = annotation_utils.get_keypoints_on_image(img, points, camera_params)\n",
    "    top = new_points[:, 0].min()\n",
    "    bottom = new_points[:, 0].max()\n",
    "    left = new_points[:, 1].min()\n",
    "    right = new_points[:, 1].max()\n",
    "    bbox_corners = np.array([\n",
    "        [top, left],\n",
    "        [top, right],\n",
    "        [bottom, right],\n",
    "        [bottom, left],\n",
    "    ])\n",
    "    if show:\n",
    "        imgc = img.copy()\n",
    "        cv2.line(imgc, bbox_corners[0], bbox_corners[1], (0,255,0), 1)\n",
    "        cv2.line(imgc, bbox_corners[1], bbox_corners[2], (0,255,0), 1)\n",
    "        cv2.line(imgc, bbox_corners[2], bbox_corners[3], (0,255,0), 1)\n",
    "        cv2.line(imgc, bbox_corners[3], bbox_corners[-1], (0,255,0), 1)\n",
    "        cv2.imshow('draw_bbox_by_points', imgc)\n",
    "        cv2.waitKey(0)\n",
    "    return bbox_corners"
   ]
  },
  {
   "cell_type": "code",
   "execution_count": null,
   "id": "95e9eff4",
   "metadata": {},
   "outputs": [],
   "source": [
    "img = cv2.imread('/home/viacheslav/jupyter_notebooks/data/far_photos/20.jpg')\n",
    "res = annotation_utils.detect_apriltag('/home/viacheslav/jupyter_notebooks/data/far_photos_with_marker/20.jpg', camera_params)\n",
    "draw_bbox_by_points(img, res, show=True)"
   ]
  },
  {
   "cell_type": "markdown",
   "id": "6f75e40e",
   "metadata": {},
   "source": [
    "### get robot poses"
   ]
  },
  {
   "cell_type": "code",
   "execution_count": null,
   "id": "37760673",
   "metadata": {},
   "outputs": [],
   "source": [
    "inserted_j = ur10.getj()\n",
    "inserted_l = ur10.getl()\n",
    "print(inserted_j)\n",
    "print(inserted_l)"
   ]
  },
  {
   "cell_type": "code",
   "execution_count": null,
   "id": "fefe510b",
   "metadata": {},
   "outputs": [],
   "source": [
    "ur10.movel(zero_pose_l)"
   ]
  },
  {
   "cell_type": "code",
   "execution_count": null,
   "id": "6686b227",
   "metadata": {},
   "outputs": [],
   "source": [
    "zero_pose_l = ur10.getl()\n",
    "zero_pose_j = ur10.getj()\n",
    "print(zero_pose_l)\n",
    "print(zero_pose_j)"
   ]
  },
  {
   "cell_type": "code",
   "execution_count": null,
   "id": "cbda9458",
   "metadata": {},
   "outputs": [],
   "source": [
    "zero_pose_l = [0.6053738400708184,\n",
    " -0.5532917677103614,\n",
    " 0.5293931050569378,\n",
    " 1.242668373605403,\n",
    " 1.2235408761040583,\n",
    " 1.2353307425198223] # 15 cm from socket\n",
    "ur10.movel(zero_pose_l)"
   ]
  },
  {
   "cell_type": "code",
   "execution_count": null,
   "id": "53f7d1cd",
   "metadata": {},
   "outputs": [],
   "source": [
    "ur10.movel([zero_pose_l[0]-0.5, *zero_pose_l[1:]], vel=1)\n",
    "# ur10.movej([zero_pose_l[0]-0.5, *zero_pose_l[1:]], vel=1)"
   ]
  },
  {
   "cell_type": "code",
   "execution_count": null,
   "id": "2078b8ef",
   "metadata": {},
   "outputs": [],
   "source": [
    "far_pose_l = ur10.getl()\n",
    "far_pose_j = ur10.getj()\n",
    "print(far_pose_l)\n",
    "print(far_pose_l)"
   ]
  },
  {
   "cell_type": "code",
   "execution_count": null,
   "id": "620003b3",
   "metadata": {},
   "outputs": [],
   "source": [
    "x_far = [0, .25]\n",
    "y_far = [-.25, .25]\n",
    "z_far = [-.2, .2]"
   ]
  },
  {
   "cell_type": "code",
   "execution_count": null,
   "id": "8c030bb2",
   "metadata": {},
   "outputs": [],
   "source": [
    "x_close = [-.1, -.25]\n",
    "y_close = [-.10, .10]\n",
    "z_close = [-.15, .05]"
   ]
  },
  {
   "cell_type": "code",
   "execution_count": null,
   "id": "f9305127",
   "metadata": {},
   "outputs": [],
   "source": [
    "ur10.movel([far_pose_l[0], far_pose_l[1]+y_far[0], far_pose_l[2]+z_far[1], \n",
    "            *far_pose_l[3:]], vel=1)"
   ]
  },
  {
   "cell_type": "code",
   "execution_count": null,
   "id": "d12debc5",
   "metadata": {},
   "outputs": [],
   "source": [
    "ur10.movel(zero_pose_l)"
   ]
  },
  {
   "cell_type": "code",
   "execution_count": null,
   "id": "992afc6e",
   "metadata": {},
   "outputs": [],
   "source": [
    "ur10.movel([zero_pose_l[0]+x_close[0], zero_pose_l[1]+y_close[0], zero_pose_l[2]+z_close[1], \n",
    "            *zero_pose_l[3:]], vel=1)"
   ]
  },
  {
   "cell_type": "code",
   "execution_count": null,
   "id": "a06b274b",
   "metadata": {},
   "outputs": [],
   "source": []
  },
  {
   "cell_type": "code",
   "execution_count": null,
   "id": "17048003",
   "metadata": {},
   "outputs": [],
   "source": [
    "R.from_rotvec([ 1.2186813991654113,\n",
    " 1.2029606765250755,\n",
    " 1.1943521654058413]).as_rotvec()"
   ]
  },
  {
   "cell_type": "code",
   "execution_count": null,
   "id": "c680bc57",
   "metadata": {},
   "outputs": [],
   "source": [
    "from scipy.spatial.transform import Rotation as R\n",
    "\n",
    "# angles along X and Y\n",
    "orients = np.array([\n",
    "#         [-5, -5],\n",
    "    [-5, 0],\n",
    "#     [-5, 5],\n",
    "#     [0,  -5],\n",
    "    [0,  0],\n",
    "#     [0,  5],\n",
    "#     [5,  -5],\n",
    "    [5,  0],\n",
    "#     [5, 5]\n",
    "], dtype=float)\n",
    "\n",
    "# orients *= np.pi/180\n",
    "rotations = [R.from_euler('xy', x, degrees=True) for x in orients]"
   ]
  },
  {
   "cell_type": "code",
   "execution_count": null,
   "id": "76733b7d",
   "metadata": {},
   "outputs": [],
   "source": [
    "r0 = rotations[0]\n",
    "r0.as_matrix()"
   ]
  },
  {
   "cell_type": "code",
   "execution_count": null,
   "id": "ac7b3db1",
   "metadata": {},
   "outputs": [],
   "source": [
    "r0.apply(lrc[3:])"
   ]
  },
  {
   "cell_type": "code",
   "execution_count": null,
   "id": "9e56566d",
   "metadata": {},
   "outputs": [],
   "source": [
    "  img_coords = {}"
   ]
  },
  {
   "cell_type": "code",
   "execution_count": null,
   "id": "ddc254fb",
   "metadata": {},
   "outputs": [],
   "source": [
    "img_coords"
   ]
  },
  {
   "cell_type": "code",
   "execution_count": null,
   "id": "981cac79",
   "metadata": {},
   "outputs": [],
   "source": [
    "ur10.movel(zero_pose)"
   ]
  },
  {
   "cell_type": "code",
   "execution_count": null,
   "id": "409074a6",
   "metadata": {},
   "outputs": [],
   "source": [
    "llc"
   ]
  },
  {
   "cell_type": "markdown",
   "id": "df73b692",
   "metadata": {},
   "source": [
    "## Record points with aruco on socket"
   ]
  },
  {
   "cell_type": "code",
   "execution_count": null,
   "id": "95e0ac13",
   "metadata": {},
   "outputs": [],
   "source": [
    "ur10.movel([far_pose_l[0]+x_far[0], far_pose_l[1]+y_far[0], far_pose_l[2]+z_far[1], \n",
    "            *far_pose_l[3:]])\n",
    "#            , vel=1)\n",
    "# ur10.movel(far_pose_l)"
   ]
  },
  {
   "cell_type": "code",
   "execution_count": null,
   "id": "617e7181",
   "metadata": {},
   "outputs": [],
   "source": [
    "img_coords = [0]*2000\n",
    "!rm data/points/*\n",
    "!rm data/no_points/*"
   ]
  },
  {
   "cell_type": "code",
   "execution_count": null,
   "id": "f4da276f",
   "metadata": {},
   "outputs": [],
   "source": [
    "ur10.movel(lrf, vel=1., acc=1.)"
   ]
  },
  {
   "cell_type": "code",
   "execution_count": null,
   "id": "4649337a",
   "metadata": {},
   "outputs": [],
   "source": [
    "img_coords = [0]*600\n",
    "# delta = .05\n",
    "img_name = -1\n",
    "js = []\n",
    "# ur10.movel([far_pose_l[0]+x_far[0], far_pose_l[1]+y_far[0], far_pose_l[2]+z_far[0], \n",
    "#             *far_pose_l[3:]], vel=1)\n",
    "pose = zero_pose_l.copy()\n",
    "# i, j, k = 0,0,0\n",
    "# these ranges for far\n",
    "# xrange = [0, .05, .1, .15, .2, .25]\n",
    "# yrange = [-.25, -.2, -.15, -.1, -.05, 0, .05, .1, .15, .2, .25]\n",
    "# zrange = [-.2, -.15, -.1, -.05, 0, .05, .1, .15, .2] \n",
    "\n",
    "#these for close\n",
    "xrange = [-.1, -.125, -.15, -.175, -.2, -.225, -.25]\n",
    "yrange = [-.1, -.075, -.05, -.025, 0, .025, .05, .1, ]\n",
    "zrange = [-.15, -.1, -.05, 0, .05,] \n",
    "\n",
    "from itertools import product\n",
    "poss = list(product(*[xrange, yrange, zrange]))\n",
    "\n",
    "for pos in poss:\n",
    "#     print(pose, pos)\n",
    "    ur10.movel([pose[0]+pos[0], pose[1]+pos[1], pose[2]+pos[2], *pose[3:]])\n",
    "#             pose = [pose[0]+delta*i, pose[1]+delta*j, pose[2]+delta*k, *pose[3:]]\n",
    "    img_name +=1\n",
    "    img = get_photo_from_realsense()\n",
    "    cv2.imshow('robot sees', img)\n",
    "    cv2.waitKey(1)\n",
    "    cv2.imwrite(\n",
    "            f'/home/viacheslav/jupyter_notebooks/data/far_photos/{img_name}.jpg',\n",
    "            img)\n",
    "    js.append(ur10.getj())\n",
    "            \n",
    "json.dump(js, open(f'/home/viacheslav/jupyter_notebooks/data/far_photos_joints.json', 'w'))"
   ]
  },
  {
   "cell_type": "code",
   "execution_count": null,
   "id": "95c8cea3",
   "metadata": {},
   "outputs": [],
   "source": [
    "ur10.movel(far_pose_l, vel=1)"
   ]
  },
  {
   "cell_type": "code",
   "execution_count": null,
   "id": "6b4d004e",
   "metadata": {},
   "outputs": [],
   "source": [
    "img_name = -1\n",
    "for posej in tqdm(js):\n",
    "    ur10.movej(posej)\n",
    "    img_name +=1\n",
    "    img = get_photo_from_realsense()\n",
    "    cv2.imshow('robot sees', img)\n",
    "    cv2.waitKey(1)\n",
    "    cv2.imwrite(\n",
    "            f'/home/viacheslav/jupyter_notebooks/data/far_photos_with_marker/{img_name}.jpg',\n",
    "            img)"
   ]
  },
  {
   "cell_type": "code",
   "execution_count": null,
   "id": "4b6bd72f",
   "metadata": {},
   "outputs": [],
   "source": [
    "img_coords = [0]*600\n",
    "delta = .05\n",
    "img_name = -1\n",
    "js = []\n",
    "ur10.movel([far_pose_l[0]+x_far[0], far_pose_l[1]+y_far[0], far_pose_l[2]+z_far[0], \n",
    "            *far_pose_l[3:]], vel=1)\n",
    "for i in range(6):\n",
    "    for j in tqdm(range(11)):\n",
    "        for k in range(7):\n",
    "            for l in range(len(rotations)):\n",
    "                pose = [lrf[0]+delta*i, lrf[1]+delta*j, lrf[2]+delta*k, *lrf[3:]]\n",
    "                d_angle = orients[l]\n",
    "                \n",
    "                init_rotvec = lrc[3:]\n",
    "                matrix = R.from_rotvec(init_rotvec).as_matrix()\n",
    "                pose[3:] = R.from_matrix(rotations[l].apply(matrix)).as_rotvec()\n",
    "                \n",
    "                ur10.movel(pose, vel=1)\n",
    "            \n",
    "                img = get_photo_from_realsense()\n",
    "                \n",
    "                cv2.imwrite(\n",
    "                    f'/home/viacheslav/jupyter_notebooks/data/joint_coords_for_photos_2/{img_name}.jpg',\n",
    "                    img)\n",
    "\n",
    "#                 res = detect_apriltag(img)\n",
    "\n",
    "#                 if res: \n",
    "#                     img_w, desired_corners = warp_img(img, res)\n",
    "\n",
    "#                     res_warp = detect_apriltag(img_w)\n",
    "#                     if res_warp:\n",
    "#                         img_name += 1\n",
    "#                         center, points_w = draw_points_on_aruco(img_w, res_warp, seventeen_points, False)\n",
    "\n",
    "#                         inv_project = get_projection(res[0].corners, desired_corners)\n",
    "#                         img_ok = warp(img_w, inv_project)\n",
    "#                         points = np.array([inv_project.params @ np.array([p[0], p[1], 1]) for p in points_w])\n",
    "            \n",
    "#                         center, points = draw_points_on_aruco(img, res, seventeen_points, True)\n",
    "\n",
    "#                         img_coords[img_name] = points\n",
    "#                         js.append(ur10.getj())\n",
    "                \n",
    "                        \n",
    "\n",
    "# json.dump(img_coords, open(f'/home/viacheslav/jupyter_notebooks/data/seventeen_2.json', 'w'))\n",
    "# json.dump(js, open(f'/home/viacheslav/jupyter_notebooks/data/joint_coords_for_photos_2.json', 'w'))"
   ]
  },
  {
   "cell_type": "code",
   "execution_count": null,
   "id": "1c0601fa",
   "metadata": {},
   "outputs": [],
   "source": [
    "img_name = -1\n",
    "for posej in tqdm(js):\n",
    "    ur10.movej(posej)\n",
    "    img_name +=1\n",
    "    img = get_photo_from_realsense()\n",
    "    cv2.imshow('robot sees', img)\n",
    "    cv2.waitKey(1)\n",
    "    cv2.imwrite(\n",
    "            f'/home/viacheslav/jupyter_notebooks/data/far_photos_with_marker/{img_name}.jpg',\n",
    "            img)"
   ]
  },
  {
   "cell_type": "code",
   "execution_count": null,
   "id": "a10d7931",
   "metadata": {},
   "outputs": [],
   "source": [
    "json.dump(img_coords, open(f'/home/viacheslav/jupyter_notebooks/data/seventeen_2.json', 'w'))\n",
    "json.dump(js, open(f'/home/viacheslav/jupyter_notebooks/data/joint_coords_for_photos_2.json', 'w'))"
   ]
  },
  {
   "cell_type": "code",
   "execution_count": null,
   "id": "bf197de7",
   "metadata": {},
   "outputs": [],
   "source": [
    "img_coords = [0]*2000\n",
    "\n",
    "for i, posej in enumerate(js):\n",
    "    ur10.movej(posej, vel=1, acc=1)\n",
    "    img = get_photo_from_realsense()\n",
    "    res = detect_apriltag(img)\n",
    "            \n",
    "    center, points = draw_points_on_aruco(img, res, seventeen_points, True)\n",
    "\n",
    "    img_coords[i] = points\n",
    "    \n",
    "    \n",
    "with open('img_coords.pickle', 'wb') as handle:\n",
    "    pkl.dump(img_coords, handle, protocol=pkl.HIGHEST_PROTOCOL)"
   ]
  },
  {
   "cell_type": "code",
   "execution_count": null,
   "id": "887baf84",
   "metadata": {},
   "outputs": [],
   "source": [
    "\n",
    "with open('img_coords.pickle', 'wb') as handle:\n",
    "    pkl.dump(img_coords, handle, protocol=pkl.HIGHEST_PROTOCOL)\n",
    "    \n",
    "# with open('js.pickle', 'wb') as handle:\n",
    "#     pkl.dump(js, handle, protocol=pkl.HIGHEST_PROTOCOL)"
   ]
  },
  {
   "cell_type": "code",
   "execution_count": null,
   "id": "b56066b4",
   "metadata": {},
   "outputs": [],
   "source": [
    "\n",
    "# approved by Viktor\n",
    "def draw_points_on_aruco(img, res, changes=None, show=False):\n",
    "    dx = (res[0].corners[2] - res[0].corners[1])/6\n",
    "    dy = (res[0].corners[2] - res[0].corners[3])/6\n",
    "    print (dx*dy)\n",
    "    \n",
    "    if changes is None:\n",
    "        changes = np.array([\n",
    "            [0, 0],\n",
    "            [3, 1],\n",
    "            [2, 2],\n",
    "            [-2, 2],\n",
    "            [-3, 1],\n",
    "            [-3, -1],\n",
    "            [-2, -3],\n",
    "            [2, -3],\n",
    "            [3, -1]\n",
    "        ])\n",
    "        \n",
    "    points = np.zeros((changes.shape[0], 2), dtype=float)\n",
    "    for i, ch in enumerate(changes):\n",
    "        points[i] = [ch[0]*dx[0]+ch[1]*dy[0], ch[0]*dx[1]+ch[1]*dy[1]]\n",
    "        \n",
    "    points[:, 0] += sum([x[0] for x in res[0].corners])/4\n",
    "    points[:, 1] += sum([x[1] for x in res[0].corners])/4\n",
    "    \n",
    "    if show:\n",
    "#         draw_corners(img, res[0])\n",
    "        for p in points:\n",
    "            kp = int(p[0]), int(p[1])\n",
    "            cv2.circle(img, kp, 2, (0, 0, 255), -1)\n",
    "        cv2.imshow('draw_points_on_aruco', img)\n",
    "        cv2.waitKey(1)\n",
    "    return points[0], points[1:]\n",
    "\n",
    "def warp_img(image, res):\n",
    "    corners = res[0].corners\n",
    "    \n",
    "    corners[:2] = np.array(sorted(corners[:2], key=lambda x: x[1]))\n",
    "    corners[2:] = np.array(sorted(corners[2:], key=lambda x: x[1]))\n",
    "\n",
    "    a = corners[:2][:, 0].mean()\n",
    "    c = corners[2:][:, 0].mean()\n",
    "    b = corners[::2][:, 1].mean()\n",
    "    d = corners[1::2][:, 1].mean()\n",
    "\n",
    "    desired_corners = np.array([[a, b], [a, d], [c, b], [c, d]], dtype=int)\n",
    "\n",
    "    tform = get_projection(desired_corners, corners)\n",
    "    image_warped = warp(image, tform)\n",
    "    return image_warped, desired_corners, tform\n",
    "\n",
    "def draw_corners(img, r, show=False):\n",
    "    if isinstance(r, np.ndarray):\n",
    "        imagePoints = [r]\n",
    "    else:\n",
    "        imagePoints = r.corners.reshape(1,4,2)\n",
    "    \n",
    "    for corner in range(np.size(imagePoints[0],axis=0)):\n",
    "        center = ((int(imagePoints[0][corner][0]),int(imagePoints[0][corner][1])))\n",
    "        cv2.circle(img, center, 3, (0,0,255), -1)\n",
    "    \n",
    "    if show:\n",
    "        cv2.imshow('img', color_image)\n",
    "    return imagePoints[0]"
   ]
  },
  {
   "cell_type": "code",
   "execution_count": null,
   "id": "463bbe68",
   "metadata": {},
   "outputs": [],
   "source": [
    "def draw_corners(img, r, show=False):\n",
    "    if isinstance(r, np.ndarray):\n",
    "        imagePoints = [r]\n",
    "    else:\n",
    "        imagePoints = r.corners.reshape(1,4,2)\n",
    "    \n",
    "    for corner in range(np.size(imagePoints[0],axis=0)):\n",
    "        center = ((int(imagePoints[0][corner][0]),int(imagePoints[0][corner][1])))\n",
    "        cv2.circle(img, center, 3, (0,0,255), -1)\n",
    "    \n",
    "    if show:\n",
    "        cv2.imshow('img', img)\n",
    "        cv2.waitKey(0)\n",
    "    return imagePoints[0]"
   ]
  },
  {
   "cell_type": "code",
   "execution_count": null,
   "id": "cefa6d25",
   "metadata": {},
   "outputs": [],
   "source": [
    "cv2.destroyAllWindows()"
   ]
  },
  {
   "cell_type": "code",
   "execution_count": null,
   "id": "fbbb3eb3",
   "metadata": {},
   "outputs": [],
   "source": [
    "cv2.destroyAllWindows()\n",
    "# buf_sz = 10\n",
    "# buffer = np.zeros((buf_sz, 17, 3), dtype=float)\n",
    "# index = 0\n",
    "while True:\n",
    "    index += 1\n",
    "    index = index % buf_sz\n",
    "    img = get_photo_from_realsense()\n",
    "    res = detect_apriltag(img)\n",
    "    cv2.imshow('original', img)\n",
    "    cv2.waitKey(1)\n",
    "    if res: \n",
    "        img_w, desired_corners,tform = warp_img(img, res)\n",
    "#         desired corners are int!\n",
    "#         print(\"desired_corners\",desired_corners)\n",
    "        \n",
    "        res_warp = detect_apriltag(img_w)\n",
    "        if res_warp:\n",
    "            center, points_w = draw_points_on_aruco(img_w, res_warp, seventeen_points, True)\n",
    "#             corners_w = draw_corners(img_w, res_warp[0], False)\n",
    "            inv_project = get_projection(res[0].corners, desired_corners)\n",
    "#             print(inv_project)\n",
    "            str_project = get_projection(desired_corners, res[0].corners)\n",
    "            img_ok = warp(img_w, inv_project)\n",
    "            \n",
    "#             points = [np.linalg.inv(tform.params) @ np.array([p[0], p[1], 1]) for p in points_w]\n",
    "            points = [str_project.params @ np.array([p[0], p[1], 1]) for p in points_w]\n",
    "\n",
    "            for p in points:\n",
    "                p/= p[2]\n",
    "            points = np.array(points)\n",
    "            \n",
    "#             points = np.array([inv_project.params @ np.array([p[0], p[1], 1]) for p in points_w])\n",
    "#             buffer[index] = points\n",
    "#             corners = np.array([inv_project.params @ np.array([p[0], p[1], 1]) for p in corners_w])\n",
    "#             print('corners', corners)\n",
    "#             for p in np.mean(buffer, axis=0):\n",
    "#                 kp = int(p[0]), int(p[1])\n",
    "#                 cv2.circle(img_ok, kp, 2, (0,255, 255), -1)\n",
    "            for c in points:\n",
    "                kc = int(c[0]), int(c[1])\n",
    "                cv2.circle(img, kc, 3, (0,255, 255), -1)\n",
    "            cv2.imshow('final', img)\n",
    "#             cv2.waitKey(10)\n",
    "#             center, points = draw_points_on_aruco(img, res, seventeen_points, True)"
   ]
  },
  {
   "cell_type": "markdown",
   "id": "7301987d",
   "metadata": {},
   "source": [
    "## Save data"
   ]
  },
  {
   "cell_type": "code",
   "execution_count": null,
   "id": "3b3a76a6",
   "metadata": {},
   "outputs": [],
   "source": [
    "json.dump(img_coords, open(f'/home/viacheslav/jupyter_notebooks/data/seventeen.json', 'w'))\n",
    "json.dump(js, open(f'/home/viacheslav/jupyter_notebooks/data/joint_coords_for_photos.json', 'w'))"
   ]
  },
  {
   "cell_type": "code",
   "execution_count": null,
   "id": "71b08fca",
   "metadata": {},
   "outputs": [],
   "source": []
  },
  {
   "cell_type": "markdown",
   "id": "fddb86d2",
   "metadata": {},
   "source": [
    "## Get photos"
   ]
  },
  {
   "cell_type": "code",
   "execution_count": null,
   "id": "5f961889",
   "metadata": {},
   "outputs": [],
   "source": [
    "coords_j = json.load(open('/home/viacheslav/jupyter_notebooks/data/joint_coords_for_photos.json'))\n",
    "print('data len', len(coords_j))\n",
    "for i, position in tqdm(enumerate(coords_j)):\n",
    "    ur10.movej(position, vel=1, acc=1)\n",
    "    img = get_photo_from_realsense()\n",
    "    cv2.imwrite(f'/home/viacheslav/jupyter_notebooks/data/joint_coords_for_photos_17/{i}.png', img)"
   ]
  },
  {
   "cell_type": "code",
   "execution_count": null,
   "id": "563c899f",
   "metadata": {},
   "outputs": [],
   "source": [
    "json.dump( img_coords, open(f'/home/viacheslav/jupyter_notebooks/data/seventeen.json', 'w'))"
   ]
  },
  {
   "cell_type": "code",
   "execution_count": null,
   "id": "e7e4e570",
   "metadata": {},
   "outputs": [],
   "source": [
    "ur10.movej([-4.250930611287252, -0.8361623922931116, 1.6090149879455566, 2.2111873626708984, -0.48303395906557256, 3.2748172283172607],)"
   ]
  },
  {
   "cell_type": "code",
   "execution_count": null,
   "id": "858305b4",
   "metadata": {},
   "outputs": [],
   "source": [
    "\n",
    "llc_points = []\n",
    "lrc_points = []\n",
    "for _ in range(10):\n",
    "    ur10.movel(llc)\n",
    "    img = get_photo_from_realsense()\n",
    "    res = detect_apriltag(img)\n",
    "    center, points = draw_points_on_aruco(img, res, seventeen_points, True)\n",
    "    lrc_points.append(points)\n",
    "    ur10.movel(lrc)\n",
    "    img = get_photo_from_realsense()\n",
    "    res = detect_apriltag(img)\n",
    "    center, points = draw_points_on_aruco(img, res, seventeen_points, True)\n",
    "    llc_points.append(points)"
   ]
  },
  {
   "cell_type": "code",
   "execution_count": null,
   "id": "4cdd455a",
   "metadata": {},
   "outputs": [],
   "source": [
    "points"
   ]
  },
  {
   "cell_type": "code",
   "execution_count": null,
   "id": "8930f688",
   "metadata": {},
   "outputs": [],
   "source": [
    "cv2.destroyAllWindows()"
   ]
  },
  {
   "cell_type": "code",
   "execution_count": null,
   "id": "ffe5a230",
   "metadata": {},
   "outputs": [],
   "source": [
    "\n",
    "points = json.load(open('/home/viacheslav/jupyter_notebooks/data/seventeen.json'))\n",
    "# cv2.imshow('img', img)\n",
    "# cv2.waitKey(0)\n",
    "for i in range(len(points)): \n",
    "    img = cv2.imread(f'/home/viacheslav/jupyter_notebooks/data/joint_coords_for_photos_17/{i}.png')    \n",
    "    draw_points(img, points[i], True, True)"
   ]
  },
  {
   "cell_type": "code",
   "execution_count": null,
   "id": "eec60b6a",
   "metadata": {},
   "outputs": [],
   "source": [
    "pose = ur10.getj()"
   ]
  },
  {
   "cell_type": "code",
   "execution_count": null,
   "id": "ef1ce16f",
   "metadata": {},
   "outputs": [],
   "source": [
    "ur10.movej(pose)"
   ]
  },
  {
   "cell_type": "markdown",
   "id": "09d25f68",
   "metadata": {},
   "source": [
    "# Robot sees"
   ]
  },
  {
   "cell_type": "markdown",
   "id": "5e3a890d",
   "metadata": {},
   "source": [
    "## Get nice graphs"
   ]
  },
  {
   "cell_type": "markdown",
   "id": "fdfa4650",
   "metadata": {},
   "source": [
    "# Record points"
   ]
  }
 ],
 "metadata": {
  "kernelspec": {
   "display_name": "Python 3.9.12 ('CameraCalibrationOptimize')",
   "language": "python",
   "name": "python3"
  },
  "language_info": {
   "codemirror_mode": {
    "name": "ipython",
    "version": 3
   },
   "file_extension": ".py",
   "mimetype": "text/x-python",
   "name": "python",
   "nbconvert_exporter": "python",
   "pygments_lexer": "ipython3",
   "version": "3.9.12"
  },
  "vscode": {
   "interpreter": {
    "hash": "0c3cb1b0a8cb3060a10896d3abefa7af7f3d40811c3ca0232af182ed56385980"
   }
  }
 },
 "nbformat": 4,
 "nbformat_minor": 5
}
