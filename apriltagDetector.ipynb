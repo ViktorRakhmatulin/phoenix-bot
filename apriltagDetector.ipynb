{
 "cells": [
  {
   "cell_type": "code",
   "execution_count": 1,
   "id": "600a4206",
   "metadata": {},
   "outputs": [],
   "source": [
    "import dt_apriltags as apriltag\n",
    "import cv2\n",
    "import annotation_utils as utils\n",
    "\n",
    "import numpy as np\n",
    "from scipy.spatial.transform import Rotation as R\n",
    "\n",
    "import pyrealsense2 as rs\n",
    "import urx\n",
    "np.set_printoptions(suppress=True)"
   ]
  },
  {
   "cell_type": "code",
   "execution_count": 2,
   "id": "817eef21",
   "metadata": {},
   "outputs": [],
   "source": [
    "dist = np.array([[-0.04797802,  0.04744357,  0.00017416,  0.00067967, -0.00408397]])\n",
    "detector = apriltag.Detector(families=\"tagStandard52h13\")\n",
    "mtx = np.array([[633.09029639, 0., 629.06462963], [0., 638.7544391, 362.74013262], [0., 0., 1.]])\n",
    "\n",
    "camera_params = [635.0, 635.0, 629.0646296262861, 362.7401326185789]\n",
    "\n",
    "def solve_pnp(obj_points, imagePoints,mtx, dist):\n",
    "    success, rvec, tvec,inliers  = cv2.solvePnPRansac(obj_points, np.array([imagePoints]), mtx, dist,reprojectionError = 0.5)\n",
    "        \n",
    "    if not success:\n",
    "        print('not success in PnP')\n",
    "        return\n",
    "    return tvec, rvec,inliers\n"
   ]
  },
  {
   "cell_type": "code",
   "execution_count": 18,
   "id": "d8f26b40",
   "metadata": {},
   "outputs": [
    {
     "name": "stdout",
     "output_type": "stream",
     "text": [
      "inliers_m\n",
      " [[0 1 2 3 4]]\n",
      "[[ -0.99988473   0.01309331  -0.00768735 -14.69300341]\n",
      " [ -0.01307967  -0.9999128   -0.00182186  -4.2235037 ]\n",
      " [ -0.00771053  -0.0017211    0.99996879 287.77684282]\n",
      " [  0.           0.           0.           1.        ]]\n"
     ]
    }
   ],
   "source": [
    "img_with_marker_name = 'marker.jpg'\n",
    "\n",
    "img = cv2.imread(img_with_marker_name)\n",
    "\n",
    "res = utils.detect_apriltag(img, camera_params)\n",
    "\n",
    "corners_2d = res[0].corners\n",
    "center_2d = res[0].center\n",
    "\n",
    "marker_pts_2d = np.vstack((center_2d, corners_2d))\n",
    "corners_3D = np.array(\n",
    "[(0, 0,0),\n",
    " (24, 24,0),\n",
    " (24, -24,0),\n",
    " (-24, -24,0),\n",
    " (-24,24, 0)], dtype=float)\n",
    "# print(marker_pts_2d)\n",
    "# print(corners_3D)\n",
    "tvec_m,rvec_m,inliers_m = solve_pnp(corners_3D,marker_pts_2d,mtx, dist)\n",
    "print(\"inliers_m\\n\",inliers_m.T)\n",
    "\n",
    "rot_error = R.from_rotvec(rvec_gt.flatten()).as_matrix() @ R.from_rotvec(rvec_m.flatten()).as_matrix().T\n",
    "\n",
    "tf_m_in_cam = np.eye(4)\n",
    "tf_m_in_cam[:3,:3] = R.from_rotvec(rvec_m.flatten()).as_matrix()\n",
    "tf_m_in_cam[:3,3] = tvec_m.flatten()\n",
    "print(tf_m_in_cam)"
   ]
  },
  {
   "cell_type": "code",
   "execution_count": 24,
   "id": "33766ab5",
   "metadata": {},
   "outputs": [
    {
     "name": "stdout",
     "output_type": "stream",
     "text": [
      "inliers_gt\n",
      " [[0 1 2 3 6]]\n",
      "[[ -0.99906004  -0.02333392   0.03653156 -14.7314117 ]\n",
      " [  0.02743588  -0.99285334   0.11614435  -6.48518631]\n",
      " [  0.03356038   0.11703746   0.99256029 286.14096793]\n",
      " [  0.           0.           0.           1.        ]]\n"
     ]
    }
   ],
   "source": [
    "anchor_gt_2D = np.array(\n",
    "[(597, 349),\n",
    " (579, 325),\n",
    " (614, 324),\n",
    " (562, 350),\n",
    " (633, 349),\n",
    " (581, 380),\n",
    " (615, 379)], dtype=float)\n",
    "\n",
    "img_with_marker_name = 'marker.jpg'\n",
    "img_without_marker_name = 'no_marker.jpg'\n",
    "\n",
    "keypoints, anchors = utils.get_points_from_CAD()\n",
    "# anchors[:,2] = 2.25\n",
    "tvec_gt,rvec_gt,inliers_gt = solve_pnp(anchors,anchor_gt_2D,mtx, dist)\n",
    "print(\"inliers_gt\\n\",inliers_gt.T)\n",
    "\n",
    "tf_s_in_c = np.eye(4)\n",
    "tf_s_in_c[:3,:3] = R.from_rotvec(rvec_gt.flatten()).as_matrix()\n",
    "tf_s_in_c[:3,3] = tvec_gt.flatten()\n",
    "print(tf_s_in_c)"
   ]
  },
  {
   "cell_type": "code",
   "execution_count": 30,
   "id": "a2386a51",
   "metadata": {},
   "outputs": [
    {
     "name": "stdout",
     "output_type": "stream",
     "text": [
      "0.1262830450254608 [ 0.11794904 -0.04416058  0.00082629]\n",
      "[0. 0. 0.]\n"
     ]
    }
   ],
   "source": [
    "# доворот\n",
    "a = tf_s_in_c[:3,2]\n",
    "b = tf_m_in_cam[:3,2]\n",
    "angle = np.arccos(a@b)\n",
    "rot_ax = np.cross(a,b)\n",
    "\n",
    "print(angle,rot_ax)\n",
    "\n",
    "rot_vec = rot_ax /np.linalg.norm(rot_ax) * angle\n",
    "\n",
    "rot_mtx = R.from_rotvec(rot_vec).as_matrix()\n",
    "print(rot_mtx @ a -b )\n"
   ]
  },
  {
   "cell_type": "code",
   "execution_count": 7,
   "id": "8993ce7c",
   "metadata": {},
   "outputs": [
    {
     "name": "stdout",
     "output_type": "stream",
     "text": [
      "[[ -0.99988473   0.01309331  -0.00768735 -14.69300341]\n",
      " [ -0.01307967  -0.9999128   -0.00182186  -4.2235037 ]\n",
      " [ -0.00771053  -0.0017211    0.99996879 287.77684282]\n",
      " [  0.           0.           0.           1.        ]]\n"
     ]
    }
   ],
   "source": [
    "# доворот имплементейшн \n",
    "# print(tf_m_in_cam)"
   ]
  },
  {
   "cell_type": "code",
   "execution_count": 6,
   "id": "593e9287",
   "metadata": {},
   "outputs": [
    {
     "name": "stdout",
     "output_type": "stream",
     "text": [
      "[[ 0.99832726  0.03541501 -0.04569965  0.08059939]\n",
      " [-0.04057226  0.99225981 -0.1173642   2.26379801]\n",
      " [ 0.04118947  0.11902202  0.99203689 -1.63140811]\n",
      " [ 0.          0.          0.          1.        ]]\n",
      "[ 0.89859111 -0.33029754 -0.28885558]\n",
      "7.519088312841259\n"
     ]
    }
   ],
   "source": [
    "tf_err_in_m = np.linalg.inv(tf_m_in_cam) @ tf_s_in_c\n",
    "print(tf_err_in_m)\n",
    "\n",
    "vec = R.from_matrix(tf_err_in_m[:3,:3]).as_rotvec() \n",
    "print(vec/np.linalg.norm(vec))\n",
    "print(np.linalg.norm(vec)*57)\n",
    "# keypoints_new = (tf_s_in_c @ anchor_kpts.T).T\n",
    "# print(keypoints_new)\n",
    "# print(keypoints.shape)\n",
    "# keypoints = np.hstack((\n",
    "#     keypoints,\n",
    "#     np.zeros((keypoints.shape[0],1)),\n",
    "#     np.ones((keypoints.shape[0],1))))\n",
    "\n",
    "\n",
    "# keypoints_corrected = (tf_err_in_m @ keypoints.T).T\n",
    "\n",
    "# print(keypoints_corrected)"
   ]
  },
  {
   "cell_type": "code",
   "execution_count": 4,
   "id": "21030711",
   "metadata": {},
   "outputs": [],
   "source": [
    "anchor_kpts = np.zeros((6,2), dtype=float)\n",
    "i = 0\n",
    "anchor_kpts[2*i] = [6.143, 37.51]\n",
    "anchor_kpts[2*i+1] = [-anchor_kpts[2*i][0], anchor_kpts[2*i][1]]\n",
    "i +=1\n",
    "anchor_kpts[2*i] = [33.75, 0]\n",
    "anchor_kpts[2*i+1] = [-anchor_kpts[2*i][0], anchor_kpts[2*i][1]]\n",
    "i+=1\n",
    "anchor_kpts[2*i] = [19.9, -27.273]\n",
    "anchor_kpts[2*i+1] = [-anchor_kpts[2*i][0], anchor_kpts[2*i][1]]\n",
    "\n",
    "anchor_kpts = np.hstack((anchor_kpts, np.zeros((6,1))))\n",
    "anchor_gt_kpts2D = np.array(\n",
    "[(576, 266),\n",
    " (625, 267),\n",
    " (525, 349),\n",
    " (671, 353),\n",
    " (552, 409),\n",
    " (644, 409)], dtype=float)"
   ]
  },
  {
   "cell_type": "code",
   "execution_count": 5,
   "id": "970d84b7",
   "metadata": {},
   "outputs": [],
   "source": [
    "img_with_marker_name = 'marker.jpg'\n",
    "img_without_marker_name = 'no_marker.jpg'\n",
    "img = cv2.imread(img_without_marker_name)\n",
    "utils.show_image_with_points(img,anchor_gt_kpts2D, \"bb\")\n",
    "cv2.destroyAllWindows()"
   ]
  },
  {
   "cell_type": "code",
   "execution_count": 6,
   "id": "c0ecdc1f",
   "metadata": {},
   "outputs": [
    {
     "name": "stdout",
     "output_type": "stream",
     "text": [
      "[[596.76696399 353.37300145]\n",
      " [544.35339355 299.87481689]\n",
      " [542.94104004 405.50866699]\n",
      " [649.17718506 406.86776733]\n",
      " [650.58630371 301.24371338]]\n",
      "[[  0.   0.   0.]\n",
      " [ 24.  24.   0.]\n",
      " [ 24. -24.   0.]\n",
      " [-24. -24.   0.]\n",
      " [-24.  24.   0.]]\n"
     ]
    }
   ],
   "source": [
    "# print(solve_pnp(anchors,anchor_gt_2D,mtx, dist))\n",
    "\n"
   ]
  },
  {
   "cell_type": "code",
   "execution_count": 14,
   "id": "cf5288e4",
   "metadata": {},
   "outputs": [
    {
     "name": "stdout",
     "output_type": "stream",
     "text": [
      "[-0.85843817 -0.50879822 -0.06487129]\n",
      "19.461677296021335\n"
     ]
    },
    {
     "ename": "ValueError",
     "evalue": "matmul: Input operand 1 has a mismatch in its core dimension 0, with gufunc signature (n?,k),(k,m?)->(n?,m?) (size 3 is different from 4)",
     "output_type": "error",
     "traceback": [
      "\u001b[0;31m---------------------------------------------------------------------------\u001b[0m",
      "\u001b[0;31mValueError\u001b[0m                                Traceback (most recent call last)",
      "\u001b[1;32m/home/viktor/Annotator/apriltagDetector.ipynb Cell 7\u001b[0m in \u001b[0;36m<cell line: 4>\u001b[0;34m()\u001b[0m\n\u001b[1;32m      <a href='vscode-notebook-cell:/home/viktor/Annotator/apriltagDetector.ipynb#W6sZmlsZQ%3D%3D?line=1'>2</a>\u001b[0m \u001b[39mprint\u001b[39m(vec\u001b[39m/\u001b[39mnp\u001b[39m.\u001b[39mlinalg\u001b[39m.\u001b[39mnorm(vec))\n\u001b[1;32m      <a href='vscode-notebook-cell:/home/viktor/Annotator/apriltagDetector.ipynb#W6sZmlsZQ%3D%3D?line=2'>3</a>\u001b[0m \u001b[39mprint\u001b[39m(np\u001b[39m.\u001b[39mlinalg\u001b[39m.\u001b[39mnorm(vec)\u001b[39m*\u001b[39m\u001b[39m57\u001b[39m)\n\u001b[0;32m----> <a href='vscode-notebook-cell:/home/viktor/Annotator/apriltagDetector.ipynb#W6sZmlsZQ%3D%3D?line=3'>4</a>\u001b[0m keypoints_new \u001b[39m=\u001b[39m (tf_s_in_c \u001b[39m@\u001b[39;49m anchor_kpts\u001b[39m.\u001b[39;49mT)\u001b[39m.\u001b[39mT\n\u001b[1;32m      <a href='vscode-notebook-cell:/home/viktor/Annotator/apriltagDetector.ipynb#W6sZmlsZQ%3D%3D?line=4'>5</a>\u001b[0m \u001b[39mprint\u001b[39m(keypoints_new)\n",
      "\u001b[0;31mValueError\u001b[0m: matmul: Input operand 1 has a mismatch in its core dimension 0, with gufunc signature (n?,k),(k,m?)->(n?,m?) (size 3 is different from 4)"
     ]
    }
   ],
   "source": []
  },
  {
   "cell_type": "code",
   "execution_count": 12,
   "id": "48ca6298",
   "metadata": {},
   "outputs": [
    {
     "name": "stdout",
     "output_type": "stream",
     "text": [
      "inliers_gt\n",
      " [[0 2 3 4 5]]\n",
      "inliers_m\n",
      " [[0 1 2 3 4]]\n",
      "(14, 2)\n",
      "[[  8.14466699  36.87073911 -17.46782282   1.        ]\n",
      " [ -3.95475413  36.82784943 -19.60041866   1.        ]\n",
      " [ 28.47961056  28.4786465  -11.28525961   1.        ]\n",
      " [-25.11985989  28.2886486  -20.73248908   1.        ]\n",
      " [ 14.55624629  26.70085392 -13.2087255    1.        ]\n",
      " [-11.36601992  26.60896539 -17.77768104   1.        ]\n",
      " [ 28.52465072  19.47676711  -8.51379595   1.        ]\n",
      " [-26.04781566  19.28332017 -18.1325218    1.        ]\n",
      " [ 38.26609715   6.37096278  -2.76287166   1.        ]\n",
      " [-37.0780598    6.10388492 -16.04273307   1.        ]\n",
      " [ 18.65224717 -25.09276828   3.41773796   1.        ]\n",
      " [-20.5433381  -25.23170769  -3.49072      1.        ]\n",
      " [ 19.04529551 -27.11745588   4.10899921   1.        ]\n",
      " [-21.13510346 -27.25988623  -2.97303809   1.        ]]\n"
     ]
    }
   ],
   "source": []
  },
  {
   "cell_type": "code",
   "execution_count": 64,
   "id": "81d1c7aa",
   "metadata": {},
   "outputs": [
    {
     "data": {
      "text/plain": [
       "array([-12.12208633,  -2.48093967,  -1.85059823])"
      ]
     },
     "execution_count": 64,
     "metadata": {},
     "output_type": "execute_result"
    }
   ],
   "source": [
    "R.from_matrix(tf_err_in_m[:3,:3]).as_rotvec() "
   ]
  },
  {
   "cell_type": "code",
   "execution_count": 11,
   "id": "660aa82a",
   "metadata": {},
   "outputs": [
    {
     "data": {
      "text/plain": [
       "array([ 0.01511221,  0.85730623, -3.01982064])"
      ]
     },
     "execution_count": 11,
     "metadata": {},
     "output_type": "execute_result"
    }
   ],
   "source": [
    "R.from_matrix(tf_s_in_c[:3,:3]).as_rotvec()"
   ]
  },
  {
   "cell_type": "code",
   "execution_count": 6,
   "id": "e099f0fd",
   "metadata": {},
   "outputs": [
    {
     "data": {
      "text/plain": [
       "array([[  6.143,  37.51 ,   0.   ,   1.   ],\n",
       "       [ -6.143,  37.51 ,   0.   ,   1.   ],\n",
       "       [ 27.213,  28.666,   0.   ,   1.   ],\n",
       "       [-27.213,  28.666,   0.   ,   1.   ],\n",
       "       [ 13.161,  26.86 ,   0.   ,   1.   ],\n",
       "       [-13.161,  26.86 ,   0.   ,   1.   ],\n",
       "       [ 27.707,  19.26 ,   0.   ,   1.   ],\n",
       "       [-27.707,  19.26 ,   0.   ,   1.   ],\n",
       "       [ 38.253,   5.53 ,   0.   ,   1.   ],\n",
       "       [-38.253,   5.53 ,   0.   ,   1.   ],\n",
       "       [ 19.9  , -27.273,   0.   ,   1.   ],\n",
       "       [-19.9  , -27.273,   0.   ,   1.   ],\n",
       "       [ 20.4  , -29.39 ,   0.   ,   1.   ],\n",
       "       [-20.4  , -29.39 ,   0.   ,   1.   ]])"
      ]
     },
     "execution_count": 6,
     "metadata": {},
     "output_type": "execute_result"
    }
   ],
   "source": [
    "keypoints"
   ]
  },
  {
   "cell_type": "code",
   "execution_count": 69,
   "id": "e677fcec",
   "metadata": {},
   "outputs": [
    {
     "name": "stdout",
     "output_type": "stream",
     "text": [
      "[[ 0.99988949  0.00636104  0.01343638 -0.53884737]\n",
      " [-0.00506419  0.99551793 -0.0944373   1.91545499]\n",
      " [-0.01397688  0.09435882  0.99544013 -3.50445623]\n",
      " [ 0.          0.          0.          1.        ]]\n"
     ]
    }
   ],
   "source": [
    "tf_gtp_in_m = np.linalg.inv(tf_m_in_cam) @ tf_gt_in_c \n",
    "# print(tf_gtp_in_cam)"
   ]
  },
  {
   "cell_type": "code",
   "execution_count": 67,
   "id": "b93a7c2b",
   "metadata": {},
   "outputs": [
    {
     "data": {
      "text/plain": [
       "(array([[ -4.24073132],\n",
       "        [-14.6707422 ],\n",
       "        [390.75195417]]),\n",
       " array([[-0.00902499],\n",
       "        [-0.15627451],\n",
       "        [-3.13401989]]))"
      ]
     },
     "execution_count": 67,
     "metadata": {},
     "output_type": "execute_result"
    }
   ],
   "source": [
    "tvec_m, rvec_m"
   ]
  },
  {
   "cell_type": "code",
   "execution_count": 65,
   "id": "2bbb3afb",
   "metadata": {},
   "outputs": [
    {
     "data": {
      "text/plain": [
       "array([ 5.38891234,  0.7824718 , -0.32611678])"
      ]
     },
     "execution_count": 65,
     "metadata": {},
     "output_type": "execute_result"
    }
   ],
   "source": [
    "R.from_matrix(tf_err_in_m[:3,:3]).as_rotvec()*57"
   ]
  },
  {
   "cell_type": "code",
   "execution_count": 57,
   "id": "a7e3c38c",
   "metadata": {},
   "outputs": [
    {
     "name": "stdout",
     "output_type": "stream",
     "text": [
      "(14, 2)\n",
      "[[  5.87230827  39.01373929   2.18882352]\n",
      " [ -6.41233406  39.07595797   2.36054344]\n",
      " [ 26.88372287  30.10267615   1.0598213 ]\n",
      " [-27.53626275  30.37829996   1.82052682]\n",
      " [ 12.82178766  28.37593282   1.08581235]\n",
      " [-13.49730361  28.50923253   1.45371171]\n",
      " [ 27.31783634  20.73633279   0.16537764]\n",
      " [-28.0900401   21.01696002   0.93989232]\n",
      " [ 37.77533386   7.01446461  -1.27756913]\n",
      " [-38.72221179   7.40190582  -0.20825416]\n",
      " [ 19.21570077 -25.54856691  -4.11630394]\n",
      " [-20.5799011  -25.347012    -3.56002422]\n",
      " [ 19.7021792  -27.65861047  -4.32305001]\n",
      " [-21.09331217 -27.45199136  -3.75279341]]\n"
     ]
    }
   ],
   "source": []
  },
  {
   "cell_type": "code",
   "execution_count": 52,
   "id": "37e568bc",
   "metadata": {},
   "outputs": [
    {
     "ename": "AttributeError",
     "evalue": "module 'numpy' has no attribute 'corr'",
     "output_type": "error",
     "traceback": [
      "\u001b[0;31m---------------------------------------------------------------------------\u001b[0m",
      "\u001b[0;31mAttributeError\u001b[0m                            Traceback (most recent call last)",
      "\u001b[1;32m/media/viktor/E/Annotator/apriltagDetector.ipynb Cell 9\u001b[0m in \u001b[0;36m<cell line: 1>\u001b[0;34m()\u001b[0m\n\u001b[0;32m----> <a href='vscode-notebook-cell:/media/viktor/E/Annotator/apriltagDetector.ipynb#Y306sZmlsZQ%3D%3D?line=0'>1</a>\u001b[0m np\u001b[39m.\u001b[39;49mcorr(keypoints_corrected[:,\u001b[39m1\u001b[39m], keypoints_corrected[:,\u001b[39m2\u001b[39m])\n",
      "File \u001b[0;32m~/anaconda/envs/CameraCalibrationOptimize/lib/python3.9/site-packages/numpy/__init__.py:315\u001b[0m, in \u001b[0;36m__getattr__\u001b[0;34m(attr)\u001b[0m\n\u001b[1;32m    312\u001b[0m     \u001b[39mfrom\u001b[39;00m \u001b[39m.\u001b[39;00m\u001b[39mtesting\u001b[39;00m \u001b[39mimport\u001b[39;00m Tester\n\u001b[1;32m    313\u001b[0m     \u001b[39mreturn\u001b[39;00m Tester\n\u001b[0;32m--> 315\u001b[0m \u001b[39mraise\u001b[39;00m \u001b[39mAttributeError\u001b[39;00m(\u001b[39m\"\u001b[39m\u001b[39mmodule \u001b[39m\u001b[39m{!r}\u001b[39;00m\u001b[39m has no attribute \u001b[39m\u001b[39m\"\u001b[39m\n\u001b[1;32m    316\u001b[0m                      \u001b[39m\"\u001b[39m\u001b[39m{!r}\u001b[39;00m\u001b[39m\"\u001b[39m\u001b[39m.\u001b[39mformat(\u001b[39m__name__\u001b[39m, attr))\n",
      "\u001b[0;31mAttributeError\u001b[0m: module 'numpy' has no attribute 'corr'"
     ]
    }
   ],
   "source": [
    "np.corr(keypoints_corrected[:,1], keypoints_corrected[:,2])"
   ]
  },
  {
   "cell_type": "code",
   "execution_count": 12,
   "id": "b92a5dbf",
   "metadata": {},
   "outputs": [
    {
     "name": "stdout",
     "output_type": "stream",
     "text": [
      "(5, 3)\n"
     ]
    },
    {
     "ename": "NameError",
     "evalue": "name 'results' is not defined",
     "output_type": "error",
     "traceback": [
      "\u001b[0;31m---------------------------------------------------------------------------\u001b[0m",
      "\u001b[0;31mNameError\u001b[0m                                 Traceback (most recent call last)",
      "\u001b[1;32m/media/viktor/E/Annotator/apriltagDetector.ipynb Cell 8\u001b[0m in \u001b[0;36m<cell line: 11>\u001b[0;34m()\u001b[0m\n\u001b[1;32m      <a href='vscode-notebook-cell:/media/viktor/E/Annotator/apriltagDetector.ipynb#X10sZmlsZQ%3D%3D?line=6'>7</a>\u001b[0m obj_points[\u001b[39m4\u001b[39m][\u001b[39m1\u001b[39m] \u001b[39m=\u001b[39m \u001b[39m20.0\u001b[39m\n\u001b[1;32m      <a href='vscode-notebook-cell:/media/viktor/E/Annotator/apriltagDetector.ipynb#X10sZmlsZQ%3D%3D?line=8'>9</a>\u001b[0m \u001b[39mprint\u001b[39m(obj_points\u001b[39m.\u001b[39mshape)\n\u001b[0;32m---> <a href='vscode-notebook-cell:/media/viktor/E/Annotator/apriltagDetector.ipynb#X10sZmlsZQ%3D%3D?line=10'>11</a>\u001b[0m \u001b[39mfor\u001b[39;00m r \u001b[39min\u001b[39;00m results:\n\u001b[1;32m     <a href='vscode-notebook-cell:/media/viktor/E/Annotator/apriltagDetector.ipynb#X10sZmlsZQ%3D%3D?line=11'>12</a>\u001b[0m     imagePoints \u001b[39m=\u001b[39m r\u001b[39m.\u001b[39mcorners\u001b[39m.\u001b[39mreshape(\u001b[39m1\u001b[39m,\u001b[39m4\u001b[39m,\u001b[39m2\u001b[39m)\n\u001b[1;32m     <a href='vscode-notebook-cell:/media/viktor/E/Annotator/apriltagDetector.ipynb#X10sZmlsZQ%3D%3D?line=12'>13</a>\u001b[0m     center \u001b[39m=\u001b[39m r\u001b[39m.\u001b[39mcenter\u001b[39m.\u001b[39mreshape(\u001b[39m1\u001b[39m,\u001b[39m1\u001b[39m,\u001b[39m2\u001b[39m)\n",
      "\u001b[0;31mNameError\u001b[0m: name 'results' is not defined"
     ]
    }
   ],
   "source": [
    "obj_points = np.zeros((5,3), dtype=float)\n",
    "obj_points[0][1] = 40.0\n",
    "obj_points[1][0] = 40.0\n",
    "obj_points[1][1] = 40.0\n",
    "obj_points[2][0] = 40.0\n",
    "obj_points[4][0] = 20.0\n",
    "obj_points[4][1] = 20.0\n",
    "\n",
    "print(obj_points.shape)\n",
    "\n",
    "for r in results:\n",
    "    imagePoints = r.corners.reshape(1,4,2)\n",
    "    center = r.center.reshape(1,1,2)\n",
    "\n",
    "    imgpoints = np.concatenate((imagePoints, center), axis=1)\n",
    "    success, rvec, tvec = cv2.solvePnP(obj_points, imgpoints, mtx, dist)\n"
   ]
  },
  {
   "cell_type": "code",
   "execution_count": 7,
   "id": "651f74bd",
   "metadata": {},
   "outputs": [],
   "source": [
    "anchor_gt_2D = np.array(\n",
    "[(623, 336),\n",
    " (610, 318),\n",
    " (636, 318),\n",
    " (597, 336),\n",
    " (649, 336),\n",
    " (610, 358),\n",
    " (636, 358)], dtype=float)"
   ]
  },
  {
   "cell_type": "code",
   "execution_count": 2,
   "id": "8ed3e707",
   "metadata": {},
   "outputs": [
    {
     "name": "stdout",
     "output_type": "stream",
     "text": [
      "[[ 0. 40.  0.]\n",
      " [40. 40.  0.]\n",
      " [40.  0.  0.]\n",
      " [ 0.  0.  0.]\n",
      " [20. 20.  0.]]\n"
     ]
    }
   ],
   "source": [
    "obj_points = np.zeros((5,3), dtype=float)\n",
    "obj_points[0][1] = 40.0\n",
    "obj_points[1][0] = 40.0\n",
    "obj_points[1][1] = 40.0\n",
    "obj_points[2][0] = 40.0\n",
    "obj_points[4][0] = 20.0\n",
    "obj_points[4][1] = 20.0\n",
    "\n",
    "print(obj_points)"
   ]
  },
  {
   "cell_type": "code",
   "execution_count": 11,
   "id": "c36dd5d9",
   "metadata": {},
   "outputs": [],
   "source": []
  },
  {
   "cell_type": "code",
   "execution_count": 20,
   "id": "472e67e6",
   "metadata": {},
   "outputs": [],
   "source": []
  },
  {
   "cell_type": "code",
   "execution_count": 7,
   "id": "9475a4ab",
   "metadata": {},
   "outputs": [],
   "source": [
    "def draw_nums(img, points, show=False):\n",
    "    for i in range(len(points)):\n",
    "        point = (int(points[i][0][0]), int(points[i][0][1]))\n",
    "        cv2.putText(img, str(i), point, cv2.FONT_HERSHEY_SIMPLEX, 12, (255,0,255))\n",
    "        cv2.circle(img, point, 2, (255,0,255), -1)\n",
    "    \n",
    "    if show:\n",
    "        cv2.imshow('img', img)\n",
    "        cv2.waitKey(10)"
   ]
  },
  {
   "cell_type": "code",
   "execution_count": 14,
   "id": "adc471a2",
   "metadata": {},
   "outputs": [],
   "source": [
    "def get_socket_points(img, points_array, lines_array, bbox_array, tvec, rvec, \n",
    "                      show=False, draw_l=True, draw_p=True, draw_b=True):\n",
    "    if isinstance(img, str):\n",
    "        img = cv2.imread(img)\n",
    "#     img = increase_brightness(img, 50)\n",
    "    img_points = None\n",
    "    \n",
    "    if draw_p:\n",
    "        img_points, _ = cv2.projectPoints(points_array, rvec, tvec, mtx, dist)\n",
    "        draw_points(img, img_points)\n",
    "    if draw_l:\n",
    "        lines_points, _ = cv2.projectPoints(lines_array, rvec, tvec, mtx, dist)\n",
    "        draw_lines(img, lines_points)\n",
    "    if draw_b:\n",
    "        bbox_arr, _ = cv2.projectPoints(bbox_array, rvec, tvec, mtx, dist)\n",
    "        draw_bbox(img, bbox_arr)\n",
    "    \n",
    "    if show:\n",
    "        cv2.imshow(\"Image\", img)\n",
    "        cv2.waitKey(1)\n",
    "    return img, img_points"
   ]
  },
  {
   "cell_type": "code",
   "execution_count": null,
   "id": "dd4cae8c",
   "metadata": {},
   "outputs": [],
   "source": [
    "def detect_apriltag(img):\n",
    "    if isinstance(img, str):\n",
    "        print('reading img from file system')\n",
    "        img = cv2.imread(img)\n",
    "    if not type(img[0][0][0]) == np.uint8:\n",
    "        img = img/img.max()\n",
    "        img *= 255\n",
    "        img = img.astype(np.uint8)\n",
    "#         cv2.imshow('detect_apriltag', img)\n",
    "        cv2.waitKey(1)\n",
    "    gray = cv2.cvtColor(img, cv2.COLOR_BGR2GRAY)\n",
    "    \n",
    "    results = detector.detect(gray,\n",
    "                              estimate_tag_pose=True,\n",
    "                              camera_params=camera_params, \n",
    "                              tag_size=0.04)\n",
    "    if not results:\n",
    "        print('apriltag not found')\n",
    "        return\n",
    "    return results"
   ]
  },
  {
   "cell_type": "code",
   "execution_count": 8,
   "id": "f604055d",
   "metadata": {},
   "outputs": [],
   "source": [
    "def warp_img(image, res):\n",
    "    corners = res[0].corners\n",
    "    \n",
    "    corners[:2] = np.array(sorted(corners[:2], key=lambda x: x[1]))\n",
    "    corners[2:] = np.array(sorted(corners[2:], key=lambda x: x[1]))\n",
    "\n",
    "    a = corners[:2][:, 0].mean()\n",
    "    c = corners[2:][:, 0].mean()\n",
    "    b = corners[::2][:, 1].mean()\n",
    "    d = corners[1::2][:, 1].mean()\n",
    "\n",
    "    desired_corners = np.array([[a, b], [a, d], [c, b], [c, d]], dtype=int)\n",
    "\n",
    "    tform = get_projection(desired_corners, corners)\n",
    "    image_warped = warp(image, tform)\n",
    "    return image_warped, desired_corners"
   ]
  },
  {
   "cell_type": "code",
   "execution_count": 9,
   "id": "10ecb134",
   "metadata": {},
   "outputs": [],
   "source": [
    "def get_projection(c_to, c_from):\n",
    "    tform = ProjectiveTransform()\n",
    "    tform.estimate(c_to, c_from)\n",
    "    return tform"
   ]
  },
  {
   "cell_type": "code",
   "execution_count": 15,
   "id": "797a804f",
   "metadata": {},
   "outputs": [],
   "source": [
    "# pose_left = ur10.getl()"
   ]
  },
  {
   "cell_type": "code",
   "execution_count": null,
   "id": "b01dc535",
   "metadata": {},
   "outputs": [],
   "source": [
    "ur10.movej((-4.048973385487692, -1.1045106093036097, 1.546417236328125,\n",
    "            2.811586380004883, -0.7216728369342249, 3.1041338443756104))"
   ]
  },
  {
   "cell_type": "code",
   "execution_count": null,
   "id": "b68b2eab",
   "metadata": {},
   "outputs": [],
   "source": [
    "# pose_center = ur10.getl()"
   ]
  },
  {
   "cell_type": "code",
   "execution_count": null,
   "id": "f221a856",
   "metadata": {},
   "outputs": [],
   "source": [
    "# pose_right = ur10.getl()"
   ]
  },
  {
   "cell_type": "code",
   "execution_count": 10,
   "id": "90cf6917",
   "metadata": {},
   "outputs": [],
   "source": [
    "points_arr = np.array(\n",
    "    [[-132. ,   44. ,  -46. ],\n",
    "       [-132. ,   27. ,  -46. ],\n",
    "       [-143. ,   46. ,  -43. ],\n",
    "       [-143. ,   40. ,  -45. ],\n",
    "       [-142.5,   31. ,  -46. ],\n",
    "       [-142.5,   24. ,  -45. ],\n",
    "       [-149. ,   60. ,  -45. ],\n",
    "       [-149. ,   43. ,  -44. ],\n",
    "       [-149. ,   27. ,  -45. ],\n",
    "       [-149. ,   11. ,  -45. ],\n",
    "       [-156. ,   47. ,  -46. ],\n",
    "       [-156. ,   39. ,  -45. ],\n",
    "       [-156. ,   31. ,  -46. ],\n",
    "       [-156. ,   23. ,  -46. ],\n",
    "       [-162. ,   35. ,  -45. ],\n",
    "       [-171. ,   44. ,  -46. ],\n",
    "       [-171. ,   27. ,  -45. ]], dtype=np.float32)\n",
    "DEPTH = -40\n",
    "bbox = np.array([\n",
    "    [10, 128, DEPTH],\n",
    "    [59, 128, DEPTH],\n",
    "    [59, 170, DEPTH],\n",
    "    [10, 170, DEPTH]\n",
    "], dtype=float)\n",
    "bbox[:,[0, 1]] = bbox[:,[1, 0]]\n",
    "bbox[:, 0] = -bbox[:, 0]"
   ]
  },
  {
   "cell_type": "code",
   "execution_count": 14,
   "id": "6800670f",
   "metadata": {},
   "outputs": [],
   "source": [
    "lines = np.array([\n",
    "    [0,0,0],\n",
    "    [100,0,0],\n",
    "    [0,100,0],\n",
    "    [0,0,100]\n",
    "], dtype=float)"
   ]
  },
  {
   "cell_type": "code",
   "execution_count": 19,
   "id": "0c7eb655",
   "metadata": {},
   "outputs": [],
   "source": [
    "def draw_bbox(img, bbox_arr, show=False):\n",
    "    print(bbox_arr)\n",
    "    color = (0,255,0)\n",
    "    cv2.line(img, \n",
    "            [int(x) for x in bbox_arr[0][0]],\n",
    "            [int(x) for x in bbox_arr[1][0]], color, 1)\n",
    "    cv2.line(img, \n",
    "            [int(x) for x in bbox_arr[1][0]], \n",
    "            [int(x) for x in bbox_arr[2][0]], color, 1)\n",
    "    cv2.line(img, \n",
    "            [int(x) for x in bbox_arr[2][0]], \n",
    "            [int(x) for x in bbox_arr[3][0]], color, 1)\n",
    "    cv2.line(img, \n",
    "            [int(x) for x in bbox_arr[3][0]], \n",
    "            [int(x) for x in bbox_arr[0][0]], color, 1)\n",
    "    \n",
    "    if show:\n",
    "        cv2.imshow('img', img)\n",
    "        cv2.waitKey(10)"
   ]
  },
  {
   "cell_type": "code",
   "execution_count": 11,
   "id": "517f0e97",
   "metadata": {},
   "outputs": [],
   "source": [
    "def draw_lines(img, line_arr, show=False):\n",
    "    colors = [(255,255,0), (0,255,0), (0,0,255)]\n",
    "    for i, line in enumerate(line_arr[1:]):\n",
    "        cv2.line(img, [int(x) for x in line_arr[0][0]], [int(x) for x in line[0]], colors[i-1], 2)\n",
    "    if show:\n",
    "        cv2.imshow('img', img)\n",
    "        cv2.waitKey(10)"
   ]
  },
  {
   "cell_type": "code",
   "execution_count": 30,
   "id": "b8abc450",
   "metadata": {},
   "outputs": [],
   "source": [
    "cv2.destroyAllWindows()"
   ]
  },
  {
   "cell_type": "code",
   "execution_count": null,
   "id": "5c6c2129",
   "metadata": {},
   "outputs": [],
   "source": [
    "name = 2\n",
    "count = 0\n",
    "centers = []\n",
    "# ress = []\n",
    "while count < 10:\n",
    "    img = get_photo_from_realsense()\n",
    "    res = detect_apriltag(img)\n",
    "    count += 1\n",
    "    \n",
    "    if not res: \n",
    "        continue\n",
    "\n",
    "#     ress = res\n",
    "#     break\n",
    "#     centers.append(res[0].center)\n",
    "#     print(res)\n",
    "#     ress.append(res)\n",
    "    \n",
    "    draw_apriltag(img, res,show=True)\n",
    "    tvec, rvec,objpts = solve_pnp(res)\n",
    "    print(tvec)\n",
    "#     processed, _ = get_socket_points(img, points_arr, lines, bbox, tvec, rvec, \n",
    "#                                    show=True, draw_l=True, draw_p=True, draw_b=False)\n",
    "    \n",
    "    \n",
    "#     fname = f'/home/viacheslav/jupyter_notebooks/{name}_processed.jpg'\n",
    "#     cv2.imwrite(fname, img)\n",
    "#     name += 1\n",
    "#     break\n"
   ]
  },
  {
   "cell_type": "code",
   "execution_count": null,
   "id": "2cb294e7",
   "metadata": {},
   "outputs": [],
   "source": [
    "[[-23.50502963]\n",
    " [  8.35980833]\n",
    " [110.64977061]]"
   ]
  },
  {
   "cell_type": "code",
   "execution_count": null,
   "id": "0e230ff4",
   "metadata": {},
   "outputs": [],
   "source": [
    "centers = np.array(centers)\n",
    "\n",
    "print(np.var(centers,axis = 0))"
   ]
  },
  {
   "cell_type": "code",
   "execution_count": 24,
   "id": "6e2ef41b",
   "metadata": {},
   "outputs": [
    {
     "name": "stderr",
     "output_type": "stream",
     "text": [
      "Error, more than one new minimum found.\n"
     ]
    }
   ],
   "source": [
    "name = 1\n",
    "ress1 = []\n",
    "centers = []\n",
    "corners = []\n",
    "count = 0\n",
    "while name< 100:\n",
    "    img = get_photo_from_realsense()\n",
    "    res = detect_apriltag(img)\n",
    "#     print(res)\n",
    "    if not res: \n",
    "        continue\n",
    "    for r in res:\n",
    "        centers.append(r.center)\n",
    "        corners.append(r.corners)\n",
    "    count+=1\n",
    "#     ress.append(res)\n",
    "#     cv2.imshow(\"Image\", img)\n",
    "#     cv2.waitKey(10)\n",
    "    draw_apriltag(img, res)\n",
    "#     tvec, rvec, objpts = solve_pnp(res)\n",
    "#     processed, _ = get_socket_points(img, points_arr, lines, bbox, tvec, rvec, \n",
    "#                                    show=True, draw_l=True, draw_p=False, draw_b=False)\n",
    "    \n",
    "    \n",
    "    fname = f'/home/viacheslav/jupyter_notebooks/new_data/{name}_processed.jpg'\n",
    "#     print(fname)\n",
    "    cv2.imwrite(fname, img)\n",
    "    name += 1\n",
    "#     break\n"
   ]
  },
  {
   "cell_type": "code",
   "execution_count": 161,
   "id": "ee499ee0",
   "metadata": {},
   "outputs": [
    {
     "name": "stdout",
     "output_type": "stream",
     "text": [
      "[653.14998719 323.76294511]\n",
      "[0.01481017 0.01045825]\n"
     ]
    }
   ],
   "source": [
    "centers = np.array(centers)\n",
    "print(np.mean(centers,axis = 0))\n",
    "print(np.sqrt(np.var(centers,axis = 0)))"
   ]
  },
  {
   "cell_type": "code",
   "execution_count": 162,
   "id": "03165814",
   "metadata": {},
   "outputs": [
    {
     "name": "stdout",
     "output_type": "stream",
     "text": [
      "[0.01653605 0.02842677]\n",
      "[0.03333079 0.01224933]\n",
      "[0.00483051 0.00614852]\n",
      "[0.00464149 0.02144295]\n"
     ]
    }
   ],
   "source": [
    "corners = np.array(corners)\n",
    "# i = 0\n",
    "for i in range (4):\n",
    "# print(np.mean(corners[:,i],axis = 0))\n",
    "    print(np.sqrt(np.var(corners[:,i],axis = 0)))\n",
    "# print(corners[0])"
   ]
  },
  {
   "cell_type": "code",
   "execution_count": null,
   "id": "11c86424",
   "metadata": {},
   "outputs": [],
   "source": [
    "corners[:10,0]"
   ]
  },
  {
   "cell_type": "code",
   "execution_count": null,
   "id": "55070482",
   "metadata": {},
   "outputs": [],
   "source": [
    "# Good lighting \n",
    "print(np.mean(centers,axis = 0))\n",
    "print(np.var(centers,axis = 0))\n",
    "\n",
    "[655.96844896 321.05286757]\n",
    "[0.00012992 0.00013354]\n",
    "\n",
    "# Poor lighting \n",
    "[656.07557452 321.20941614]\n",
    "[0.00089831 0.00115515]\n",
    "\n"
   ]
  },
  {
   "cell_type": "code",
   "execution_count": null,
   "id": "1b3c0623",
   "metadata": {},
   "outputs": [],
   "source": [
    "centers"
   ]
  },
  {
   "cell_type": "code",
   "execution_count": null,
   "id": "2a816a96",
   "metadata": {},
   "outputs": [],
   "source": [
    "ress1[0][0]"
   ]
  },
  {
   "cell_type": "code",
   "execution_count": null,
   "id": "322165c8",
   "metadata": {},
   "outputs": [],
   "source": [
    "ress[0][0].center"
   ]
  },
  {
   "cell_type": "code",
   "execution_count": null,
   "id": "ad7ee21c",
   "metadata": {},
   "outputs": [],
   "source": [
    "results = np.array([r[0].center for r in ress])\n",
    "results[:,1].std()"
   ]
  },
  {
   "cell_type": "code",
   "execution_count": 16,
   "id": "30561b08",
   "metadata": {},
   "outputs": [],
   "source": [
    "def make_photo(path='/home/viacheslav/jupyter_notebooks/processed_23_9', name=0):\n",
    "    img = get_photo_from_realsense()\n",
    "    res = detect_apriltag(img)\n",
    "    if not res: \n",
    "        return name\n",
    "    draw_apriltag(img, res)\n",
    "    tvec, rvec = solve_pnp(res)\n",
    "    processed = get_socket_points(img, points_arr, lines, bbox, tvec, rvec, draw_b=False, draw_l=False)\n",
    "    cv2.imshow('img', img)\n",
    "    cv2.waitKey(1)\n",
    "    fname = path+f'/{name}_processed.jpg'\n",
    "    cv2.imwrite(fname, processed)\n",
    "    name += 1\n",
    "    return name"
   ]
  },
  {
   "cell_type": "code",
   "execution_count": 17,
   "id": "8aa9f181",
   "metadata": {},
   "outputs": [],
   "source": [
    "def move_to_next_pos_and_photo(end:list, num_photos:int, img_name):\n",
    "    start = ur10.getl()\n",
    "    deltas = np.array([x-y for x, y in zip(end, start)])/num_photos\n",
    "    for _ in range(num_photos):\n",
    "        ur10.movel(ur10.getl()+deltas, vel=0.1, acc=0.5)\n",
    "        img_name = make_photo(name=img_name)\n",
    "    return img_name"
   ]
  },
  {
   "cell_type": "code",
   "execution_count": 33,
   "id": "0c2bc1a0",
   "metadata": {},
   "outputs": [],
   "source": [
    "cv2.destroyAllWindows()"
   ]
  },
  {
   "cell_type": "code",
   "execution_count": null,
   "id": "7e05272b",
   "metadata": {},
   "outputs": [],
   "source": [
    "ur10.getl()"
   ]
  },
  {
   "cell_type": "code",
   "execution_count": null,
   "id": "5ab7d302",
   "metadata": {},
   "outputs": [],
   "source": [
    "boundary_positions = np.array([[ 0.232085  , -0.61961176,  0.43073168,  1.13699011,  1.24920145,\n",
    "         1.22539067],\n",
    "       [ 0.2333736 , -0.60270578,  0.63426659,  1.17489684,  1.22881322,\n",
    "         1.24945387],\n",
    "       [ 0.42691084, -0.61264868,  0.58616166,  1.3315313 ,  1.41684329,\n",
    "         1.23695536],\n",
    "       [ 0.29272549, -0.60669106,  0.33210261,  0.9753124 ,  0.95871666,\n",
    "         1.43494421],\n",
    "       [ 0.33165193, -0.25687359,  0.36506057,  1.30079001,  0.75824351,\n",
    "         0.868352  ],\n",
    "       [ 0.33153143, -0.22721475,  0.82933533,  1.67432401,  0.98844306,\n",
    "         0.83238533],\n",
    "       [ 0.44529088, -0.30760203,  0.6630999 ,  1.49787613,  1.12812965,\n",
    "         0.9164792 ],\n",
    "       [ 0.48105068, -0.37105609,  0.34244749,  1.08186592,  0.84939581,\n",
    "         1.07530735]])"
   ]
  },
  {
   "cell_type": "code",
   "execution_count": null,
   "id": "423c4ae8",
   "metadata": {},
   "outputs": [],
   "source": [
    "min_x, max_x = boundary_positions[:, 0].min(), boundary_positions[:, 0].max()\n",
    "min_y, max_y = boundary_positions[:, 1].min(), boundary_positions[:, 1].max()\n",
    "min_z, max_z = boundary_positions[:, 2].min(), boundary_positions[:, 2].max()\n",
    "min_rx, max_rx = boundary_positions[:, 3].min(), boundary_positions[:, 3].max()\n",
    "min_ry, max_ry = boundary_positions[:, 4].min(), boundary_positions[:, 4].max()\n",
    "min_rz, max_rz = boundary_positions[:, 5].min(), boundary_positions[:, 5].max()"
   ]
  },
  {
   "cell_type": "code",
   "execution_count": null,
   "id": "ab4cfd27",
   "metadata": {},
   "outputs": [],
   "source": [
    "img_name = 0"
   ]
  },
  {
   "cell_type": "code",
   "execution_count": null,
   "id": "2405690a",
   "metadata": {},
   "outputs": [],
   "source": [
    "while True:\n",
    "    next_pos = [np.random.uniform(min_x, max_x),\n",
    "                np.random.uniform(min_y, max_y),\n",
    "                np.random.uniform(min_z, max_z),\n",
    "                np.random.uniform(min_rx, max_rx),\n",
    "                np.random.uniform(min_ry, max_ry),\n",
    "                np.random.uniform(min_rz, max_rz)]\n",
    "    img_name = move_to_next_pos_and_photo(next_pos, 50, img_name)"
   ]
  },
  {
   "cell_type": "code",
   "execution_count": null,
   "id": "cf035fc7",
   "metadata": {},
   "outputs": [],
   "source": [
    "pose_left = [0.4144699791608615,\n",
    " -0.28471817373934244,\n",
    " 0.4506025223319278,\n",
    " 1.3698459362193829,\n",
    " 0.8751222887301229,\n",
    " 0.7944053357672337]"
   ]
  },
  {
   "cell_type": "code",
   "execution_count": null,
   "id": "72ae1d21",
   "metadata": {},
   "outputs": [],
   "source": [
    "pose_center = [0.4168558559693215,\n",
    " -0.5621571861068889,\n",
    " 0.4414088449025262,\n",
    " 1.1886706848218183,\n",
    " 1.2237760813323468,\n",
    " 1.1861928832927722]"
   ]
  },
  {
   "cell_type": "code",
   "execution_count": null,
   "id": "a95f176e",
   "metadata": {},
   "outputs": [],
   "source": [
    "pose_right = [0.613646044924774,\n",
    " -0.8457833066867604,\n",
    " 0.39668770616099447,\n",
    " 0.86630043677316,\n",
    " 1.6128758106937202,\n",
    " 1.7491595656007006]"
   ]
  },
  {
   "cell_type": "code",
   "execution_count": 7,
   "id": "9d14a7e4",
   "metadata": {},
   "outputs": [],
   "source": [
    "def detect_red_pixels(path:str, img:np.array=None):\n",
    "    red_pixel =  np.array([237,28, 36])\n",
    "#     up=220\n",
    "#     low=40\n",
    "    if img is None:\n",
    "        img = cv2.cvtColor(cv2.imread(path), cv2.COLOR_BGR2RGB)\n",
    "    indices = []\n",
    "    for x, row in enumerate(img):\n",
    "        for y, cell in enumerate(row):\n",
    "            if np.array_equal(img[x, y], red_pixel):\n",
    "#             if img[x, y,0] > up and img[x,y,1] < low and img[x,y,2] < low:\n",
    "                indices.append((y,x))\n",
    "#     assert len(indices) == 17, f'wrong keypoint number!! {indices}'\n",
    "    return indices"
   ]
  },
  {
   "cell_type": "code",
   "execution_count": 181,
   "id": "12e56358",
   "metadata": {},
   "outputs": [],
   "source": [
    "cv2.destroyAllWindows()"
   ]
  },
  {
   "cell_type": "markdown",
   "id": "42d00bd9",
   "metadata": {},
   "source": [
    "# Get new keypoints from image"
   ]
  },
  {
   "cell_type": "code",
   "execution_count": 5,
   "id": "c83ae68b",
   "metadata": {},
   "outputs": [],
   "source": [
    "img = cv2.imread('/home/viacheslav/jupyter_notebooks/no_marker.jpg')"
   ]
  },
  {
   "cell_type": "code",
   "execution_count": null,
   "id": "c9bcd449",
   "metadata": {},
   "outputs": [],
   "source": [
    "px = np.array(detect_red_pixels('/home/viacheslav/jupyter_notebooks/Screenshot_1.png'))\n",
    "px"
   ]
  },
  {
   "cell_type": "code",
   "execution_count": null,
   "id": "db26e860",
   "metadata": {},
   "outputs": [],
   "source": [
    "cv2.imshow('a', img)\n",
    "cv2.waitKey(0)"
   ]
  },
  {
   "cell_type": "code",
   "execution_count": 81,
   "id": "12e69137",
   "metadata": {},
   "outputs": [
    {
     "data": {
      "text/plain": [
       "32"
      ]
     },
     "execution_count": 81,
     "metadata": {},
     "output_type": "execute_result"
    }
   ],
   "source": [
    "cv2.imshow('a', cv2.imread('/home/viacheslav/jupyter_notebooks/marker.jpg'))\n",
    "cv2.waitKey(0)"
   ]
  },
  {
   "cell_type": "code",
   "execution_count": 22,
   "id": "27fbf4e6",
   "metadata": {},
   "outputs": [
    {
     "name": "stdout",
     "output_type": "stream",
     "text": [
      "reading img from file system\n"
     ]
    },
    {
     "data": {
      "text/plain": [
       "Detection object:\n",
       "tag_family = b'tagStandard52h13'\n",
       "tag_id = 48701\n",
       "hamming = 0\n",
       "decision_margin = 72.51439666748047\n",
       "homography = [[-7.14084838e-01 -5.31450486e+01  5.96766964e+02]\n",
       " [ 5.28093142e+01 -6.98452026e-01  3.53373001e+02]\n",
       " [-1.46068232e-05 -4.65591571e-05  1.00000000e+00]]\n",
       "center = [596.76696399 353.37300145]\n",
       "corners = [[544.35339355 299.87481689]\n",
       " [542.94104004 405.50866699]\n",
       " [649.17718506 406.86776733]\n",
       " [650.58630371 301.24371338]]\n",
       "pose_R = [[-0.01281121 -0.99983103 -0.01318278]\n",
       " [ 0.99989985 -0.01288915  0.00584447]\n",
       " [-0.0060134  -0.01310659  0.99989602]]\n",
       "pose_t = [[-0.0122298 ]\n",
       " [-0.00353095]\n",
       " [ 0.24014365]]\n",
       "pose_err = 1.5760249073091314e-07"
      ]
     },
     "execution_count": 22,
     "metadata": {},
     "output_type": "execute_result"
    }
   ],
   "source": [
    "res = detect_apriltag('/home/viacheslav/jupyter_notebooks/marker.jpg')[0]\n",
    "res"
   ]
  },
  {
   "cell_type": "code",
   "execution_count": null,
   "id": "402198a6",
   "metadata": {},
   "outputs": [],
   "source": [
    "draw_corners(img, res, True)"
   ]
  },
  {
   "cell_type": "code",
   "execution_count": 24,
   "id": "01977c55",
   "metadata": {},
   "outputs": [
    {
     "data": {
      "text/plain": [
       "<matplotlib.collections.PathCollection at 0x7fac4dd9d160>"
      ]
     },
     "execution_count": 24,
     "metadata": {},
     "output_type": "execute_result"
    },
    {
     "data": {
      "image/png": "[encoded data removed]",
      "text/plain": [
       "<Figure size 432x288 with 1 Axes>"
      ]
     },
     "metadata": {
      "needs_background": "light"
     },
     "output_type": "display_data"
    }
   ],
   "source": [
    "plt.scatter(px[:,0], -px[:,1],c=range(len(px)))"
   ]
  },
  {
   "cell_type": "code",
   "execution_count": 25,
   "id": "b3058b48",
   "metadata": {},
   "outputs": [],
   "source": [
    "dx = np.array(((res.corners[2] - res.corners[1]) + (res.corners[3] - res.corners[0]))/12).T\n",
    "dy = np.array(((res.corners[2] - res.corners[3]) + (res.corners[1] - res.corners[0]))/12).T\n",
    "mat = np.vstack([dx, dy])"
   ]
  },
  {
   "cell_type": "code",
   "execution_count": 26,
   "id": "8b3b3c43",
   "metadata": {},
   "outputs": [],
   "source": [
    "mat1 = np.linalg.inv(mat)"
   ]
  },
  {
   "cell_type": "code",
   "execution_count": 30,
   "id": "cae3f887",
   "metadata": {},
   "outputs": [],
   "source": [
    "marker_points = []\n",
    "det = np.linalg.det(mat1)\n",
    "for point in px:\n",
    "    kp = point.copy()\n",
    "#     kp[0] -= int(res.center[0])\n",
    "#     kp[1] -= int(res.center[1])\n",
    "    p = [kp[0]*mat1[0, 0]+kp[1]*mat1[1, 0], kp[0]*mat1[0,1]+kp[1]*mat1[1,1]]\n",
    "#     p = np.array([kp[0]*dy[1] - kp[1]*dy[0], -kp[0]*dx[1]+kp[1]*dx[0]])\n",
    "#     p /= det\n",
    "    \n",
    "    marker_points.append(p)\n",
    "marker_points = np.array(marker_points)"
   ]
  },
  {
   "cell_type": "code",
   "execution_count": 31,
   "id": "85cf7693",
   "metadata": {},
   "outputs": [
    {
     "data": {
      "text/plain": [
       "array([[13.44653466,  4.59778251],\n",
       "       [19.03773267,  4.58238536],\n",
       "       [10.08402894,  6.57249161],\n",
       "       [22.50799163,  6.4688622 ],\n",
       "       [12.52125165,  7.22265078],\n",
       "       [19.75080859,  7.24289992],\n",
       "       [10.55765314,  8.21365129],\n",
       "       [23.94309938,  8.21121136],\n",
       "       [ 8.64071945,  8.4656153 ],\n",
       "       [24.70057759,  9.96231082],\n",
       "       [ 7.87805623, 10.57716017],\n",
       "       [ 9.17835456, 10.67397449],\n",
       "       [ 7.61607339, 12.11421361],\n",
       "       [ 8.85839424, 12.09817138],\n",
       "       [25.17872686, 11.94422772],\n",
       "       [ 7.52651465, 13.87625095],\n",
       "       [ 8.82681298, 13.97306527],\n",
       "       [23.84760145, 13.77910016],\n",
       "       [25.14639143, 13.76232874],\n",
       "       [ 7.32175511, 15.46936807],\n",
       "       [ 9.015829  , 15.4474923 ],\n",
       "       [23.64359609, 15.42901015],\n",
       "       [25.22473172, 15.40859276],\n",
       "       [ 9.77556974, 17.36897037],\n",
       "       [ 7.29168222, 17.4578477 ],\n",
       "       [22.76422372, 17.25804905],\n",
       "       [25.53196524, 17.2791115 ],\n",
       "       [ 7.31430756, 19.16163379],\n",
       "       [11.43881655, 19.27878137],\n",
       "       [21.15226101, 19.21015319],\n",
       "       [25.61483061, 19.26613275],\n",
       "       [20.81947966, 19.6688713 ],\n",
       "       [12.06751876, 19.83868895],\n",
       "       [10.55718164, 20.93744166],\n",
       "       [ 7.45288787, 21.09113297],\n",
       "       [22.87197696, 21.11923499],\n",
       "       [25.6389643 , 21.08350458],\n",
       "       [ 7.58845147, 22.79346068],\n",
       "       [ 9.05664884, 22.77450168],\n",
       "       [23.96525322, 22.63878782],\n",
       "       [25.54638885, 22.61837044]])"
      ]
     },
     "execution_count": 31,
     "metadata": {},
     "output_type": "execute_result"
    }
   ],
   "source": [
    "marker_points"
   ]
  },
  {
   "cell_type": "code",
   "execution_count": 29,
   "id": "4de87702",
   "metadata": {
    "scrolled": true
   },
   "outputs": [
    {
     "data": {
      "text/plain": [
       "<matplotlib.collections.PathCollection at 0x7fac4dd0d700>"
      ]
     },
     "execution_count": 29,
     "metadata": {},
     "output_type": "execute_result"
    },
    {
     "data": {
      "image/png": "[encoded data removed]",
      "text/plain": [
       "<Figure size 432x288 with 1 Axes>"
      ]
     },
     "metadata": {
      "needs_background": "light"
     },
     "output_type": "display_data"
    }
   ],
   "source": [
    "plt.scatter(marker_points[:, 0], -marker_points[:, 1], c=range(len(marker_points)))"
   ]
  },
  {
   "cell_type": "code",
   "execution_count": 35,
   "id": "e57a1459",
   "metadata": {},
   "outputs": [
    {
     "name": "stdout",
     "output_type": "stream",
     "text": [
      "[-4.15831482  3.98760244]\n"
     ]
    },
    {
     "data": {
      "text/plain": [
       "233"
      ]
     },
     "execution_count": 35,
     "metadata": {},
     "output_type": "execute_result"
    }
   ],
   "source": [
    "draw_points_on_aruco(img, [res], marker_points, True)\n",
    "cv2.waitKey(0)"
   ]
  },
  {
   "cell_type": "code",
   "execution_count": null,
   "id": "5adaf9af",
   "metadata": {},
   "outputs": [],
   "source": [
    "import annotation_utils\n",
    "def draw_bbox_by_points(img, \n",
    "                        res, \n",
    "                        points=annotation_utils.get_points_from_CAD(),\n",
    "                        show=False):\n",
    "    new_points = annotation_utils.get_keypoints_on_image(img, points, camera_params)\n",
    "    top = new_points[:, 0].min()\n",
    "    bottom = new_points[:, 0].max()\n",
    "    left = new_points[:, 1].min()\n",
    "    right = new_points[:, 1].max()\n",
    "    bbox_corners = np.array([\n",
    "        [top, left],\n",
    "        [top, right],\n",
    "        [bottom, right],\n",
    "        [bottom, left],\n",
    "    ])\n",
    "    if show:\n",
    "        imgc = img.copy()\n",
    "        cv2.line(imgc, bbox_corners[0], bbox_corners[1], (0,255,0), 1)\n",
    "        cv2.line(imgc, bbox_corners[1], bbox_corners[2], (0,255,0), 1)\n",
    "        cv2.line(imgc, bbox_corners[2], bbox_corners[3], (0,255,0), 1)\n",
    "        cv2.line(imgc, bbox_corners[3], bbox_corners[-1], (0,255,0), 1)\n",
    "        cv2.imshow('draw_bbox_by_points', imgc)\n",
    "        cv2.waitKey(0)\n",
    "    return bbox_corners"
   ]
  },
  {
   "cell_type": "code",
   "execution_count": null,
   "id": "95e9eff4",
   "metadata": {},
   "outputs": [],
   "source": [
    "img = cv2.imread('/home/viacheslav/jupyter_notebooks/data/far_photos/20.jpg')\n",
    "res = annotation_utils.detect_apriltag('/home/viacheslav/jupyter_notebooks/data/far_photos_with_marker/20.jpg', camera_params)\n",
    "draw_bbox_by_points(img, res, show=True)"
   ]
  },
  {
   "cell_type": "markdown",
   "id": "6f75e40e",
   "metadata": {},
   "source": [
    "### get robot poses"
   ]
  },
  {
   "cell_type": "code",
   "execution_count": 19,
   "id": "37760673",
   "metadata": {},
   "outputs": [
    {
     "name": "stdout",
     "output_type": "stream",
     "text": [
      "[-4.998593632374899, -1.644775692616598, 1.8084745407104492, 6.020843982696533, -0.2982600370990198, 0.12933599948883057]\n",
      "[0.10536873297868135, -0.5533021313854405, 0.5293912901803394, 1.242622745104883, 1.2236036661373513, 1.2353460642122878]\n"
     ]
    }
   ],
   "source": [
    "inserted_j = ur10.getj()\n",
    "inserted_l = ur10.getl()\n",
    "print(inserted_j)\n",
    "print(inserted_l)"
   ]
  },
  {
   "cell_type": "code",
   "execution_count": 17,
   "id": "fefe510b",
   "metadata": {},
   "outputs": [
    {
     "data": {
      "text/plain": [
       "<Transform:\n",
       "<Orientation: \n",
       "array([[-0.01692471,  0.02372329,  0.99957529],\n",
       "       [ 0.99930341, -0.03285447,  0.01769985],\n",
       "       [ 0.03326042,  0.99917856, -0.02315071]])>\n",
       "<Vector: (0.60532, -0.55332, 0.52937)>\n",
       ">"
      ]
     },
     "execution_count": 17,
     "metadata": {},
     "output_type": "execute_result"
    }
   ],
   "source": [
    "ur10.movel(zero_pose_l)"
   ]
  },
  {
   "cell_type": "code",
   "execution_count": 23,
   "id": "6686b227",
   "metadata": {},
   "outputs": [
    {
     "name": "stdout",
     "output_type": "stream",
     "text": [
      "[0.6053518982089526, -0.553289395354214, 0.5294081583380398, 1.2425986747757027, 1.2235478703363973, 1.2352977113830281]\n",
      "[-4.190050188695089, -1.1814973990069788, 1.6938786506652832, -3.591449562703268, -0.5103328863727015, 3.1160995960235596]\n"
     ]
    }
   ],
   "source": [
    "zero_pose_l = ur10.getl()\n",
    "zero_pose_j = ur10.getj()\n",
    "print(zero_pose_l)\n",
    "print(zero_pose_j)"
   ]
  },
  {
   "cell_type": "code",
   "execution_count": 22,
   "id": "cbda9458",
   "metadata": {},
   "outputs": [
    {
     "data": {
      "text/plain": [
       "<Transform:\n",
       "<Orientation: \n",
       "array([[-0.01706775,  0.02374694,  0.9995723 ],\n",
       "       [ 0.99929951, -0.03289479,  0.01784458],\n",
       "       [ 0.03330447,  0.99917667, -0.02316886]])>\n",
       "<Vector: (0.60534, -0.55326, 0.52940)>\n",
       ">"
      ]
     },
     "execution_count": 22,
     "metadata": {},
     "output_type": "execute_result"
    }
   ],
   "source": [
    "zero_pose_l = [0.6053738400708184,\n",
    " -0.5532917677103614,\n",
    " 0.5293931050569378,\n",
    " 1.242668373605403,\n",
    " 1.2235408761040583,\n",
    " 1.2353307425198223] # 15 cm from socket\n",
    "ur10.movel(zero_pose_l)"
   ]
  },
  {
   "cell_type": "code",
   "execution_count": 24,
   "id": "53f7d1cd",
   "metadata": {},
   "outputs": [
    {
     "data": {
      "text/plain": [
       "<Transform:\n",
       "<Orientation: \n",
       "array([[-0.01703289,  0.02371058,  0.99957375],\n",
       "       [ 0.99930309, -0.03280647,  0.01780647],\n",
       "       [ 0.03321468,  0.99918044, -0.02313527]])>\n",
       "<Vector: (0.10543, -0.55330, 0.52943)>\n",
       ">"
      ]
     },
     "execution_count": 24,
     "metadata": {},
     "output_type": "execute_result"
    }
   ],
   "source": [
    "ur10.movel([zero_pose_l[0]-0.5, *zero_pose_l[1:]], vel=1)\n",
    "# ur10.movej([zero_pose_l[0]-0.5, *zero_pose_l[1:]], vel=1)"
   ]
  },
  {
   "cell_type": "code",
   "execution_count": 25,
   "id": "2078b8ef",
   "metadata": {},
   "outputs": [
    {
     "name": "stdout",
     "output_type": "stream",
     "text": [
      "[0.10533391941557418, -0.5533141430155365, 0.5294019637203735, 1.2425500025074443, 1.2235740688727648, 1.2352615419888655]\n",
      "[0.10533391941557418, -0.5533141430155365, 0.5294019637203735, 1.2425500025074443, 1.2235740688727648, 1.2352615419888655]\n"
     ]
    }
   ],
   "source": [
    "far_pose_l = ur10.getl()\n",
    "far_pose_j = ur10.getj()\n",
    "print(far_pose_l)\n",
    "print(far_pose_l)"
   ]
  },
  {
   "cell_type": "code",
   "execution_count": 49,
   "id": "620003b3",
   "metadata": {},
   "outputs": [],
   "source": [
    "x_far = [0, .25]\n",
    "y_far = [-.25, .25]\n",
    "z_far = [-.2, .2]"
   ]
  },
  {
   "cell_type": "code",
   "execution_count": 33,
   "id": "8c030bb2",
   "metadata": {},
   "outputs": [],
   "source": [
    "x_close = [-.1, -.25]\n",
    "y_close = [-.10, .10]\n",
    "z_close = [-.15, .05]"
   ]
  },
  {
   "cell_type": "code",
   "execution_count": 56,
   "id": "f9305127",
   "metadata": {},
   "outputs": [
    {
     "data": {
      "text/plain": [
       "<Transform:\n",
       "<Orientation: \n",
       "array([[-0.01701676,  0.02369183,  0.99957447],\n",
       "       [ 0.99931074, -0.03258451,  0.01778459],\n",
       "       [ 0.032992  ,  0.99918814, -0.02312102]])>\n",
       "<Vector: (0.10529, -0.80325, 0.72944)>\n",
       ">"
      ]
     },
     "execution_count": 56,
     "metadata": {},
     "output_type": "execute_result"
    }
   ],
   "source": [
    "ur10.movel([far_pose_l[0], far_pose_l[1]+y_far[0], far_pose_l[2]+z_far[1], \n",
    "            *far_pose_l[3:]], vel=1)"
   ]
  },
  {
   "cell_type": "code",
   "execution_count": 38,
   "id": "d12debc5",
   "metadata": {},
   "outputs": [
    {
     "data": {
      "text/plain": [
       "<Transform:\n",
       "<Orientation: \n",
       "array([[-0.01703297,  0.02372357,  0.99957344],\n",
       "       [ 0.9993023 , -0.03282982,  0.01780752],\n",
       "       [ 0.03323827,  0.99917936, -0.02314783]])>\n",
       "<Vector: (0.60529, -0.55332, 0.52938)>\n",
       ">"
      ]
     },
     "execution_count": 38,
     "metadata": {},
     "output_type": "execute_result"
    }
   ],
   "source": [
    "ur10.movel(zero_pose_l)"
   ]
  },
  {
   "cell_type": "code",
   "execution_count": 51,
   "id": "992afc6e",
   "metadata": {},
   "outputs": [
    {
     "data": {
      "text/plain": [
       "<Transform:\n",
       "<Orientation: \n",
       "array([[-0.01698808,  0.02366321,  0.99957564],\n",
       "       [ 0.99930719, -0.0327077 ,  0.01775781],\n",
       "       [ 0.03311403,  0.9991848 , -0.02309118]])>\n",
       "<Vector: (0.50529, -0.65325, 0.57944)>\n",
       ">"
      ]
     },
     "execution_count": 51,
     "metadata": {},
     "output_type": "execute_result"
    }
   ],
   "source": [
    "ur10.movel([zero_pose_l[0]+x_close[0], zero_pose_l[1]+y_close[0], zero_pose_l[2]+z_close[1], \n",
    "            *zero_pose_l[3:]], vel=1)"
   ]
  },
  {
   "cell_type": "code",
   "execution_count": null,
   "id": "a06b274b",
   "metadata": {},
   "outputs": [],
   "source": []
  },
  {
   "cell_type": "code",
   "execution_count": 27,
   "id": "17048003",
   "metadata": {},
   "outputs": [
    {
     "data": {
      "text/plain": [
       "array([1.2186814 , 1.20296068, 1.19435217])"
      ]
     },
     "execution_count": 27,
     "metadata": {},
     "output_type": "execute_result"
    }
   ],
   "source": [
    "R.from_rotvec([ 1.2186813991654113,\n",
    " 1.2029606765250755,\n",
    " 1.1943521654058413]).as_rotvec()"
   ]
  },
  {
   "cell_type": "code",
   "execution_count": 28,
   "id": "c680bc57",
   "metadata": {},
   "outputs": [],
   "source": [
    "from scipy.spatial.transform import Rotation as R\n",
    "\n",
    "# angles along X and Y\n",
    "orients = np.array([\n",
    "#         [-5, -5],\n",
    "    [-5, 0],\n",
    "#     [-5, 5],\n",
    "#     [0,  -5],\n",
    "    [0,  0],\n",
    "#     [0,  5],\n",
    "#     [5,  -5],\n",
    "    [5,  0],\n",
    "#     [5, 5]\n",
    "], dtype=float)\n",
    "\n",
    "# orients *= np.pi/180\n",
    "rotations = [R.from_euler('xy', x, degrees=True) for x in orients]"
   ]
  },
  {
   "cell_type": "code",
   "execution_count": 29,
   "id": "76733b7d",
   "metadata": {},
   "outputs": [
    {
     "data": {
      "text/plain": [
       "array([[ 1.        , -0.        ,  0.        ],\n",
       "       [ 0.        ,  0.9961947 ,  0.08715574],\n",
       "       [-0.        , -0.08715574,  0.9961947 ]])"
      ]
     },
     "execution_count": 29,
     "metadata": {},
     "output_type": "execute_result"
    }
   ],
   "source": [
    "r0 = rotations[0]\n",
    "r0.as_matrix()"
   ]
  },
  {
   "cell_type": "code",
   "execution_count": 30,
   "id": "ac7b3db1",
   "metadata": {},
   "outputs": [
    {
     "data": {
      "text/plain": [
       "array([1.21886184, 1.30249854, 1.0851754 ])"
      ]
     },
     "execution_count": 30,
     "metadata": {},
     "output_type": "execute_result"
    }
   ],
   "source": [
    "r0.apply(lrc[3:])"
   ]
  },
  {
   "cell_type": "code",
   "execution_count": 224,
   "id": "9e56566d",
   "metadata": {},
   "outputs": [],
   "source": [
    "  img_coords = {}"
   ]
  },
  {
   "cell_type": "code",
   "execution_count": 225,
   "id": "ddc254fb",
   "metadata": {},
   "outputs": [
    {
     "data": {
      "text/plain": [
       "{}"
      ]
     },
     "execution_count": 225,
     "metadata": {},
     "output_type": "execute_result"
    }
   ],
   "source": [
    "img_coords"
   ]
  },
  {
   "cell_type": "code",
   "execution_count": 237,
   "id": "981cac79",
   "metadata": {},
   "outputs": [
    {
     "data": {
      "text/plain": [
       "<Transform:\n",
       "<Orientation: \n",
       "array([[ 0.01497981,  0.00522241,  0.99987416],\n",
       "       [ 0.99988605,  0.00179294, -0.01498936],\n",
       "       [-0.00187099,  0.99998476, -0.00519496]])>\n",
       "<Vector: (0.54892, -0.54403, 0.40710)>\n",
       ">"
      ]
     },
     "execution_count": 237,
     "metadata": {},
     "output_type": "execute_result"
    }
   ],
   "source": [
    "ur10.movel(zero_pose)"
   ]
  },
  {
   "cell_type": "code",
   "execution_count": 219,
   "id": "409074a6",
   "metadata": {},
   "outputs": [
    {
     "data": {
      "text/plain": [
       "[0.5489486179287019,\n",
       " -0.4439867205295215,\n",
       " 0.30719103192310093,\n",
       " 1.218738328932778,\n",
       " 1.2028588706030305,\n",
       " 1.1943576930489765]"
      ]
     },
     "execution_count": 219,
     "metadata": {},
     "output_type": "execute_result"
    }
   ],
   "source": [
    "llc"
   ]
  },
  {
   "cell_type": "markdown",
   "id": "df73b692",
   "metadata": {},
   "source": [
    "## Record points with aruco on socket"
   ]
  },
  {
   "cell_type": "code",
   "execution_count": 50,
   "id": "95e0ac13",
   "metadata": {},
   "outputs": [
    {
     "data": {
      "text/plain": [
       "<Transform:\n",
       "<Orientation: \n",
       "array([[-0.0170399 ,  0.02367616,  0.99957445],\n",
       "       [ 0.99930489, -0.03274923,  0.01781101],\n",
       "       [ 0.03315699,  0.99918313, -0.02310166]])>\n",
       "<Vector: (0.10531, -0.80327, 0.72941)>\n",
       ">"
      ]
     },
     "execution_count": 50,
     "metadata": {},
     "output_type": "execute_result"
    }
   ],
   "source": [
    "ur10.movel([far_pose_l[0]+x_far[0], far_pose_l[1]+y_far[0], far_pose_l[2]+z_far[1], \n",
    "            *far_pose_l[3:]])\n",
    "#            , vel=1)\n",
    "# ur10.movel(far_pose_l)"
   ]
  },
  {
   "cell_type": "code",
   "execution_count": 34,
   "id": "617e7181",
   "metadata": {},
   "outputs": [
    {
     "name": "stdout",
     "output_type": "stream",
     "text": [
      "rm: cannot remove 'data/points/*': No such file or directory\n",
      "rm: cannot remove 'data/no_points/*': No such file or directory\n"
     ]
    }
   ],
   "source": [
    "img_coords = [0]*2000\n",
    "!rm data/points/*\n",
    "!rm data/no_points/*"
   ]
  },
  {
   "cell_type": "code",
   "execution_count": 62,
   "id": "f4da276f",
   "metadata": {},
   "outputs": [
    {
     "data": {
      "text/plain": [
       "<Transform:\n",
       "<Orientation: \n",
       "array([[ 0.01476259,  0.00531222,  0.99987692],\n",
       "       [ 0.99988992,  0.00140731, -0.01477026],\n",
       "       [-0.0014856 ,  0.9999849 , -0.00529086]])>\n",
       "<Vector: (0.44891, -0.64389, 0.30712)>\n",
       ">"
      ]
     },
     "execution_count": 62,
     "metadata": {},
     "output_type": "execute_result"
    }
   ],
   "source": [
    "ur10.movel(lrf, vel=1., acc=1.)"
   ]
  },
  {
   "cell_type": "code",
   "execution_count": 73,
   "id": "4649337a",
   "metadata": {},
   "outputs": [],
   "source": [
    "img_coords = [0]*600\n",
    "# delta = .05\n",
    "img_name = -1\n",
    "js = []\n",
    "# ur10.movel([far_pose_l[0]+x_far[0], far_pose_l[1]+y_far[0], far_pose_l[2]+z_far[0], \n",
    "#             *far_pose_l[3:]], vel=1)\n",
    "pose = zero_pose_l.copy()\n",
    "# i, j, k = 0,0,0\n",
    "# these ranges for far\n",
    "# xrange = [0, .05, .1, .15, .2, .25]\n",
    "# yrange = [-.25, -.2, -.15, -.1, -.05, 0, .05, .1, .15, .2, .25]\n",
    "# zrange = [-.2, -.15, -.1, -.05, 0, .05, .1, .15, .2] \n",
    "\n",
    "#these for close\n",
    "xrange = [-.1, -.125, -.15, -.175, -.2, -.225, -.25]\n",
    "yrange = [-.1, -.075, -.05, -.025, 0, .025, .05, .1, ]\n",
    "zrange = [-.15, -.1, -.05, 0, .05,] \n",
    "\n",
    "from itertools import product\n",
    "poss = list(product(*[xrange, yrange, zrange]))\n",
    "\n",
    "for pos in poss:\n",
    "#     print(pose, pos)\n",
    "    ur10.movel([pose[0]+pos[0], pose[1]+pos[1], pose[2]+pos[2], *pose[3:]])\n",
    "#             pose = [pose[0]+delta*i, pose[1]+delta*j, pose[2]+delta*k, *pose[3:]]\n",
    "    img_name +=1\n",
    "    img = get_photo_from_realsense()\n",
    "    cv2.imshow('robot sees', img)\n",
    "    cv2.waitKey(1)\n",
    "    cv2.imwrite(\n",
    "            f'/home/viacheslav/jupyter_notebooks/data/far_photos/{img_name}.jpg',\n",
    "            img)\n",
    "    js.append(ur10.getj())\n",
    "            \n",
    "json.dump(js, open(f'/home/viacheslav/jupyter_notebooks/data/far_photos_joints.json', 'w'))"
   ]
  },
  {
   "cell_type": "code",
   "execution_count": 95,
   "id": "95c8cea3",
   "metadata": {},
   "outputs": [
    {
     "data": {
      "text/plain": [
       "<Transform:\n",
       "<Orientation: \n",
       "array([[-0.01719527,  0.02371831,  0.99957079],\n",
       "       [ 0.99930165, -0.0327621 ,  0.01796803],\n",
       "       [ 0.03317421,  0.99918171, -0.02313839]])>\n",
       "<Vector: (0.10537, -0.55328, 0.52940)>\n",
       ">"
      ]
     },
     "execution_count": 95,
     "metadata": {},
     "output_type": "execute_result"
    }
   ],
   "source": [
    "ur10.movel(far_pose_l, vel=1)"
   ]
  },
  {
   "cell_type": "code",
   "execution_count": null,
   "id": "6b4d004e",
   "metadata": {},
   "outputs": [
    {
     "name": "stderr",
     "output_type": "stream",
     "text": [
      " 82%|████████▏ | 486/594 [34:26<05:49,  3.24s/it]  "
     ]
    }
   ],
   "source": [
    "img_name = -1\n",
    "for posej in tqdm(js):\n",
    "    ur10.movej(posej)\n",
    "    img_name +=1\n",
    "    img = get_photo_from_realsense()\n",
    "    cv2.imshow('robot sees', img)\n",
    "    cv2.waitKey(1)\n",
    "    cv2.imwrite(\n",
    "            f'/home/viacheslav/jupyter_notebooks/data/far_photos_with_marker/{img_name}.jpg',\n",
    "            img)"
   ]
  },
  {
   "cell_type": "code",
   "execution_count": 72,
   "id": "4b6bd72f",
   "metadata": {},
   "outputs": [
    {
     "name": "stderr",
     "output_type": "stream",
     "text": [
      "100%|██████████████████████████████████████████| 11/11 [40:29<00:00, 220.82s/it]\n",
      "100%|██████████████████████████████████████████| 11/11 [40:43<00:00, 222.11s/it]\n",
      "100%|██████████████████████████████████████████| 11/11 [40:43<00:00, 222.11s/it]\n",
      "100%|██████████████████████████████████████████| 11/11 [40:43<00:00, 222.10s/it]\n",
      "100%|██████████████████████████████████████████| 11/11 [40:43<00:00, 222.11s/it]\n",
      "100%|██████████████████████████████████████████| 11/11 [40:43<00:00, 222.12s/it]\n"
     ]
    }
   ],
   "source": [
    "img_coords = [0]*600\n",
    "delta = .05\n",
    "img_name = -1\n",
    "js = []\n",
    "ur10.movel([far_pose_l[0]+x_far[0], far_pose_l[1]+y_far[0], far_pose_l[2]+z_far[0], \n",
    "            *far_pose_l[3:]], vel=1)\n",
    "for i in range(6):\n",
    "    for j in tqdm(range(11)):\n",
    "        for k in range(7):\n",
    "            for l in range(len(rotations)):\n",
    "                pose = [lrf[0]+delta*i, lrf[1]+delta*j, lrf[2]+delta*k, *lrf[3:]]\n",
    "                d_angle = orients[l]\n",
    "                \n",
    "                init_rotvec = lrc[3:]\n",
    "                matrix = R.from_rotvec(init_rotvec).as_matrix()\n",
    "                pose[3:] = R.from_matrix(rotations[l].apply(matrix)).as_rotvec()\n",
    "                \n",
    "                ur10.movel(pose, vel=1)\n",
    "            \n",
    "                img = get_photo_from_realsense()\n",
    "                \n",
    "                cv2.imwrite(\n",
    "                    f'/home/viacheslav/jupyter_notebooks/data/joint_coords_for_photos_2/{img_name}.jpg',\n",
    "                    img)\n",
    "\n",
    "#                 res = detect_apriltag(img)\n",
    "\n",
    "#                 if res: \n",
    "#                     img_w, desired_corners = warp_img(img, res)\n",
    "\n",
    "#                     res_warp = detect_apriltag(img_w)\n",
    "#                     if res_warp:\n",
    "#                         img_name += 1\n",
    "#                         center, points_w = draw_points_on_aruco(img_w, res_warp, seventeen_points, False)\n",
    "\n",
    "#                         inv_project = get_projection(res[0].corners, desired_corners)\n",
    "#                         img_ok = warp(img_w, inv_project)\n",
    "#                         points = np.array([inv_project.params @ np.array([p[0], p[1], 1]) for p in points_w])\n",
    "            \n",
    "#                         center, points = draw_points_on_aruco(img, res, seventeen_points, True)\n",
    "\n",
    "#                         img_coords[img_name] = points\n",
    "#                         js.append(ur10.getj())\n",
    "                \n",
    "                        \n",
    "\n",
    "# json.dump(img_coords, open(f'/home/viacheslav/jupyter_notebooks/data/seventeen_2.json', 'w'))\n",
    "# json.dump(js, open(f'/home/viacheslav/jupyter_notebooks/data/joint_coords_for_photos_2.json', 'w'))"
   ]
  },
  {
   "cell_type": "code",
   "execution_count": null,
   "id": "1c0601fa",
   "metadata": {},
   "outputs": [],
   "source": [
    "img_name = -1\n",
    "for posej in tqdm(js):\n",
    "    ur10.movej(posej)\n",
    "    img_name +=1\n",
    "    img = get_photo_from_realsense()\n",
    "    cv2.imshow('robot sees', img)\n",
    "    cv2.waitKey(1)\n",
    "    cv2.imwrite(\n",
    "            f'/home/viacheslav/jupyter_notebooks/data/far_photos_with_marker/{img_name}.jpg',\n",
    "            img)"
   ]
  },
  {
   "cell_type": "code",
   "execution_count": null,
   "id": "a10d7931",
   "metadata": {},
   "outputs": [],
   "source": [
    "json.dump(img_coords, open(f'/home/viacheslav/jupyter_notebooks/data/seventeen_2.json', 'w'))\n",
    "json.dump(js, open(f'/home/viacheslav/jupyter_notebooks/data/joint_coords_for_photos_2.json', 'w'))"
   ]
  },
  {
   "cell_type": "code",
   "execution_count": 60,
   "id": "bf197de7",
   "metadata": {},
   "outputs": [
    {
     "ename": "TypeError",
     "evalue": "'NoneType' object is not subscriptable",
     "output_type": "error",
     "traceback": [
      "\u001b[0;31m---------------------------------------------------------------------------\u001b[0m",
      "\u001b[0;31mTypeError\u001b[0m                                 Traceback (most recent call last)",
      "Input \u001b[0;32mIn [60]\u001b[0m, in \u001b[0;36m<cell line: 3>\u001b[0;34m()\u001b[0m\n\u001b[1;32m      5\u001b[0m     img \u001b[38;5;241m=\u001b[39m get_photo_from_realsense()\n\u001b[1;32m      6\u001b[0m     res \u001b[38;5;241m=\u001b[39m detect_apriltag(img)\n\u001b[0;32m----> 8\u001b[0m     center, points \u001b[38;5;241m=\u001b[39m \u001b[43mdraw_points_on_aruco\u001b[49m\u001b[43m(\u001b[49m\u001b[43mimg\u001b[49m\u001b[43m,\u001b[49m\u001b[43m \u001b[49m\u001b[43mres\u001b[49m\u001b[43m,\u001b[49m\u001b[43m \u001b[49m\u001b[43mseventeen_points\u001b[49m\u001b[43m,\u001b[49m\u001b[43m \u001b[49m\u001b[38;5;28;43;01mTrue\u001b[39;49;00m\u001b[43m)\u001b[49m\n\u001b[1;32m     10\u001b[0m     img_coords[i] \u001b[38;5;241m=\u001b[39m points\n\u001b[1;32m     13\u001b[0m \u001b[38;5;28;01mwith\u001b[39;00m \u001b[38;5;28mopen\u001b[39m(\u001b[38;5;124m'\u001b[39m\u001b[38;5;124mimg_coords.pickle\u001b[39m\u001b[38;5;124m'\u001b[39m, \u001b[38;5;124m'\u001b[39m\u001b[38;5;124mwb\u001b[39m\u001b[38;5;124m'\u001b[39m) \u001b[38;5;28;01mas\u001b[39;00m handle:\n",
      "Input \u001b[0;32mIn [45]\u001b[0m, in \u001b[0;36mdraw_points_on_aruco\u001b[0;34m(img, res, changes, show)\u001b[0m\n\u001b[1;32m      1\u001b[0m \u001b[38;5;28;01mdef\u001b[39;00m \u001b[38;5;21mdraw_points_on_aruco\u001b[39m(img, res, changes\u001b[38;5;241m=\u001b[39m\u001b[38;5;28;01mNone\u001b[39;00m, show\u001b[38;5;241m=\u001b[39m\u001b[38;5;28;01mFalse\u001b[39;00m):\n\u001b[0;32m----> 2\u001b[0m     dx \u001b[38;5;241m=\u001b[39m (\u001b[43mres\u001b[49m\u001b[43m[\u001b[49m\u001b[38;5;241;43m0\u001b[39;49m\u001b[43m]\u001b[49m\u001b[38;5;241m.\u001b[39mcorners[\u001b[38;5;241m2\u001b[39m] \u001b[38;5;241m-\u001b[39m res[\u001b[38;5;241m0\u001b[39m]\u001b[38;5;241m.\u001b[39mcorners[\u001b[38;5;241m1\u001b[39m])\u001b[38;5;241m/\u001b[39m\u001b[38;5;241m6\u001b[39m\n\u001b[1;32m      3\u001b[0m     dy \u001b[38;5;241m=\u001b[39m \u001b[38;5;241m-\u001b[39mdx[\u001b[38;5;241m1\u001b[39m], dx[\u001b[38;5;241m0\u001b[39m]\n\u001b[1;32m      4\u001b[0m     \u001b[38;5;28;01mif\u001b[39;00m changes \u001b[38;5;129;01mis\u001b[39;00m \u001b[38;5;28;01mNone\u001b[39;00m:\n",
      "\u001b[0;31mTypeError\u001b[0m: 'NoneType' object is not subscriptable"
     ]
    }
   ],
   "source": [
    "img_coords = [0]*2000\n",
    "\n",
    "for i, posej in enumerate(js):\n",
    "    ur10.movej(posej, vel=1, acc=1)\n",
    "    img = get_photo_from_realsense()\n",
    "    res = detect_apriltag(img)\n",
    "            \n",
    "    center, points = draw_points_on_aruco(img, res, seventeen_points, True)\n",
    "\n",
    "    img_coords[i] = points\n",
    "    \n",
    "    \n",
    "with open('img_coords.pickle', 'wb') as handle:\n",
    "    pkl.dump(img_coords, handle, protocol=pkl.HIGHEST_PROTOCOL)"
   ]
  },
  {
   "cell_type": "code",
   "execution_count": 69,
   "id": "887baf84",
   "metadata": {},
   "outputs": [
    {
     "name": "stderr",
     "output_type": "stream",
     "text": [
      "Robot not running: {'size': 47, 'type': 0, 'timestamp': 39658016000, 'isPhysicalRobotConnected': True, 'isRealRobotEnabled': True, 'isPowerOnRobot': True, 'isEmergencyStopped': False, 'isSecurityStopped': False, 'isProgramRunning': False, 'isProgramPaused': False, 'robotMode': 4, 'controlMode': 0, 'speedFraction': 1.0, 'speedScaling': 0.0, 'speedFractionLimit': 63}\n",
      "Robot not running: {'size': 47, 'type': 0, 'timestamp': 39658016000, 'isPhysicalRobotConnected': True, 'isRealRobotEnabled': True, 'isPowerOnRobot': True, 'isEmergencyStopped': False, 'isSecurityStopped': False, 'isProgramRunning': False, 'isProgramPaused': False, 'robotMode': 4, 'controlMode': 0, 'speedFraction': 1.0, 'speedScaling': 0.0, 'speedFractionLimit': 63}\n",
      "Robot not running: {'size': 47, 'type': 0, 'timestamp': 39658016000, 'isPhysicalRobotConnected': True, 'isRealRobotEnabled': True, 'isPowerOnRobot': True, 'isEmergencyStopped': False, 'isSecurityStopped': False, 'isProgramRunning': False, 'isProgramPaused': False, 'robotMode': 4, 'controlMode': 0, 'speedFraction': 1.0, 'speedScaling': 0.0, 'speedFractionLimit': 63}\n"
     ]
    }
   ],
   "source": [
    "\n",
    "with open('img_coords.pickle', 'wb') as handle:\n",
    "    pkl.dump(img_coords, handle, protocol=pkl.HIGHEST_PROTOCOL)\n",
    "    \n",
    "# with open('js.pickle', 'wb') as handle:\n",
    "#     pkl.dump(js, handle, protocol=pkl.HIGHEST_PROTOCOL)"
   ]
  },
  {
   "cell_type": "code",
   "execution_count": 1,
   "id": "b56066b4",
   "metadata": {},
   "outputs": [],
   "source": [
    "\n",
    "# approved by Viktor\n",
    "def draw_points_on_aruco(img, res, changes=None, show=False):\n",
    "    dx = (res[0].corners[2] - res[0].corners[1])/6\n",
    "    dy = (res[0].corners[2] - res[0].corners[3])/6\n",
    "    print (dx*dy)\n",
    "    \n",
    "    if changes is None:\n",
    "        changes = np.array([\n",
    "            [0, 0],\n",
    "            [3, 1],\n",
    "            [2, 2],\n",
    "            [-2, 2],\n",
    "            [-3, 1],\n",
    "            [-3, -1],\n",
    "            [-2, -3],\n",
    "            [2, -3],\n",
    "            [3, -1]\n",
    "        ])\n",
    "        \n",
    "    points = np.zeros((changes.shape[0], 2), dtype=float)\n",
    "    for i, ch in enumerate(changes):\n",
    "        points[i] = [ch[0]*dx[0]+ch[1]*dy[0], ch[0]*dx[1]+ch[1]*dy[1]]\n",
    "        \n",
    "    points[:, 0] += sum([x[0] for x in res[0].corners])/4\n",
    "    points[:, 1] += sum([x[1] for x in res[0].corners])/4\n",
    "    \n",
    "    if show:\n",
    "#         draw_corners(img, res[0])\n",
    "        for p in points:\n",
    "            kp = int(p[0]), int(p[1])\n",
    "            cv2.circle(img, kp, 2, (0, 0, 255), -1)\n",
    "        cv2.imshow('draw_points_on_aruco', img)\n",
    "        cv2.waitKey(1)\n",
    "    return points[0], points[1:]\n",
    "\n",
    "def warp_img(image, res):\n",
    "    corners = res[0].corners\n",
    "    \n",
    "    corners[:2] = np.array(sorted(corners[:2], key=lambda x: x[1]))\n",
    "    corners[2:] = np.array(sorted(corners[2:], key=lambda x: x[1]))\n",
    "\n",
    "    a = corners[:2][:, 0].mean()\n",
    "    c = corners[2:][:, 0].mean()\n",
    "    b = corners[::2][:, 1].mean()\n",
    "    d = corners[1::2][:, 1].mean()\n",
    "\n",
    "    desired_corners = np.array([[a, b], [a, d], [c, b], [c, d]], dtype=int)\n",
    "\n",
    "    tform = get_projection(desired_corners, corners)\n",
    "    image_warped = warp(image, tform)\n",
    "    return image_warped, desired_corners, tform\n",
    "\n",
    "def draw_corners(img, r, show=False):\n",
    "    if isinstance(r, np.ndarray):\n",
    "        imagePoints = [r]\n",
    "    else:\n",
    "        imagePoints = r.corners.reshape(1,4,2)\n",
    "    \n",
    "    for corner in range(np.size(imagePoints[0],axis=0)):\n",
    "        center = ((int(imagePoints[0][corner][0]),int(imagePoints[0][corner][1])))\n",
    "        cv2.circle(img, center, 3, (0,0,255), -1)\n",
    "    \n",
    "    if show:\n",
    "        cv2.imshow('img', color_image)\n",
    "    return imagePoints[0]"
   ]
  },
  {
   "cell_type": "code",
   "execution_count": null,
   "id": "463bbe68",
   "metadata": {},
   "outputs": [],
   "source": [
    "def draw_corners(img, r, show=False):\n",
    "    if isinstance(r, np.ndarray):\n",
    "        imagePoints = [r]\n",
    "    else:\n",
    "        imagePoints = r.corners.reshape(1,4,2)\n",
    "    \n",
    "    for corner in range(np.size(imagePoints[0],axis=0)):\n",
    "        center = ((int(imagePoints[0][corner][0]),int(imagePoints[0][corner][1])))\n",
    "        cv2.circle(img, center, 3, (0,0,255), -1)\n",
    "    \n",
    "    if show:\n",
    "        cv2.imshow('img', img)\n",
    "        cv2.waitKey(0)\n",
    "    return imagePoints[0]"
   ]
  },
  {
   "cell_type": "code",
   "execution_count": 62,
   "id": "cefa6d25",
   "metadata": {},
   "outputs": [],
   "source": [
    "cv2.destroyAllWindows()"
   ]
  },
  {
   "cell_type": "code",
   "execution_count": null,
   "id": "fbbb3eb3",
   "metadata": {},
   "outputs": [],
   "source": [
    "cv2.destroyAllWindows()\n",
    "# buf_sz = 10\n",
    "# buffer = np.zeros((buf_sz, 17, 3), dtype=float)\n",
    "# index = 0\n",
    "while True:\n",
    "    index += 1\n",
    "    index = index % buf_sz\n",
    "    img = get_photo_from_realsense()\n",
    "    res = detect_apriltag(img)\n",
    "    cv2.imshow('original', img)\n",
    "    cv2.waitKey(1)\n",
    "    if res: \n",
    "        img_w, desired_corners,tform = warp_img(img, res)\n",
    "#         desired corners are int!\n",
    "#         print(\"desired_corners\",desired_corners)\n",
    "        \n",
    "        res_warp = detect_apriltag(img_w)\n",
    "        if res_warp:\n",
    "            center, points_w = draw_points_on_aruco(img_w, res_warp, seventeen_points, True)\n",
    "#             corners_w = draw_corners(img_w, res_warp[0], False)\n",
    "            inv_project = get_projection(res[0].corners, desired_corners)\n",
    "#             print(inv_project)\n",
    "            str_project = get_projection(desired_corners, res[0].corners)\n",
    "            img_ok = warp(img_w, inv_project)\n",
    "            \n",
    "#             points = [np.linalg.inv(tform.params) @ np.array([p[0], p[1], 1]) for p in points_w]\n",
    "            points = [str_project.params @ np.array([p[0], p[1], 1]) for p in points_w]\n",
    "\n",
    "            for p in points:\n",
    "                p/= p[2]\n",
    "            points = np.array(points)\n",
    "            \n",
    "#             points = np.array([inv_project.params @ np.array([p[0], p[1], 1]) for p in points_w])\n",
    "#             buffer[index] = points\n",
    "#             corners = np.array([inv_project.params @ np.array([p[0], p[1], 1]) for p in corners_w])\n",
    "#             print('corners', corners)\n",
    "#             for p in np.mean(buffer, axis=0):\n",
    "#                 kp = int(p[0]), int(p[1])\n",
    "#                 cv2.circle(img_ok, kp, 2, (0,255, 255), -1)\n",
    "            for c in points:\n",
    "                kc = int(c[0]), int(c[1])\n",
    "                cv2.circle(img, kc, 3, (0,255, 255), -1)\n",
    "            cv2.imshow('final', img)\n",
    "#             cv2.waitKey(10)\n",
    "#             center, points = draw_points_on_aruco(img, res, seventeen_points, True)"
   ]
  },
  {
   "cell_type": "markdown",
   "id": "7301987d",
   "metadata": {},
   "source": [
    "## Save data"
   ]
  },
  {
   "cell_type": "code",
   "execution_count": 57,
   "id": "3b3a76a6",
   "metadata": {},
   "outputs": [],
   "source": [
    "json.dump(img_coords, open(f'/home/viacheslav/jupyter_notebooks/data/seventeen.json', 'w'))\n",
    "json.dump(js, open(f'/home/viacheslav/jupyter_notebooks/data/joint_coords_for_photos.json', 'w'))"
   ]
  },
  {
   "cell_type": "code",
   "execution_count": null,
   "id": "71b08fca",
   "metadata": {},
   "outputs": [],
   "source": []
  },
  {
   "cell_type": "markdown",
   "id": "fddb86d2",
   "metadata": {},
   "source": [
    "## Get photos"
   ]
  },
  {
   "cell_type": "code",
   "execution_count": 67,
   "id": "5f961889",
   "metadata": {},
   "outputs": [
    {
     "name": "stderr",
     "output_type": "stream",
     "text": [
      "483it [08:53,  1.10s/it]\n"
     ]
    }
   ],
   "source": [
    "coords_j = json.load(open('/home/viacheslav/jupyter_notebooks/data/joint_coords_for_photos.json'))\n",
    "print('data len', len(coords_j))\n",
    "for i, position in tqdm(enumerate(coords_j)):\n",
    "    ur10.movej(position, vel=1, acc=1)\n",
    "    img = get_photo_from_realsense()\n",
    "    cv2.imwrite(f'/home/viacheslav/jupyter_notebooks/data/joint_coords_for_photos_17/{i}.png', img)"
   ]
  },
  {
   "cell_type": "code",
   "execution_count": 235,
   "id": "563c899f",
   "metadata": {},
   "outputs": [],
   "source": [
    "json.dump( img_coords, open(f'/home/viacheslav/jupyter_notebooks/data/seventeen.json', 'w'))"
   ]
  },
  {
   "cell_type": "code",
   "execution_count": 58,
   "id": "e7e4e570",
   "metadata": {},
   "outputs": [
    {
     "data": {
      "text/plain": [
       "[-4.250751320515768,\n",
       " -0.8363898436175745,\n",
       " 1.6091465950012207,\n",
       " 2.211355209350586,\n",
       " -0.4832256476031702,\n",
       " 3.274637460708618]"
      ]
     },
     "execution_count": 58,
     "metadata": {},
     "output_type": "execute_result"
    }
   ],
   "source": [
    "ur10.movej([-4.250930611287252, -0.8361623922931116, 1.6090149879455566, 2.2111873626708984, -0.48303395906557256, 3.2748172283172607],)"
   ]
  },
  {
   "cell_type": "code",
   "execution_count": 294,
   "id": "858305b4",
   "metadata": {},
   "outputs": [],
   "source": [
    "\n",
    "llc_points = []\n",
    "lrc_points = []\n",
    "for _ in range(10):\n",
    "    ur10.movel(llc)\n",
    "    img = get_photo_from_realsense()\n",
    "    res = detect_apriltag(img)\n",
    "    center, points = draw_points_on_aruco(img, res, seventeen_points, True)\n",
    "    lrc_points.append(points)\n",
    "    ur10.movel(lrc)\n",
    "    img = get_photo_from_realsense()\n",
    "    res = detect_apriltag(img)\n",
    "    center, points = draw_points_on_aruco(img, res, seventeen_points, True)\n",
    "    llc_points.append(points)"
   ]
  },
  {
   "cell_type": "code",
   "execution_count": 70,
   "id": "4cdd455a",
   "metadata": {},
   "outputs": [
    {
     "data": {
      "text/plain": [
       "[[141.2156620025635, 31.427259445190458],\n",
       " [235.98294258117676, 30.749380111694364],\n",
       " [94.27264328002933, 93.3649314880371],\n",
       " [165.34810371398927, 92.85652198791504],\n",
       " [212.7317440032959, 92.517582321167],\n",
       " [283.80720443725585, 92.00917282104494],\n",
       " [47.09236679077151, 122.13405532836914],\n",
       " [141.8596473693848, 121.45617599487306],\n",
       " [236.62692794799804, 120.77829666137698],\n",
       " [331.3942085266113, 120.1004173278809],\n",
       " [94.8149467468262, 169.17875595092772],\n",
       " [151.67531509399416, 168.77202835083008],\n",
       " [222.7507755279541, 168.26361885070804],\n",
       " [284.3495079040527, 167.82299728393556],\n",
       " [185.08112106323244, 201.70331878662105],\n",
       " [114.31070632934569, 244.85700454711912],\n",
       " [265.9383552551269, 243.77239761352536]]"
      ]
     },
     "execution_count": 70,
     "metadata": {},
     "output_type": "execute_result"
    }
   ],
   "source": [
    "points"
   ]
  },
  {
   "cell_type": "code",
   "execution_count": 197,
   "id": "8930f688",
   "metadata": {},
   "outputs": [],
   "source": [
    "cv2.destroyAllWindows()"
   ]
  },
  {
   "cell_type": "code",
   "execution_count": null,
   "id": "ffe5a230",
   "metadata": {},
   "outputs": [],
   "source": [
    "\n",
    "points = json.load(open('/home/viacheslav/jupyter_notebooks/data/seventeen.json'))\n",
    "# cv2.imshow('img', img)\n",
    "# cv2.waitKey(0)\n",
    "for i in range(len(points)): \n",
    "    img = cv2.imread(f'/home/viacheslav/jupyter_notebooks/data/joint_coords_for_photos_17/{i}.png')    \n",
    "    draw_points(img, points[i], True, True)"
   ]
  },
  {
   "cell_type": "code",
   "execution_count": 19,
   "id": "eec60b6a",
   "metadata": {},
   "outputs": [],
   "source": [
    "pose = ur10.getj()"
   ]
  },
  {
   "cell_type": "code",
   "execution_count": 57,
   "id": "ef1ce16f",
   "metadata": {},
   "outputs": [
    {
     "data": {
      "text/plain": [
       "[-4.138930384312765,\n",
       " -1.0015667120562952,\n",
       " 1.7134833335876465,\n",
       " -3.7953017393695276,\n",
       " -0.5600474516498011,\n",
       " 3.1207034587860107]"
      ]
     },
     "execution_count": 57,
     "metadata": {},
     "output_type": "execute_result"
    }
   ],
   "source": [
    "ur10.movej(pose)"
   ]
  },
  {
   "cell_type": "markdown",
   "id": "09d25f68",
   "metadata": {},
   "source": [
    "# Robot sees"
   ]
  },
  {
   "cell_type": "markdown",
   "id": "5e3a890d",
   "metadata": {},
   "source": [
    "## Get nice graphs"
   ]
  },
  {
   "cell_type": "markdown",
   "id": "fdfa4650",
   "metadata": {},
   "source": [
    "# Record points"
   ]
  }
 ],
 "metadata": {
  "kernelspec": {
   "display_name": "Python 3.9.12 ('CameraCalibrationOptimize')",
   "language": "python",
   "name": "python3"
  },
  "language_info": {
   "codemirror_mode": {
    "name": "ipython",
    "version": 3
   },
   "file_extension": ".py",
   "mimetype": "text/x-python",
   "name": "python",
   "nbconvert_exporter": "python",
   "pygments_lexer": "ipython3",
   "version": "3.9.12"
  },
  "vscode": {
   "interpreter": {
    "hash": "0c3cb1b0a8cb3060a10896d3abefa7af7f3d40811c3ca0232af182ed56385980"
   }
  }
 },
 "nbformat": 4,
 "nbformat_minor": 5
}
