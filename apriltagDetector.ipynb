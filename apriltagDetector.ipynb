{
 "cells": [
  {
   "cell_type": "code",
   "execution_count": 1,
   "id": "600a4206",
   "metadata": {},
   "outputs": [],
   "source": [
    "# import dt_apriltags as apriltag\n",
    "import cv2\n",
    "import glob\n",
    "import numpy as np\n",
    "from pathlib import Path\n",
    "import re\n",
    "# import pyrealsense2 as rs\n",
    "# import urx\n",
    "import matplotlib.pyplot as plt\n",
    "import seaborn as sns"
   ]
  },
  {
   "cell_type": "code",
   "execution_count": 2,
   "id": "e1e54074",
   "metadata": {},
   "outputs": [],
   "source": [
    "dist = np.array([[-0.04797802,  0.04744357,  0.00017416,  0.00067967, -0.00408397]])\n",
    "detector = apriltag.Detector(families=\"tagStandard52h13\")\n",
    "mtx = np.array([[633.09029639, 0., 629.06462963], [0., 638.7544391, 362.74013262],[0., 0., 1.]])\n",
    "\n",
    "camera_params = [633.0902963939839, 638.754439101168, 629.0646296262861, 362.7401326185789]\n",
    "\n",
    "\n",
    "\n",
    "pipeline = rs.pipeline()\n",
    "config = rs.config()\n",
    "config.enable_stream(stream_type=rs.stream.color, stream_index=0, width=1280, height=720, format=rs.format.rgb8, framerate=30)\n",
    "\n",
    "profile = pipeline.start(config)\n",
    "\n",
    "align_to = rs.stream.color\n",
    "align = rs.align(align_to)\n",
    "\n",
    "# ur10 = urx.Robot('192.168.88.139')\n",
    "# ur10.is_running()"
   ]
  },
  {
   "cell_type": "code",
   "execution_count": 3,
   "id": "638e0d07",
   "metadata": {},
   "outputs": [],
   "source": [
    "cv2.destroyAllWindows()\n",
    "# pipeline.stop()"
   ]
  },
  {
   "cell_type": "code",
   "execution_count": 4,
   "id": "8b684f56",
   "metadata": {},
   "outputs": [],
   "source": [
    "def draw_corners(img, r, show=False):\n",
    "    imagePoints = r.corners.reshape(1,4,2)\n",
    "    \n",
    "    for corner in range(np.size(imagePoints[0],axis=0)):\n",
    "        center = ((int(imagePoints[0][corner][0]),int(imagePoints[0][corner][1])))\n",
    "        cv2.circle(img, center, 3, (0,0,255), -1)\n",
    "    \n",
    "    if show:\n",
    "        cv2.imshow('img', color_image)"
   ]
  },
  {
   "cell_type": "code",
   "execution_count": 5,
   "id": "c0ecdc1f",
   "metadata": {},
   "outputs": [],
   "source": [
    "def detect_apriltag(img):\n",
    "    if isinstance(img, str):\n",
    "        print('reading img from file system')\n",
    "        img = cv2.imread(img)\n",
    "    gray = cv2.cvtColor(img, cv2.COLOR_BGR2GRAY)\n",
    "    \n",
    "    results = detector.detect(gray,\n",
    "                              estimate_tag_pose=True,\n",
    "                              camera_params=camera_params, \n",
    "                              tag_size=0.04)\n",
    "    if not results:\n",
    "#         print('apriltag not found')\n",
    "        return\n",
    "    return results"
   ]
  },
  {
   "cell_type": "code",
   "execution_count": 6,
   "id": "b92a5dbf",
   "metadata": {},
   "outputs": [],
   "source": [
    "def increase_brightness(img, value=30):\n",
    "    hsv = cv2.cvtColor(img, cv2.COLOR_BGR2HSV)\n",
    "    h, s, v = cv2.split(hsv)\n",
    "\n",
    "    lim = 255 - value\n",
    "    v[v > lim] = 255\n",
    "    v[v <= lim] += value\n",
    "\n",
    "    final_hsv = cv2.merge((h, s, v))\n",
    "    img = cv.cvtColor(final_hsv, cv.COLOR_HSV2BGR)\n",
    "    return img"
   ]
  },
  {
   "cell_type": "code",
   "execution_count": 7,
   "id": "651f74bd",
   "metadata": {},
   "outputs": [],
   "source": [
    "def draw_apriltag(img, results, show=False):\n",
    "    if not results: return\n",
    "    if isinstance(img, str):\n",
    "        img = cv2.imread(img)\n",
    "    \n",
    "    for r in results:\n",
    "        (ptA, ptB, ptC, ptD) = r.corners\n",
    "        ptA = int(ptA[0]), int(ptA[1])\n",
    "#         ptB = int(ptB[0]), int(ptB[1])\n",
    "#         ptC = int(ptC[0]), int(ptC[1])\n",
    "#         ptD = int(ptD[0]), int(ptD[1])\n",
    "\n",
    "#     # draw bbox\n",
    "#         cv2.line(img, ptA, ptB, (0, 255, 0), 2)\n",
    "#         cv2.line(img, ptB, ptC, (0, 255, 0), 2)\n",
    "#         cv2.line(img, ptC, ptD, (0, 255, 0), 2)\n",
    "#         cv2.line(img, ptD, ptA, (0, 255, 0), 2)\n",
    "        draw_corners(img, r)\n",
    "#     ptA = int(r.corners[0][0]), int(r.corners[0][1])\n",
    "    \n",
    "    # draw center\n",
    "    cX, cY = int(r.center[0]), int(r.center[1])\n",
    "    cv2.circle(img, (cX, cY), 5, (0, 0, 255), -1)\n",
    "    \n",
    "    # draw the tag family on the image\n",
    "    tagFamily = r.tag_family.decode(\"utf-8\")\n",
    "    cv2.putText(img, tagFamily, (ptA[0], ptA[1] - 15),\n",
    "        cv2.FONT_HERSHEY_SIMPLEX, 0.5, (255, 255, 255), 2)\n",
    "#     print(\"{}. [INFO] tag family: {} --- tag id: {}\".format((i+1), \n",
    "\n",
    "    if show:\n",
    "        cv2.imshow(\"Image\", img)\n",
    "        cv2.waitKey(10)"
   ]
  },
  {
   "cell_type": "code",
   "execution_count": 8,
   "id": "8ed3e707",
   "metadata": {},
   "outputs": [],
   "source": [
    "def get_photo_from_realsense(show=False):\n",
    "    frames = pipeline.wait_for_frames()\n",
    "    aligned_frames = align.process(frames)\n",
    "    color_frame = aligned_frames.get_color_frame()\n",
    "\n",
    "    color_image = np.asanyarray(color_frame.get_data()).copy() # copy() is important!!\n",
    "    color_image = cv2.cvtColor(color_image, cv2.COLOR_BGR2RGB)\n",
    "    if show:\n",
    "        cv2.imshow('img', color_image)\n",
    "        cv2.waitKey(10)\n",
    "    \n",
    "    return np.array(color_image)"
   ]
  },
  {
   "cell_type": "code",
   "execution_count": 17,
   "id": "c36dd5d9",
   "metadata": {},
   "outputs": [],
   "source": [
    "def solve_pnp(results):\n",
    "    obj_points = np.zeros((5,3), dtype=float)\n",
    "    obj_points[0][1] = 40.0\n",
    "    obj_points[1][0] = 40.0\n",
    "    obj_points[1][1] = 40.0\n",
    "    obj_points[2][0] = 40.0\n",
    "    obj_points[4][0] = 20.0\n",
    "    obj_points[4][1] = 20.0\n",
    "    \n",
    "    \n",
    "\n",
    "    for r in results:\n",
    "        imagePoints = r.corners.reshape(1,4,2)\n",
    "        center = r.center.reshape(1,1,2)\n",
    "    \n",
    "        imgpoints = np.concatenate((imagePoints, center), axis=1)\n",
    "        success, rvec, tvec = cv2.solvePnP(obj_points, imgpoints, mtx, dist)\n",
    "        \n",
    "    if not success:\n",
    "        print('not success in PnP')\n",
    "        return\n",
    "    return tvec, rvec"
   ]
  },
  {
   "cell_type": "code",
   "execution_count": 18,
   "id": "472e67e6",
   "metadata": {},
   "outputs": [],
   "source": [
    "def draw_points(img, points, show=False):\n",
    "    for i in range(len(points)):\n",
    "        point = (int(points[i][0][0]), int(points[i][0][1]))\n",
    "        cv2.circle(img, point, 2, (255,0,255), -1)\n",
    "    \n",
    "    if show:\n",
    "        cv2.imshow('img', img)\n",
    "        cv2.waitKey(10)\n",
    "    "
   ]
  },
  {
   "cell_type": "code",
   "execution_count": 19,
   "id": "9475a4ab",
   "metadata": {},
   "outputs": [],
   "source": [
    "def draw_nums(img, points, show=False):\n",
    "    for i in range(len(points)):\n",
    "        point = (int(points[i][0][0]), int(points[i][0][1]))\n",
    "        cv2.putText(img, str(i), point, cv2.FONT_HERSHEY_SIMPLEX, 12, (255,0,255))\n",
    "        cv2.circle(img, point, 2, (255,0,255), -1)\n",
    "    \n",
    "    if show:\n",
    "        cv2.imshow('img', img)\n",
    "        cv2.waitKey(10)"
   ]
  },
  {
   "cell_type": "code",
   "execution_count": 20,
   "id": "adc471a2",
   "metadata": {},
   "outputs": [],
   "source": [
    "def get_socket_points(img, points_array, lines_array, bbox_array, tvec, rvec, \n",
    "                      show=False, draw_l=True, draw_p=True, draw_b=True):\n",
    "    if isinstance(img, str):\n",
    "        img = cv2.imread(img)\n",
    "#     img = increase_brightness(img, 50)\n",
    "    \n",
    "    if draw_p:\n",
    "        img_points, _ = cv2.projectPoints(points_array, rvec, tvec, mtx, dist)\n",
    "        draw_points(img, img_points)\n",
    "    if draw_l:\n",
    "        lines_points, _ = cv2.projectPoints(lines_array, rvec, tvec, mtx, dist)\n",
    "        draw_lines(img, lines_points)\n",
    "    if draw_b:\n",
    "        bbox_arr, _ = cv2.projectPoints(bbox_array, rvec, tvec, mtx, dist)\n",
    "        draw_bbox(img, bbox_arr)\n",
    "    \n",
    "    if show:\n",
    "        cv2.imshow(\"Image\", img)\n",
    "        cv2.waitKey(0)\n",
    "    return img"
   ]
  },
  {
   "cell_type": "code",
   "execution_count": 40,
   "id": "f8b2199d",
   "metadata": {},
   "outputs": [
    {
     "data": {
      "text/plain": [
       "<Transform:\n",
       "<Orientation: \n",
       "array([[-0.60674916,  0.00105391,  0.79489266],\n",
       "       [ 0.79221113, -0.08127912,  0.60481008],\n",
       "       [ 0.06524559,  0.99669082,  0.04848112]])>\n",
       "<Vector: (0.61362, -0.84578, 0.39675)>\n",
       ">"
      ]
     },
     "execution_count": 40,
     "metadata": {},
     "output_type": "execute_result"
    }
   ],
   "source": [
    "ur10.movel(pose_right)"
   ]
  },
  {
   "cell_type": "code",
   "execution_count": 23,
   "id": "797a804f",
   "metadata": {},
   "outputs": [],
   "source": [
    "# pose_left = ur10.getl()"
   ]
  },
  {
   "cell_type": "code",
   "execution_count": 26,
   "id": "b68b2eab",
   "metadata": {},
   "outputs": [],
   "source": [
    "# pose_center = ur10.getl()"
   ]
  },
  {
   "cell_type": "code",
   "execution_count": 27,
   "id": "f221a856",
   "metadata": {},
   "outputs": [],
   "source": [
    "# pose_right = ur10.getl()"
   ]
  },
  {
   "cell_type": "code",
   "execution_count": 54,
   "id": "90cf6917",
   "metadata": {},
   "outputs": [],
   "source": [
    "DEPTH = -40\n",
    "points_arr = np.zeros((17,3), np.float32)\n",
    "\n",
    "points_arr[0, :] = [43, 145, 0]\n",
    "points_arr[1, :] = [55, 143, 0]\n",
    "\n",
    "points_arr[2, :] = [23, 139, 0]\n",
    "points_arr[3, :] = [31, 139, 0]\n",
    "points_arr[4, :] = [39, 139.5, 0]\n",
    "points_arr[5, :] = [47, 139.5, 0]\n",
    "\n",
    "points_arr[6, :] = [11, 146, 0]\n",
    "points_arr[7, :] = [28, 146, 0]\n",
    "points_arr[8, :] = [43, 146, 0]\n",
    "points_arr[9, :] = [58, 146, 0]\n",
    "\n",
    "points_arr[10, :] = [23, 152, 0]\n",
    "points_arr[11, :] = [31, 152, 0]\n",
    "points_arr[12, :] = [40, 152, 0]\n",
    "points_arr[13, :] = [46, 152, 0]\n",
    "\n",
    "points_arr[14, :] = [35, 159, 0]\n",
    "\n",
    "points_arr[15, :] = [27, 166, 0]\n",
    "points_arr[16, :] = [44, 166, 0]\n",
    "\n",
    "points_arr[:,[0, 1]] = points_arr[:,[1, 0]]\n",
    "\n",
    "points_arr[:, 2] = DEPTH\n",
    "\n",
    "points_arr[:, 0] = -points_arr[:, 0]\n",
    "\n",
    "bbox = np.array([\n",
    "    [10, 128, DEPTH],\n",
    "    [59, 128, DEPTH],\n",
    "    [59, 170, DEPTH],\n",
    "    [10, 170, DEPTH]\n",
    "], dtype=float)\n",
    "bbox[:,[0, 1]] = bbox[:,[1, 0]]\n",
    "bbox[:, 0] = -bbox[:, 0]"
   ]
  },
  {
   "cell_type": "code",
   "execution_count": 55,
   "id": "f9194bad",
   "metadata": {},
   "outputs": [],
   "source": [
    "# points_arr = np.zeros_like(points_arr)\n",
    "# points_arr[0,:] = [-145, 43, 40]\n",
    "# points_arr[1,:] = [-143, 55, -40]\n",
    "# points_arr[2,:] = [-145, 43, 40]\n",
    "# points_arr[3,:] = [-145, 43, 40]\n",
    "# points_arr[4,:] = [-145, 43, 40]\n",
    "# points_arr[5,:] = [-145, 43, 40]\n",
    "# points_arr[6,:] = [-145, 43, 40]\n",
    "# points_arr[7,:] = [-145, 43, 40]\n",
    "# points_arr[8,:] = [-145, 43, 40]\n",
    "# points_arr[9,:] = [-145, 43, 40]\n",
    "# points_arr[10,:] = [-145, 43, 40]\n",
    "# points_arr[11,:] = [-145, 43, 40]"
   ]
  },
  {
   "cell_type": "code",
   "execution_count": 56,
   "id": "6800670f",
   "metadata": {},
   "outputs": [],
   "source": [
    "lines = np.array([\n",
    "    [0,0,0],\n",
    "    [100,0,0],\n",
    "    [0,100,0],\n",
    "    [0,0,100]\n",
    "], dtype=float)"
   ]
  },
  {
   "cell_type": "code",
   "execution_count": 57,
   "id": "bf042f22",
   "metadata": {},
   "outputs": [],
   "source": [
    "bbox = np.array([\n",
    "    [10, 128, DEPTH],\n",
    "    [59, 128, DEPTH],\n",
    "    [59, 170, DEPTH],\n",
    "    [10, 170, DEPTH]\n",
    "], dtype=float)\n",
    "bbox[:,[0, 1]] = bbox[:,[1, 0]]\n",
    "bbox[:, 0] = -bbox[:, 0]"
   ]
  },
  {
   "cell_type": "code",
   "execution_count": 59,
   "id": "0c7eb655",
   "metadata": {},
   "outputs": [],
   "source": [
    "def draw_bbox(img, bbox_arr, show=False):\n",
    "    color = (0,255,0)\n",
    "    cv2.line(img, \n",
    "            [int(x) for x in bbox_arr[0][0]],\n",
    "            [int(x) for x in bbox_arr[1][0]], color, 1)\n",
    "    cv2.line(img, \n",
    "            [int(x) for x in bbox_arr[1][0]], \n",
    "            [int(x) for x in bbox_arr[2][0]], color, 1)\n",
    "    cv2.line(img, \n",
    "            [int(x) for x in bbox_arr[2][0]], \n",
    "            [int(x) for x in bbox_arr[3][0]], color, 1)\n",
    "    cv2.line(img, \n",
    "            [int(x) for x in bbox_arr[3][0]], \n",
    "            [int(x) for x in bbox_arr[0][0]], color, 1)\n",
    "    \n",
    "    if show:\n",
    "        cv2.imshow('img', img)\n",
    "        cv2.waitKey(10)"
   ]
  },
  {
   "cell_type": "code",
   "execution_count": 60,
   "id": "517f0e97",
   "metadata": {},
   "outputs": [],
   "source": [
    "def draw_lines(img, line_arr, show=False):\n",
    "    colors = [(255,255,0), (0,255,0), (0,0,255)]\n",
    "    for i, line in enumerate(line_arr[1:]):\n",
    "        cv2.line(img, [int(x) for x in line_arr[0][0]], [int(x) for x in line[0]], colors[i-1], 2)\n",
    "    if show:\n",
    "        cv2.imshow('img', img)\n",
    "        cv2.waitKey(10)"
   ]
  },
  {
   "cell_type": "code",
   "execution_count": 136,
   "id": "50d25c31",
   "metadata": {},
   "outputs": [
    {
     "name": "stdout",
     "output_type": "stream",
     "text": [
      "reading img from file system\n"
     ]
    }
   ],
   "source": [
    "img = '/home/viacheslav/jupyter_notebooks/1_processed.jpg'\n",
    "res = detect_apriltag(img)\n",
    "tvec, rvec = solve_pnp(res)\n",
    "_ = get_socket_points(img, points_arr, lines, bbox, tvec, rvec, \n",
    "                      show=True, draw_b=False)"
   ]
  },
  {
   "cell_type": "code",
   "execution_count": 64,
   "id": "81a8aeff",
   "metadata": {},
   "outputs": [
    {
     "name": "stdout",
     "output_type": "stream",
     "text": [
      "reading img from file system\n"
     ]
    }
   ],
   "source": [
    "img = '/home/viacheslav/jupyter_notebooks/2_processed.jpg'\n",
    "res = detect_apriltag(img)\n",
    "tvec, rvec = solve_pnp(res)\n",
    "_ = get_socket_points(img, points_arr, lines, bbox, tvec, rvec, \n",
    "                      show=True, draw_b=False)"
   ]
  },
  {
   "cell_type": "code",
   "execution_count": null,
   "id": "5bc6393c",
   "metadata": {},
   "outputs": [],
   "source": [
    "cv2.imshow('img', cv2.imread('/home/viacheslav/jupyter_notebooks/2_processed.png'))"
   ]
  },
  {
   "cell_type": "code",
   "execution_count": null,
   "id": "6e2ef41b",
   "metadata": {},
   "outputs": [],
   "source": [
    "name = 2\n",
    "while True:\n",
    "    img = get_photo_from_realsense()\n",
    "    cv2.imshow('img', img)\n",
    "    cv2.waitKey(1)\n",
    "    res = detect_apriltag(img)\n",
    "    if not res: \n",
    "        continue \n",
    "#     draw_apriltag(img, res)\n",
    "    tvec, rvec = solve_pnp(res)\n",
    "#     processed =  get_socket_points(img, points_arr, lines, bbox, tvec, rvec)\n",
    "    fname = f'/home/viacheslav/jupyter_notebooks/{name}_processed.jpg'\n",
    "    cv2.imwrite(fname, img)\n",
    "    name += 1\n",
    "    break\n",
    "cv2.destroyAllWindows()"
   ]
  },
  {
   "cell_type": "code",
   "execution_count": 14,
   "id": "30561b08",
   "metadata": {},
   "outputs": [],
   "source": [
    "def make_photo(path='/home/viacheslav/jupyter_notebooks/processed_23_9', name=0):\n",
    "    img = get_photo_from_realsense()\n",
    "    res = detect_apriltag(img)\n",
    "    if not res: \n",
    "        return name\n",
    "    draw_apriltag(img, res)\n",
    "    tvec, rvec = solve_pnp(res)\n",
    "    processed = get_socket_points(img, points_arr, lines, bbox, tvec, rvec, draw_b=False, draw_l=False)\n",
    "    cv2.imshow('img', img)\n",
    "    cv2.waitKey(1)\n",
    "    fname = path+f'/{name}_processed.jpg'\n",
    "    cv2.imwrite(fname, processed)\n",
    "    name += 1\n",
    "    return name"
   ]
  },
  {
   "cell_type": "code",
   "execution_count": 15,
   "id": "8aa9f181",
   "metadata": {},
   "outputs": [],
   "source": [
    "def move_to_next_pos_and_photo(end:list, num_photos:int, img_name):\n",
    "    start = ur10.getl()\n",
    "    deltas = np.array([x-y for x, y in zip(end, start)])/num_photos\n",
    "    for _ in range(num_photos):\n",
    "        ur10.movel(ur10.getl()+deltas, vel=0.1, acc=0.5)\n",
    "        img_name = make_photo(name=img_name)\n",
    "    return img_name"
   ]
  },
  {
   "cell_type": "code",
   "execution_count": 17,
   "id": "0c2bc1a0",
   "metadata": {},
   "outputs": [],
   "source": [
    "cv2.destroyAllWindows()"
   ]
  },
  {
   "cell_type": "code",
   "execution_count": 64,
   "id": "7e05272b",
   "metadata": {},
   "outputs": [
    {
     "data": {
      "text/plain": [
       "[0.5293644400757425,\n",
       " -0.7471575815419071,\n",
       " 0.5435782286442752,\n",
       " 0.9689492506320426,\n",
       " 1.4780741499662704,\n",
       " 1.4508917642728367]"
      ]
     },
     "execution_count": 64,
     "metadata": {},
     "output_type": "execute_result"
    }
   ],
   "source": [
    "ur10.getl()"
   ]
  },
  {
   "cell_type": "code",
   "execution_count": 21,
   "id": "d08382f6",
   "metadata": {},
   "outputs": [],
   "source": [
    "boundary_positions = []"
   ]
  },
  {
   "cell_type": "code",
   "execution_count": 29,
   "id": "f2eb43bb",
   "metadata": {},
   "outputs": [],
   "source": [
    "boundary_positions.append(ur10.getl())"
   ]
  },
  {
   "cell_type": "code",
   "execution_count": 31,
   "id": "a3c4994e",
   "metadata": {},
   "outputs": [],
   "source": [
    "boundary_positions = np.array(boundary_positions)"
   ]
  },
  {
   "cell_type": "code",
   "execution_count": 32,
   "id": "5ab7d302",
   "metadata": {},
   "outputs": [
    {
     "data": {
      "text/plain": [
       "array([[ 0.232085  , -0.61961176,  0.43073168,  1.13699011,  1.24920145,\n",
       "         1.22539067],\n",
       "       [ 0.2333736 , -0.60270578,  0.63426659,  1.17489684,  1.22881322,\n",
       "         1.24945387],\n",
       "       [ 0.42691084, -0.61264868,  0.58616166,  1.3315313 ,  1.41684329,\n",
       "         1.23695536],\n",
       "       [ 0.29272549, -0.60669106,  0.33210261,  0.9753124 ,  0.95871666,\n",
       "         1.43494421],\n",
       "       [ 0.33165193, -0.25687359,  0.36506057,  1.30079001,  0.75824351,\n",
       "         0.868352  ],\n",
       "       [ 0.33153143, -0.22721475,  0.82933533,  1.67432401,  0.98844306,\n",
       "         0.83238533],\n",
       "       [ 0.44529088, -0.30760203,  0.6630999 ,  1.49787613,  1.12812965,\n",
       "         0.9164792 ],\n",
       "       [ 0.48105068, -0.37105609,  0.34244749,  1.08186592,  0.84939581,\n",
       "         1.07530735]])"
      ]
     },
     "execution_count": 32,
     "metadata": {},
     "output_type": "execute_result"
    }
   ],
   "source": [
    "boundary_positions"
   ]
  },
  {
   "cell_type": "code",
   "execution_count": 18,
   "id": "a548c073",
   "metadata": {
    "scrolled": true
   },
   "outputs": [
    {
     "data": {
      "text/plain": [
       "[0.613680548909852,\n",
       " -0.8457721957688374,\n",
       " 0.3965869866472319,\n",
       " 0.8664896819831868,\n",
       " 1.6128040054787331,\n",
       " 1.7493883084790065]"
      ]
     },
     "execution_count": 18,
     "metadata": {},
     "output_type": "execute_result"
    }
   ],
   "source": [
    "ur10.getl()"
   ]
  },
  {
   "cell_type": "code",
   "execution_count": 37,
   "id": "423c4ae8",
   "metadata": {},
   "outputs": [],
   "source": [
    "min_x, max_x = boundary_positions[:, 0].min(), boundary_positions[:, 0].max()\n",
    "min_y, max_y = boundary_positions[:, 1].min(), boundary_positions[:, 1].max()\n",
    "min_z, max_z = boundary_positions[:, 2].min(), boundary_positions[:, 2].max()\n",
    "min_rx, max_rx = boundary_positions[:, 3].min(), boundary_positions[:, 3].max()\n",
    "min_ry, max_ry = boundary_positions[:, 4].min(), boundary_positions[:, 4].max()\n",
    "min_rz, max_rz = boundary_positions[:, 5].min(), boundary_positions[:, 5].max()"
   ]
  },
  {
   "cell_type": "code",
   "execution_count": 38,
   "id": "ab4cfd27",
   "metadata": {},
   "outputs": [],
   "source": [
    "img_name = 0"
   ]
  },
  {
   "cell_type": "code",
   "execution_count": null,
   "id": "2405690a",
   "metadata": {},
   "outputs": [],
   "source": [
    "while True:\n",
    "    next_pos = [np.random.uniform(min_x, max_x),\n",
    "                np.random.uniform(min_y, max_y),\n",
    "                np.random.uniform(min_z, max_z),\n",
    "                np.random.uniform(min_rx, max_rx),\n",
    "                np.random.uniform(min_ry, max_ry),\n",
    "                np.random.uniform(min_rz, max_rz)]\n",
    "    img_name = move_to_next_pos_and_photo(next_pos, 50, img_name)"
   ]
  },
  {
   "cell_type": "code",
   "execution_count": 42,
   "id": "cf035fc7",
   "metadata": {},
   "outputs": [
    {
     "data": {
      "text/plain": [
       "[0.4144699791608615,\n",
       " -0.28471817373934244,\n",
       " 0.4506025223319278,\n",
       " 1.3698459362193829,\n",
       " 0.8751222887301229,\n",
       " 0.7944053357672337]"
      ]
     },
     "execution_count": 42,
     "metadata": {},
     "output_type": "execute_result"
    }
   ],
   "source": [
    "pose_left = [0.4144699791608615,\n",
    " -0.28471817373934244,\n",
    " 0.4506025223319278,\n",
    " 1.3698459362193829,\n",
    " 0.8751222887301229,\n",
    " 0.7944053357672337]"
   ]
  },
  {
   "cell_type": "code",
   "execution_count": 43,
   "id": "72ae1d21",
   "metadata": {},
   "outputs": [
    {
     "data": {
      "text/plain": [
       "[0.4168558559693215,\n",
       " -0.5621571861068889,\n",
       " 0.4414088449025262,\n",
       " 1.1886706848218183,\n",
       " 1.2237760813323468,\n",
       " 1.1861928832927722]"
      ]
     },
     "execution_count": 43,
     "metadata": {},
     "output_type": "execute_result"
    }
   ],
   "source": [
    "pose_center = [0.4168558559693215,\n",
    " -0.5621571861068889,\n",
    " 0.4414088449025262,\n",
    " 1.1886706848218183,\n",
    " 1.2237760813323468,\n",
    " 1.1861928832927722]"
   ]
  },
  {
   "cell_type": "code",
   "execution_count": 44,
   "id": "a95f176e",
   "metadata": {},
   "outputs": [
    {
     "data": {
      "text/plain": [
       "[0.613646044924774,\n",
       " -0.8457833066867604,\n",
       " 0.39668770616099447,\n",
       " 0.86630043677316,\n",
       " 1.6128758106937202,\n",
       " 1.7491595656007006]"
      ]
     },
     "execution_count": 44,
     "metadata": {},
     "output_type": "execute_result"
    }
   ],
   "source": [
    "pose_right = [0.613646044924774,\n",
    " -0.8457833066867604,\n",
    " 0.39668770616099447,\n",
    " 0.86630043677316,\n",
    " 1.6128758106937202,\n",
    " 1.7491595656007006]"
   ]
  },
  {
   "cell_type": "markdown",
   "id": "678fb71a",
   "metadata": {},
   "source": [
    "# Optimising the points"
   ]
  },
  {
   "cell_type": "code",
   "execution_count": 24,
   "id": "a8df4239",
   "metadata": {},
   "outputs": [],
   "source": [
    "img = cv2.imread('/home/viacheslav/jupyter_notebooks/0_processed.png')\n",
    "res = detect_apriltag(img)\n",
    "rvec, tvec = solve_pnp(res)\n",
    "keypoints, _ = cv2.projectPoints(points_arr, rvec, tvec, mtx, dist)\n",
    "# draw_nums(img, keypoints, True)"
   ]
  },
  {
   "cell_type": "code",
   "execution_count": 49,
   "id": "45961c02",
   "metadata": {},
   "outputs": [],
   "source": [
    "img = cv2.imread('/home/viacheslav/jupyter_notebooks/1_processed.png')\n",
    "red_pixel =  np.array([0, 0, 255])"
   ]
  },
  {
   "cell_type": "code",
   "execution_count": 154,
   "id": "05868888",
   "metadata": {},
   "outputs": [],
   "source": [
    "cv2.destroyAllWindows()"
   ]
  },
  {
   "cell_type": "code",
   "execution_count": 26,
   "id": "07fe5204",
   "metadata": {},
   "outputs": [],
   "source": [
    "def detect_red_pixels(path:str, img:np.array=None):\n",
    "    red_pixel =  np.array([0,0, 255])\n",
    "    if img is None:\n",
    "        img = cv2.imread(path)\n",
    "    indices = []\n",
    "    for x, row in enumerate(img):\n",
    "        for y, cell in enumerate(row):\n",
    "            if np.array_equal(img[x, y], red_pixel):\n",
    "                indices.append((x,y))\n",
    "    assert len(indices) == 17, f'wrong keypoint number!! {indices}'\n",
    "    return indices"
   ]
  },
  {
   "cell_type": "code",
   "execution_count": 27,
   "id": "92c14462",
   "metadata": {},
   "outputs": [],
   "source": [
    "px0 = np.array(detect_red_pixels('/home/viacheslav/jupyter_notebooks/0_processed.png'))\n",
    "px1 = np.array(detect_red_pixels('/home/viacheslav/jupyter_notebooks/1_processed.png'))\n",
    "px2 = np.array(detect_red_pixels('/home/viacheslav/jupyter_notebooks/2_processed.png'))\n",
    "\n",
    "px0[[4, 5]] = px0[[5, 4]]\n",
    "\n",
    "px1[[4, 5, 2, 3]] = px1[[2, 3, 4, 5]]\n",
    "px1[[9, 8, 8, 6]] = px1[[6, 7, 8, 9]]\n",
    "px1[[10,11,12,13]] = px1[[13, 12, 10, 11]]\n",
    "px1[[15, 16]] = px1[[16,15]]\n",
    "\n",
    "px2[[0,1]] = px2[[1,0]]\n",
    "px2[[3,4,5]] = px2[[4,5,3]]\n",
    "px2[[10,11]] = px2[[11,10]]"
   ]
  },
  {
   "cell_type": "code",
   "execution_count": 29,
   "id": "ccb209c4",
   "metadata": {},
   "outputs": [
    {
     "data": {
      "text/plain": [
       "<matplotlib.collections.PathCollection at 0x7fbb5aee5cd0>"
      ]
     },
     "execution_count": 29,
     "metadata": {},
     "output_type": "execute_result"
    },
    {
     "data": {
      "image/png": "[encoded data removed]",
      "text/plain": [
       "<Figure size 432x288 with 1 Axes>"
      ]
     },
     "metadata": {
      "needs_background": "light"
     },
     "output_type": "display_data"
    }
   ],
   "source": [
    "plt.scatter(px0[:,1], px0[:,0], c=range(len(px0)))"
   ]
  },
  {
   "cell_type": "code",
   "execution_count": 30,
   "id": "17b47725",
   "metadata": {},
   "outputs": [
    {
     "data": {
      "text/plain": [
       "<matplotlib.collections.PathCollection at 0x7fbb5ac8ffa0>"
      ]
     },
     "execution_count": 30,
     "metadata": {},
     "output_type": "execute_result"
    },
    {
     "data": {
      "image/png": "[encoded data removed]",
      "text/plain": [
       "<Figure size 432x288 with 1 Axes>"
      ]
     },
     "metadata": {
      "needs_background": "light"
     },
     "output_type": "display_data"
    }
   ],
   "source": [
    "plt.scatter(px1[:,1], px1[:,0], c=range(len(px1)))"
   ]
  },
  {
   "cell_type": "code",
   "execution_count": 31,
   "id": "01588a72",
   "metadata": {},
   "outputs": [
    {
     "data": {
      "text/plain": [
       "<matplotlib.collections.PathCollection at 0x7fbb5abfed90>"
      ]
     },
     "execution_count": 31,
     "metadata": {},
     "output_type": "execute_result"
    },
    {
     "data": {
      "image/png": "[encoded data removed]",
      "text/plain": [
       "<Figure size 432x288 with 1 Axes>"
      ]
     },
     "metadata": {
      "needs_background": "light"
     },
     "output_type": "display_data"
    }
   ],
   "source": [
    "plt.scatter(px2[:,1], px2[:,0], c=range(len(px2)))"
   ]
  },
  {
   "cell_type": "code",
   "execution_count": 38,
   "id": "3834404a",
   "metadata": {},
   "outputs": [],
   "source": [
    "def distance(true_pixels, projected_pixel, num):\n",
    "    while len(projected_pixel) != 2:\n",
    "        projected_pixel = projected_pixel[0]\n",
    "\n",
    "    proj = int(projected_pixel[0]), int(projected_pixel[1])\n",
    "\n",
    "    return (proj[0] - true_pixels[num][0])**2 + (proj[1] - true_pixels[num][1])**2"
   ]
  },
  {
   "cell_type": "code",
   "execution_count": 49,
   "id": "e0bd8a4f",
   "metadata": {},
   "outputs": [],
   "source": [
    "def get_keypoints(img, points, num = -1):\n",
    "    res = detect_apriltag(img)\n",
    "    rvec, tvec = solve_pnp(res)\n",
    "    if num == -1:\n",
    "        keypoints, _ = cv2.projectPoints(points, rvec, tvec, mtx, dist)\n",
    "    else:\n",
    "        keypoints, _ = cv2.projectPoints(points[num], rvec, tvec, mtx, dist)\n",
    "    for i, k in enumerate(keypoints):\n",
    "        keypoints[i] = k[0]\n",
    "    return keypoints"
   ]
  },
  {
   "cell_type": "code",
   "execution_count": 50,
   "id": "ef5b2828",
   "metadata": {},
   "outputs": [],
   "source": [
    "def get_dist_with_delta(points, imgs, delta, red_px, num):\n",
    "    points_d = points.copy()\n",
    "    if delta[0] != 0:\n",
    "        points_d[num, 0] += delta[0]\n",
    "    if delta[1] != 0:\n",
    "        points_d[num, 1] += delta[1]\n",
    "    if delta[2] != 0:\n",
    "        points_d[num, 2] += delta[2]\n",
    "    \n",
    "    curr_dist = 0.\n",
    "\n",
    "    for i, img in enumerate(imgs):\n",
    "        keypoints = get_keypoints(img, points_d, num)\n",
    "        curr_dist += sum([distance(red_px[i], keypoints, num)])\n",
    "    return curr_dist"
   ]
  },
  {
   "cell_type": "code",
   "execution_count": null,
   "id": "d42af920",
   "metadata": {
    "scrolled": false
   },
   "outputs": [],
   "source": [
    "POINT_NUM = 0\n",
    "\n",
    "px0 = np.array(detect_red_pixels('/home/viacheslav/jupyter_notebooks/0_processed.png'))\n",
    "px1 = np.array(detect_red_pixels('/home/viacheslav/jupyter_notebooks/1_processed.png'))\n",
    "px2 = np.array(detect_red_pixels('/home/viacheslav/jupyter_notebooks/2_processed.png'))\n",
    "\n",
    "px0[[4, 5]] = px0[[5, 4]]\n",
    "\n",
    "px1[[4, 5, 2, 3]] = px1[[2, 3, 4, 5]]\n",
    "px1[[9, 8, 8, 6]] = px1[[6, 7, 8, 9]]\n",
    "px1[[10,11,12,13]] = px1[[13, 12, 10, 11]]\n",
    "px1[[15, 16]] = px1[[16,15]]\n",
    "\n",
    "px2[[0, 1]] = px2[[1, 0]]\n",
    "px2[[3, 4, 5]] = px2[[4, 5, 3]]\n",
    "px2[[10, 11]] = px2[[11, 10]]\n",
    "\n",
    "red_px = [px0, px1, px2]\n",
    "\n",
    "\n",
    "\n",
    "imgs = [\n",
    "    cv2.imread(x) for x in ['/home/viacheslav/jupyter_notebooks/0_processed.jpg',\n",
    "    '/home/viacheslav/jupyter_notebooks/1_processed.jpg',\n",
    "    '/home/viacheslav/jupyter_notebooks/2_processed.jpg']]\n",
    "\n",
    "\n",
    "points = points_arr.copy()\n",
    "curr_dist = 0.\n",
    "\n",
    "for i, img in enumerate(imgs):\n",
    "    keypoints = get_keypoints(img, points, POINT_NUM)\n",
    "    curr_dist += sum([distance(red_px[i], keypoints, POINT_NUM)])\n",
    "\n",
    "deltas = [\n",
    "    [1, 0, 0],\n",
    "    [-1,0, 0],\n",
    "    [0, 1, 0],\n",
    "    [0,-1, 0],\n",
    "    [0, 0, 1],\n",
    "    [0, 0,-1],\n",
    "    [0, 0, 0]\n",
    "]\n",
    "\n",
    "\n",
    "min_dist = curr_dist\n",
    "print(min_dist, 'min dist initial')\n",
    "min_delta = 2\n",
    "ok = True\n",
    "for k in range(17):\n",
    "    while min_delta != 6:\n",
    "        dists = np.array([get_dist_with_delta(points, imgs, delta, red_px, POINT_NUM) for delta in deltas])\n",
    "        print(dists)\n",
    "        min_delta = np.argmin(dists)\n",
    "        min_dist = dists[min_delta]\n",
    "        \n",
    "        points[POINT_NUM, :] += min_delta\n",
    "        print(POINT_NUM, ':', points[POINT_NUM])\n",
    "    POINT_NUM = k"
   ]
  },
  {
   "cell_type": "code",
   "execution_count": null,
   "id": "458cbb62",
   "metadata": {},
   "outputs": [],
   "source": [
    "px0 = np.array(detect_red_pixels('/home/viacheslav/jupyter_notebooks/0_processed.png'))\n",
    "px1 = np.array(detect_red_pixels('/home/viacheslav/jupyter_notebooks/1_processed.png'))\n",
    "px2 = np.array(detect_red_pixels('/home/viacheslav/jupyter_notebooks/2_processed.png'))\n",
    "\n",
    "px0[[4, 5]] = px0[[5, 4]]\n",
    "\n",
    "px1[[4, 5, 2, 3]] = px1[[2, 3, 4, 5]]\n",
    "px1[[9, 8, 8, 6]] = px1[[6, 7, 8, 9]]\n",
    "px1[[10,11,12,13]] = px1[[13, 12, 10, 11]]\n",
    "px1[[15, 16]] = px1[[16,15]]\n",
    "\n",
    "px2[[0, 1]] = px2[[1, 0]]\n",
    "px2[[3, 4, 5]] = px2[[4, 5, 3]]\n",
    "px2[[10, 11]] = px2[[11, 10]]\n",
    "\n",
    "red_px = [px0, px1, px2]\n",
    "\n",
    "imgs = [\n",
    "    cv2.imread(x) for x in ['/home/viacheslav/jupyter_notebooks/0_processed.jpg',\n",
    "    '/home/viacheslav/jupyter_notebooks/1_processed.jpg',\n",
    "    '/home/viacheslav/jupyter_notebooks/2_processed.jpg']]\n",
    "\n",
    "for i, img in enumerate(imgs):\n",
    "    keypoints = get_keypoints(img, points)\n",
    "    print(keypoints)"
   ]
  },
  {
   "cell_type": "code",
   "execution_count": 466,
   "id": "b24de972",
   "metadata": {},
   "outputs": [
    {
     "data": {
      "text/plain": [
       "array([[-106. ,   93. ,   -6. ],\n",
       "       [-143. ,   55. ,  -40. ],\n",
       "       [-139. ,   23. ,  -40. ],\n",
       "       [-139. ,   31. ,  -40. ],\n",
       "       [-139.5,   39. ,  -40. ],\n",
       "       [-139.5,   47. ,  -40. ],\n",
       "       [-146. ,   11. ,  -40. ],\n",
       "       [-146. ,   28. ,  -40. ],\n",
       "       [-146. ,   43. ,  -40. ],\n",
       "       [-146. ,   58. ,  -40. ],\n",
       "       [-152. ,   23. ,  -40. ],\n",
       "       [-152. ,   31. ,  -40. ],\n",
       "       [-152. ,   40. ,  -40. ],\n",
       "       [-152. ,   46. ,  -40. ],\n",
       "       [-159. ,   35. ,  -40. ],\n",
       "       [-166. ,   27. ,  -40. ],\n",
       "       [-166. ,   44. ,  -40. ]], dtype=float32)"
      ]
     },
     "execution_count": 466,
     "metadata": {},
     "output_type": "execute_result"
    }
   ],
   "source": [
    "points"
   ]
  },
  {
   "cell_type": "code",
   "execution_count": null,
   "id": "ffa0fc9a",
   "metadata": {},
   "outputs": [],
   "source": []
  },
  {
   "cell_type": "code",
   "execution_count": null,
   "id": "c21887b1",
   "metadata": {},
   "outputs": [],
   "source": []
  },
  {
   "cell_type": "code",
   "execution_count": null,
   "id": "8fc0ccc0",
   "metadata": {},
   "outputs": [],
   "source": []
  },
  {
   "cell_type": "code",
   "execution_count": 83,
   "id": "e6b980f1",
   "metadata": {},
   "outputs": [],
   "source": [
    "cv2.destroyAllWindows()"
   ]
  },
  {
   "cell_type": "code",
   "execution_count": 3,
   "id": "510a11d6",
   "metadata": {},
   "outputs": [
    {
     "data": {
      "text/plain": [
       "-1"
      ]
     },
     "execution_count": 3,
     "metadata": {},
     "output_type": "execute_result"
    }
   ],
   "source": [
    "img = cv2.imread(r'C:\\Users\\snipercapt\\Desktop\\Python_notebooks\\apriltag\\no_marker_close_new.jpg')\n",
    "cv2.imshow('i', img)\n",
    "cv2.waitKey(0)"
   ]
  },
  {
   "cell_type": "code",
   "execution_count": 17,
   "id": "ed5cd422",
   "metadata": {},
   "outputs": [
    {
     "data": {
      "text/plain": [
       "-1"
      ]
     },
     "execution_count": 17,
     "metadata": {},
     "output_type": "execute_result"
    }
   ],
   "source": [
    "edges = cv2.Canny(img,40,90, True)\n",
    "cv2.imshow('edges', edges)\n",
    "cv2.waitKey(0)"
   ]
  },
  {
   "cell_type": "code",
   "execution_count": 18,
   "id": "aafa994e",
   "metadata": {},
   "outputs": [],
   "source": [
    "kernel = np.ones((5,5),np.float32)/25\n",
    "dst = cv2.filter2D(edges,-1,kernel)\n",
    "# cv2.imshow('smooth', dst)\n",
    "# cv2.waitKey(0)"
   ]
  },
  {
   "cell_type": "code",
   "execution_count": 25,
   "id": "5b2bfd66",
   "metadata": {},
   "outputs": [
    {
     "name": "stdout",
     "output_type": "stream",
     "text": [
      "[[[822.75 362.25  61.15]\n",
      "  [752.25 476.25  61.15]\n",
      "  [690.75 365.25  66.1 ]\n",
      "  [626.25 477.75  61.15]\n",
      "  [554.25 363.75  61.  ]\n",
      "  [755.25 270.75  43.  ]\n",
      "  [621.75 270.75  46.3 ]]]\n"
     ]
    },
    {
     "data": {
      "text/plain": [
       "-1"
      ]
     },
     "execution_count": 25,
     "metadata": {},
     "output_type": "execute_result"
    }
   ],
   "source": [
    "# circles = cv2.HoughCircles(cv2.cvtColor(img, cv2.COLOR_BGR2GRAY), cv2.HOUGH_GRADIENT, 1.2, 100)\n",
    "circles = cv2.HoughCircles(dst, cv2.HOUGH_GRADIENT, dp=1.5, maxRadius=100, minRadius=40, \n",
    "                           minDist=30, param2=80)\n",
    "out = img.copy()\n",
    "print(circles)\n",
    "for x, y, r in circles[0]:\n",
    "    cv2.circle(out, (int(x), int(y)), int(r), (0, 255, 0), 4)\n",
    "    cv2.rectangle(out, (int(x) - 2, int(y) - 2), (int(x) + 2, int(y) + 2), (0, 128, 255), -1)\n",
    "cv2.imshow('circles', out)\n",
    "cv2.waitKey(0)"
   ]
  },
  {
   "cell_type": "code",
   "execution_count": 1,
   "id": "6a1249a4",
   "metadata": {},
   "outputs": [
    {
     "name": "stdout",
     "output_type": "stream",
     "text": [
      "Object `cv2.HoughCircles` not found.\n"
     ]
    }
   ],
   "source": [
    "cv2.HoughCircles??"
   ]
  },
  {
   "cell_type": "code",
   "execution_count": null,
   "id": "457d56b4",
   "metadata": {},
   "outputs": [],
   "source": []
  }
 ],
 "metadata": {
  "kernelspec": {
   "display_name": "Python 3.9.12 ('CameraCalibrationOptimize')",
   "language": "python",
   "name": "python3"
  },
  "language_info": {
   "codemirror_mode": {
    "name": "ipython",
    "version": 3
   },
   "file_extension": ".py",
   "mimetype": "text/x-python",
   "name": "python",
   "nbconvert_exporter": "python",
   "pygments_lexer": "ipython3",
   "version": "3.9.12"
  },
  "vscode": {
   "interpreter": {
    "hash": "0c3cb1b0a8cb3060a10896d3abefa7af7f3d40811c3ca0232af182ed56385980"
   }
  }
 },
 "nbformat": 4,
 "nbformat_minor": 5
}
