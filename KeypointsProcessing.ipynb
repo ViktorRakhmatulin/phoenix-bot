{
 "cells": [
  {
   "cell_type": "code",
   "execution_count": 1,
   "id": "522e1691",
   "metadata": {},
   "outputs": [],
   "source": [
    "# from annotation_utils import *\n",
    "import annotation_utils as utils\n",
    "import numpy as np\n",
    "import cv2"
   ]
  },
  {
   "cell_type": "code",
   "execution_count": 2,
   "id": "91b45877",
   "metadata": {},
   "outputs": [],
   "source": [
    "keypoints, anchors = utils.get_points_from_CAD()\n",
    "\n",
    "normalized_keypoints = utils.normalize_and_orient_kpts(keypoints)\n",
    "normalized_anchors = utils.normalize_and_orient_kpts(anchors)"
   ]
  },
  {
   "cell_type": "code",
   "execution_count": 7,
   "id": "6b92a4ee",
   "metadata": {},
   "outputs": [
    {
     "name": "stdout",
     "output_type": "stream",
     "text": [
      "anchor difference in pix\n",
      "[[-0.980896    3.49934387]\n",
      " [-0.97610474  2.30605164]\n",
      " [-0.98568726  2.30605164]\n",
      " [-0.97131348  2.49934387]\n",
      " [-0.99047852  2.49934387]\n",
      " [-0.97610474  3.01354301]\n",
      " [-0.98568726  3.01354301]]\n",
      "tform.params\n",
      "[[ 1.         0.        -0.980896 ]\n",
      " [ 0.         1.         2.7338887]\n",
      " [ 0.         0.         1.       ]]\n",
      "resulting transform to correct points\n",
      "[[1.00036948e+00 7.20941705e-16 7.51073990e-01]\n",
      " [8.66677684e-16 9.83088179e-01 3.01163202e+00]]\n",
      "inliers [[1]\n",
      " [1]\n",
      " [1]\n",
      " [1]\n",
      " [1]\n",
      " [1]\n",
      " [1]]\n",
      "[[613.01761719 275.88550954]\n",
      " [632.98238281 275.88550954]\n",
      " [578.77884038 290.00875414]\n",
      " [667.22115962 290.00875414]\n",
      " [601.61335826 292.89280884]\n",
      " [644.38664174 292.89280884]\n",
      " [577.97608976 305.02947313]\n",
      " [668.02391024 305.02947313]\n",
      " [560.83882634 326.95531532]\n",
      " [685.16117366 326.95531532]\n",
      " [590.66247469 379.33939409]\n",
      " [655.33752531 379.33939409]\n",
      " [589.84997405 382.72009387]\n",
      " [656.15002595 382.72009387]]\n"
     ]
    },
    {
     "name": "stderr",
     "output_type": "stream",
     "text": [
      "Error, more than one new minimum found.\n"
     ]
    }
   ],
   "source": [
    "#  calibration procedure is performed on warped image (tentative)\n",
    "cv2.destroyAllWindows()\n",
    "camera_params = [633.0902963939839, 638.754439101168,\n",
    "                 629.0646296262861, 362.7401326185789]\n",
    "\n",
    "anchor_ground_truth = np.array(\n",
    "[(597, 349),\n",
    " (579, 325),\n",
    " (614, 324),\n",
    " (562, 350),\n",
    " (633, 349),\n",
    " (581, 380),\n",
    " (615, 379)])\n",
    "\n",
    "img_with_marker_name = 'marker.jpg'\n",
    "img_without_marker_name = 'no_marker.jpg'\n",
    "\n",
    "img = cv2.imread(img_with_marker_name)\n",
    "\n",
    "res = utils.detect_apriltag(img, camera_params)\n",
    "img_warped, desired_corners,tform = utils.warp_img(img, res)\n",
    "\n",
    "res_warp = utils.detect_apriltag(img_warped,camera_params)\n",
    "\n",
    "anchor_on_image = utils.get_keypoints_on_warped_image(res_warp, normalized_anchors)\n",
    "print(\"anchor difference in pix\")\n",
    "print(anchor_on_image-anchor_ground_truth)\n",
    "\n",
    "# calculates corrected points from 1 shot\n",
    "corrected_points, corrected_normalized_keypoints,transformed_anchors_points = utils.get_corrected_normalized_keypoints(res_warp,\n",
    "                                        normalized_anchors,\n",
    "                                        anchor_ground_truth,\n",
    "                                        normalized_keypoints)\n",
    "\n",
    "cv2.destroyAllWindows()"
   ]
  },
  {
   "cell_type": "code",
   "execution_count": 5,
   "id": "84fb9fc9",
   "metadata": {},
   "outputs": [
    {
     "data": {
      "text/plain": [
       "32"
      ]
     },
     "execution_count": 5,
     "metadata": {},
     "output_type": "execute_result"
    }
   ],
   "source": [
    "img_without_marker_name = \"no_marker_close_new_4.jpg\"\n",
    "img = cv2.imread(img_without_marker_name)\n",
    "\n",
    "cv2.imshow(\"q\",img)\n",
    "cv2.waitKey(0)\n",
    "# np.zeros((10,2))\n",
    "# show_image_with_points(img,anchor_ground_truth, \"no_correction\")"
   ]
  },
  {
   "cell_type": "code",
   "execution_count": 6,
   "id": "a5cdfd0f",
   "metadata": {},
   "outputs": [],
   "source": [
    "cv2.imshow('draw_points_on_aruco', img)\n",
    "cv2.waitKey(0)\n",
    "cv2.destroyAllWindows()"
   ]
  },
  {
   "cell_type": "code",
   "execution_count": null,
   "id": "8e33f86d",
   "metadata": {},
   "outputs": [],
   "source": [
    "normalized_keypoints - corrected_normalized_kpts "
   ]
  },
  {
   "cell_type": "code",
   "execution_count": 9,
   "id": "e5bb2d3d",
   "metadata": {},
   "outputs": [
    {
     "name": "stdout",
     "output_type": "stream",
     "text": [
      "[[ 1.00316457e+00 -1.33530746e-02  4.84560574e+00]\n",
      " [ 1.31839624e-02  9.87511111e-01 -2.41836216e+00]\n",
      " [ 8.78849449e-07 -2.73141213e-07  1.00000000e+00]]\n",
      "[[ 1.00316457e+00 -1.33530746e-02  4.84560574e+00]\n",
      " [ 1.31839624e-02  9.87511111e-01 -2.41836216e+00]\n",
      " [ 8.78849449e-07 -2.73141213e-07  1.00000000e+00]]\n"
     ]
    }
   ],
   "source": [
    "def show_image_with_points(img,points, comment):\n",
    "    for c in points:\n",
    "        kc = int(c[0]), int(c[1])\n",
    "        cv2.circle(img, kc, 1, (0,255, 255), -1)\n",
    "    cv2.imshow(comment, img)\n",
    "    cv2.waitKey(0)\n",
    "    cv2.imwrite(comment+\".jpg\", img)\n",
    "\n",
    "img_with_marker_name = 'marker.jpg'\n",
    "img_without_marker_name = 'no_marker.jpg'\n",
    "\n",
    "\n",
    "    # visualize the difference between corrected and original points\n",
    "img = cv2.imread(img_with_marker_name)\n",
    "points_on_image_corrected = utils.get_keypoints_on_image(img, corrected_normalized_keypoints,camera_params)\n",
    "points_on_image = utils.get_keypoints_on_image(img,normalized_keypoints, camera_params)\n",
    "                                                                                                                                                                                                                                                                                                            \n",
    "img = cv2.imread(img_without_marker_name)\n",
    "show_image_with_points(img,points_on_image, \"no_correction\")\n",
    "\n",
    "img = cv2.imread(img_without_marker_name)\n",
    "show_image_with_points(img,points_on_image_corrected, \"correction points\")\n",
    "\n",
    "cv2.destroyAllWindows()"
   ]
  },
  {
   "cell_type": "code",
   "execution_count": 11,
   "id": "140d9f0b",
   "metadata": {},
   "outputs": [],
   "source": [
    "cv2.destroyAllWindows()"
   ]
  },
  {
   "cell_type": "code",
   "execution_count": null,
   "id": "5181f39b",
   "metadata": {},
   "outputs": [],
   "source": [
    "\n",
    "img = cv2.imread(img_with_marker_name)\n",
    "show_image_with_points(img,points_on_image, \"kpts_on_marker\")"
   ]
  },
  {
   "cell_type": "code",
   "execution_count": null,
   "id": "d45780b8",
   "metadata": {},
   "outputs": [],
   "source": [
    "import cv2\n",
    "import numpy as np\n",
    "\n",
    "source = np.float32([[0, 0], [100, 0], [100, 100], [0, 100]])\n",
    "dest = np.float32([[0, 34], [-1000,15], [-1000, -1000], [16, -1000]])\n",
    "\n",
    "points = np.float32([[[50, 50]]])\n",
    "\n",
    "homography, _ = cv2.findHomography(source, dest)\n",
    "print(homography)\n",
    "transformed = cv2.perspectiveTransform(points, homography)\n",
    "\n",
    "print(transformed)\n",
    "# => [[[-500. -500.]]]\n",
    "\n",
    "homography_inverse = np.linalg.inv(homography)\n",
    "print(homography_inverse)\n",
    "detransformed = cv2.perspectiveTransform(transformed, homography_inverse)\n",
    "print(homography@homography_inverse)\n",
    "print(detransformed)\n",
    "# => [[[50. 50.]]]"
   ]
  },
  {
   "cell_type": "code",
   "execution_count": null,
   "id": "821c509e",
   "metadata": {},
   "outputs": [],
   "source": [
    "# reserved data\n",
    "# from canny edge and hough circles\n",
    "anchor_ground_truth = np.array(\n",
    "    [[494.25,444.75,44.15],\n",
    "  [636.75,362.25,42.5],\n",
    "  [590.25,444.75,42.5],\n",
    "  [537.75,360.75,47.45],\n",
    "  [492.75,300.75,30.95],\n",
    "  [450.75, 366.75,39.2],\n",
    "  [582.75,299.25,30.95]])\n",
    "\n",
    "\n",
    "anchor_ground_truth = np.array(\n",
    "[(597, 349),\n",
    " (579, 325),\n",
    " (614, 324),\n",
    " (562, 350),\n",
    " (633, 349),\n",
    " (581, 380),\n",
    " (615, 379)])\n",
    "\n",
    "img = cv2.imread('marker.jpg')"
   ]
  },
  {
   "cell_type": "code",
   "execution_count": null,
   "id": "effd3b83",
   "metadata": {},
   "outputs": [],
   "source": []
  },
  {
   "cell_type": "code",
   "execution_count": null,
   "id": "1fdc2032",
   "metadata": {},
   "outputs": [],
   "source": []
  }
 ],
 "metadata": {
  "kernelspec": {
   "display_name": "Python 3.9.12 ('CameraCalibrationOptimize')",
   "language": "python",
   "name": "python3"
  },
  "language_info": {
   "codemirror_mode": {
    "name": "ipython",
    "version": 3
   },
   "file_extension": ".py",
   "mimetype": "text/x-python",
   "name": "python",
   "nbconvert_exporter": "python",
   "pygments_lexer": "ipython3",
   "version": "3.9.12"
  },
  "vscode": {
   "interpreter": {
    "hash": "0c3cb1b0a8cb3060a10896d3abefa7af7f3d40811c3ca0232af182ed56385980"
   }
  }
 },
 "nbformat": 4,
 "nbformat_minor": 5
}
